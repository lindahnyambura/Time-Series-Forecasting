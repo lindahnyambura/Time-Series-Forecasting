{
  "nbformat": 4,
  "nbformat_minor": 0,
  "metadata": {
    "colab": {
      "provenance": []
    },
    "kernelspec": {
      "name": "python3",
      "display_name": "Python 3"
    },
    "language_info": {
      "name": "python"
    }
  },
  "cells": [
    {
      "cell_type": "markdown",
      "source": [
        "# **Beijing Air Quality Forecasting**"
      ],
      "metadata": {
        "id": "NQ9Xpl1iFet2"
      }
    },
    {
      "cell_type": "markdown",
      "source": [
        "#### **Project Overview**\n",
        "\n",
        " This notebook records application of machine learning techniques, specifically Recurrent Neural Networks (RNNs) and Long Short-Term Memory (LSTM) models, to predict air pollution levels.\n",
        "\n",
        "#### **Problem:**\n",
        "\n",
        "Air pollution poses a significant global challenge, with PM2.5 among the most hazardous pollutants due to its capacity to infiltrate deep into the lungs and reach the bloodstream. Predicting PM2.5 levels with precision enables governments and communities to take proactive steps to enhance air quality and safeguard public health.\n",
        "\n",
        " - The goal is to a model that accurately forecasts PM2.5 concentrations (a key air quality measure) using historical air quality and weather data.\n"
      ],
      "metadata": {
        "id": "cbDxZHaJokn6"
      }
    },
    {
      "cell_type": "markdown",
      "source": [
        "### **Overall approach to the pipeline**\n",
        "\n",
        "- Time-Series Strategy: I use sliding-window sequences (24-hour lookback) to feed temporal context into models, preserving chronological order throughout training.\n",
        "\n",
        "- Justification for RNNs/LSTMs: RNN variants (LSTM, GRU) excel at capturing temporal dependencies and long-term patterns, which are critical for forecasting PM2.5 influenced by both recent and seasonal trends.\n",
        "\n",
        "**Exploratory Plan**:\n",
        "\n",
        "- Examine distribution and missingness of PM2.5 and meteorological features.\n",
        "\n",
        "- Visualize cyclical patterns (daily and weekly) to inform feature engineering.\n",
        "\n",
        "- Preprocessing Pipeline: As detailed above, combining advanced interpolation, cyclical encoding, rush-hour/weekend flags, robust scaling, and 24-hour sequencing.\n",
        "\n",
        "**Model Experimental Plan**:\n",
        "\n",
        "- Baseline: Simple single-layer LSTM to establish a performance floor.\n",
        "\n",
        "- Cell Variants: Replace LSTM with GRU to test training speed vs. accuracy trade-offs.\n",
        "\n",
        "- Bidirectionality: Explore bidirectional LSTM to capture both past and future context.\n",
        "\n",
        "- Hybrid Architectures: Add a CNN layer to extract local temporal features before LSTM.\n",
        "\n",
        "- Depth & Regularization: Stack multiple LSTM layers with dropout to increase representational capacity while controlling overfitting.\n",
        "\n",
        "- Hyperparameter Tuning: Adjust number of units, dropout rates, learning rates, and batch sizes using RMSE as the guiding metric."
      ],
      "metadata": {
        "id": "y59P6gwMQRRe"
      }
    },
    {
      "cell_type": "code",
      "execution_count": null,
      "metadata": {
        "colab": {
          "base_uri": "https://localhost:8080/"
        },
        "collapsed": true,
        "id": "UTYiKqBFExgK",
        "outputId": "f78cbf5d-d305-424b-8b28-42685676cfd7"
      },
      "outputs": [
        {
          "output_type": "stream",
          "name": "stdout",
          "text": [
            "Requirement already satisfied: kaggle in /usr/local/lib/python3.11/dist-packages (1.7.4.5)\n",
            "Requirement already satisfied: bleach in /usr/local/lib/python3.11/dist-packages (from kaggle) (6.2.0)\n",
            "Requirement already satisfied: certifi>=14.05.14 in /usr/local/lib/python3.11/dist-packages (from kaggle) (2025.4.26)\n",
            "Requirement already satisfied: charset-normalizer in /usr/local/lib/python3.11/dist-packages (from kaggle) (3.4.2)\n",
            "Requirement already satisfied: idna in /usr/local/lib/python3.11/dist-packages (from kaggle) (3.10)\n",
            "Requirement already satisfied: protobuf in /usr/local/lib/python3.11/dist-packages (from kaggle) (5.29.4)\n",
            "Requirement already satisfied: python-dateutil>=2.5.3 in /usr/local/lib/python3.11/dist-packages (from kaggle) (2.9.0.post0)\n",
            "Requirement already satisfied: python-slugify in /usr/local/lib/python3.11/dist-packages (from kaggle) (8.0.4)\n",
            "Requirement already satisfied: requests in /usr/local/lib/python3.11/dist-packages (from kaggle) (2.32.3)\n",
            "Requirement already satisfied: setuptools>=21.0.0 in /usr/local/lib/python3.11/dist-packages (from kaggle) (75.2.0)\n",
            "Requirement already satisfied: six>=1.10 in /usr/local/lib/python3.11/dist-packages (from kaggle) (1.17.0)\n",
            "Requirement already satisfied: text-unidecode in /usr/local/lib/python3.11/dist-packages (from kaggle) (1.3)\n",
            "Requirement already satisfied: tqdm in /usr/local/lib/python3.11/dist-packages (from kaggle) (4.67.1)\n",
            "Requirement already satisfied: urllib3>=1.15.1 in /usr/local/lib/python3.11/dist-packages (from kaggle) (2.4.0)\n",
            "Requirement already satisfied: webencodings in /usr/local/lib/python3.11/dist-packages (from kaggle) (0.5.1)\n",
            "mkdir: cannot create directory ‘/root/.kaggle’: File exists\n",
            "assignment-1-time-series-forecasting-may-2025.zip: Skipping, found more recently modified local copy (use --force to force download)\n",
            "mkdir: cannot create directory ‘/content/data’: File exists\n"
          ]
        }
      ],
      "source": [
        "! pip install kaggle\n",
        "! mkdir ~/.kaggle\n",
        "! cp kaggle.json ~/.kaggle/\n",
        "! chmod 600 ~/.kaggle/kaggle.json\n",
        "!kaggle competitions download -c assignment-1-time-series-forecasting-may-2025\n",
        "!mkdir '/content/data'\n",
        "!unzip -qo 'assignment-1-time-series-forecasting-may-2025.zip' -d '/content/data'"
      ]
    },
    {
      "cell_type": "markdown",
      "source": [
        "#### Libraries"
      ],
      "metadata": {
        "id": "oDsVeUXEGQwC"
      }
    },
    {
      "cell_type": "code",
      "source": [
        "import numpy as np\n",
        "import pandas as pd\n",
        "import matplotlib.pyplot as plt\n",
        "import seaborn as sns\n",
        "from sklearn.preprocessing import StandardScaler, RobustScaler\n",
        "from sklearn.metrics import mean_squared_error, mean_absolute_error\n",
        "from sklearn.model_selection import TimeSeriesSplit\n",
        "import tensorflow as tf\n",
        "from tensorflow.keras.models import Sequential, Model\n",
        "from tensorflow.keras.layers import (LSTM, GRU, Dense, Dropout, BatchNormalization,\n",
        "                                   Input, Bidirectional, Conv1D, MaxPooling1D,\n",
        "                                   Flatten, Concatenate, GlobalMaxPooling1D)\n",
        "from tensorflow.keras.optimizers import Adam, RMSprop\n",
        "from tensorflow.keras.callbacks import EarlyStopping, ReduceLROnPlateau, ModelCheckpoint\n",
        "from tensorflow.keras.regularizers import l1_l2\n",
        "import warnings\n",
        "warnings.filterwarnings('ignore')"
      ],
      "metadata": {
        "id": "aHIwW_BuGC8e"
      },
      "execution_count": null,
      "outputs": []
    },
    {
      "cell_type": "code",
      "source": [
        "np.random.seed(42)\n",
        "tf.random.set_seed(42)"
      ],
      "metadata": {
        "id": "7WyS57oMYXpk"
      },
      "execution_count": null,
      "outputs": []
    },
    {
      "cell_type": "markdown",
      "source": [
        "## Data Exploration, Preprocessing and Feature Engineering"
      ],
      "metadata": {
        "id": "7urGwX9pGunR"
      }
    },
    {
      "cell_type": "markdown",
      "source": [
        "**Data Visualizations are in a separate notebook**"
      ],
      "metadata": {
        "id": "mswVUgv2TFPD"
      }
    },
    {
      "cell_type": "code",
      "source": [
        "# file path\n",
        "train_path = '/content/data/train.csv'\n",
        "test_path = '/content/data/test.csv'\n",
        "\n",
        "# load data\n",
        "train_df = pd.read_csv(train_path)\n",
        "test_df = pd.read_csv(test_path)\n",
        "\n",
        "# convert datetime\n",
        "train_df['datetime'] = pd.to_datetime(train_df['datetime'])\n",
        "test_df.index = pd.to_datetime(test_df.index)\n",
        "\n",
        "# sort by datetime to ensure chronological order\n",
        "train_df = train_df.sort_values('datetime').reset_index(drop=True)\n",
        "test_df = test_df.sort_index()\n",
        "\n",
        "print(f\"Training data shape: {train_df.shape}\")\n",
        "print(f\"Test data shape: {test_df.shape}\")\n",
        "print(f\"Missing PM2.5 values in training: {train_df['pm2.5'].isna().sum()}\")"
      ],
      "metadata": {
        "colab": {
          "base_uri": "https://localhost:8080/"
        },
        "id": "OG0VjQBHGtvO",
        "outputId": "04fd5544-bcb7-42cd-f11f-d52d6dc9d223"
      },
      "execution_count": null,
      "outputs": [
        {
          "output_type": "stream",
          "name": "stdout",
          "text": [
            "Training data shape: (30676, 12)\n",
            "Test data shape: (13148, 11)\n",
            "Missing PM2.5 values in training: 1921\n"
          ]
        }
      ]
    },
    {
      "cell_type": "markdown",
      "source": [
        "### **Handling missing values and Creating temporal features**\n",
        "\n",
        "**Datetime Features**:\n",
        "- Adding temporal features like hour, day_of_week, month, and season helps the model capture cyclical patterns.\n",
        "\n",
        "- The cyclical encoding (sine and cosine transformations) is particularly effective for handling cyclical time features.\n",
        "\n",
        "\n",
        "**Advanced Interpolation:**\n",
        "- Weighted interpolation using weather similarity and temporal proximity ensures realistic PM2.5 estimates by leveraging contextual patterns (e.g., similar weather conditions at the same hour/day).\n",
        "\n",
        "**Seasonal Imputation:**\n",
        "- Grouping by month/hour to fill remaining gaps aligns with cyclical pollution trends (e.g., higher PM2.5 in winter due to heating)."
      ],
      "metadata": {
        "id": "q557-xjRlnID"
      }
    },
    {
      "source": [
        "# CREATING TEMPORAL FEATURES AND HANDLING MISSING VALUES\n",
        "\n",
        "# Process training data\n",
        "df = train_df.copy()\n",
        "datetime_col = 'datetime'\n",
        "\n",
        "# add temporal features to train_df copy\n",
        "if datetime_col in df.columns:\n",
        "  dt = pd.to_datetime(df[datetime_col])\n",
        "else:\n",
        "  dt = df.index\n",
        "\n",
        "# basic temporal features for training data\n",
        "df['hour'] = dt.dt.hour\n",
        "df['day_of_week'] = dt.dt.dayofweek\n",
        "df['month'] = dt.dt.month\n",
        "df['season'] = ((dt.dt.month % 12 + 3) // 3) - 1\n",
        "\n",
        "# cyclical encoding for training data\n",
        "df['hour_sin'] = np.sin(2 * np.pi * df['hour'] / 24)\n",
        "df['hour_cos'] = np.cos(2 * np.pi * df['hour'] / 24)\n",
        "df['day_sin'] = np.sin(2 * np.pi * df['day_of_week'] / 7)\n",
        "df['day_cos'] = np.cos(2 * np.pi * df['day_of_week'] / 7)\n",
        "df['month_sin'] = np.sin(2 * np.pi * df['month'] / 12)\n",
        "df['month_cos'] = np.cos(2 * np.pi * df['month'] / 12)\n",
        "\n",
        "# rush hour indicators for training data\n",
        "df['is_rush_hour'] = ((df['hour'].between(7, 9)) |\n",
        "                     (df['hour'].between(17, 19))).astype(int)\n",
        "df['is_weekend'] = (df['day_of_week'].isin([5, 6])).astype(int)\n",
        "\n",
        "\n",
        "# handling missing values on the same DataFrame (train_df copy)\n",
        "missing_mask = df['pm2.5'].isna()\n",
        "\n",
        "print(f\"Handling {missing_mask.sum()} missing PM2.5 values in training data...\")\n",
        "\n",
        "method = 'advanced_interpolation'\n",
        "\n",
        "if method == 'advanced_interpolation':\n",
        "  # use time aware interpolation with meteorological context\n",
        "  # make sure datetime is the index before interpolating\n",
        "  df = df.set_index('datetime')\n",
        "\n",
        "  # group by similar weather conditions for better interpolation\n",
        "  weather_features = ['TEMP', 'DEWP', 'PRES', 'Iws']\n",
        "\n",
        "  # try interpolation within similar weather conditions\n",
        "  for idx in df[df['pm2.5'].isna()].index:\n",
        "    # find similar weather conditions within 3 days\n",
        "    window_start = idx - pd.Timedelta(days=3)\n",
        "    window_end = idx + pd.Timedelta(days=3)\n",
        "    window_data = df.loc[window_start:window_end]\n",
        "\n",
        "    if not window_data.empty and not window_data['pm2.5'].isna().all():\n",
        "      # calculate weather similarity\n",
        "      current_weather = df.loc[idx, weather_features]\n",
        "      similar_conditions = window_data.dropna(subset=['pm2.5'])\n",
        "\n",
        "      if len(similar_conditions) > 0:\n",
        "        # weight by weather similarity and temporal distance\n",
        "        weather_distances = np.sqrt(((similar_conditions[weather_features] -\n",
        "                                   current_weather) ** 2).sum(axis=1))\n",
        "        time_distances = np.abs((similar_conditions.index - idx).total_seconds() / 3600)\n",
        "\n",
        "        # combined similarity score\n",
        "        weights = 1 / (1 + weather_distances + time_distances / 24)\n",
        "        weighted_pm25 = np.average(similar_conditions['pm2.5'], weights=weights)\n",
        "        df.loc[idx, 'pm2.5'] = weighted_pm25\n",
        "\n",
        "  # fill remaining missing values with seasonal patterns\n",
        "  # ensure 'month' and 'hour' columns exist before grouping\n",
        "  df['pm2.5'] = df.groupby(['month', 'hour'])['pm2.5'].transform(\n",
        "      lambda x: x.fillna(x.median())\n",
        "  )\n",
        "\n",
        "  # final interpolation for any remaining missing values\n",
        "  df['pm2.5'] = df['pm2.5'].interpolate(method='time', limit_direction='both')\n",
        "\n",
        "  df = df.reset_index()\n",
        "\n",
        "# display head of the processed training dataframe to verify\n",
        "print(\"Processed training data head:\")\n",
        "display(df.head())\n",
        "\n",
        "# Now, process the test data\n",
        "test_df_processed = test_df.copy()\n",
        "datetime_col = 'datetime'\n",
        "\n",
        "# add temporal features to test_df copy\n",
        "# The test_df index is already datetime, so we use test_df_processed.index\n",
        "dt_test = test_df_processed.index\n",
        "\n",
        "# basic temporal features for test data\n",
        "test_df_processed['hour'] = dt_test.hour\n",
        "test_df_processed['day_of_week'] = dt_test.dayofweek\n",
        "test_df_processed['month'] = dt_test.month\n",
        "test_df_processed['season'] = ((dt_test.month % 12 + 3) // 3) - 1\n",
        "\n",
        "# cyclical encoding for test data\n",
        "test_df_processed['hour_sin'] = np.sin(2 * np.pi * test_df_processed['hour'] / 24)\n",
        "test_df_processed['hour_cos'] = np.cos(2 * np.pi * test_df_processed['hour'] / 24)\n",
        "test_df_processed['day_sin'] = np.sin(2 * np.pi * test_df_processed['day_of_week'] / 7)\n",
        "test_df_processed['day_cos'] = np.cos(2 * np.pi * test_df_processed['day_of_week'] / 7)\n",
        "test_df_processed['month_sin'] = np.sin(2 * np.pi * test_df_processed['month'] / 12)\n",
        "test_df_processed['month_cos'] = np.cos(2 * np.pi * test_df_processed['month'] / 12)\n",
        "\n",
        "# rush hour indicators for test data\n",
        "test_df_processed['is_rush_hour'] = ((test_df_processed['hour'].between(7, 9)) |\n",
        "                     (test_df_processed['hour'].between(17, 19))).astype(int)\n",
        "test_df_processed['is_weekend'] = (test_df_processed['day_of_week'].isin([5, 6])).astype(int)\n",
        "\n",
        "\n",
        "print(\"\\nMissing values in test data before handling:\")\n",
        "print(test_df_processed.isnull().sum())\n",
        "\n",
        "# simple forward fill for any potential missing other features\n",
        "test_df_processed = test_df_processed.fillna(method='ffill')\n",
        "test_df_processed = test_df_processed.fillna(method='bfill') # Backfill for any remaining nans at the start\n",
        "\n",
        "print(\"\\nMissing values in test data after handling:\")\n",
        "print(test_df_processed.isnull().sum())\n",
        "\n",
        "\n",
        "# display head of the processed test dataframe to verify\n",
        "print(\"\\nProcessed test data head:\")\n",
        "display(test_df_processed.head())\n",
        "\n",
        "# Update the train_df variable to the processed version\n",
        "train_df = df.copy()\n",
        "\n",
        "# Update the test_df variable to the processed version\n",
        "test_df = test_df_processed.copy()"
      ],
      "cell_type": "code",
      "metadata": {
        "colab": {
          "base_uri": "https://localhost:8080/",
          "height": 1000
        },
        "collapsed": true,
        "id": "YK4po3diwsDL",
        "outputId": "b7f025dd-af04-4a5f-a87b-29fd55f6ecfa"
      },
      "execution_count": null,
      "outputs": [
        {
          "output_type": "stream",
          "name": "stdout",
          "text": [
            "Handling 1921 missing PM2.5 values in training data...\n",
            "Processed training data head:\n"
          ]
        },
        {
          "output_type": "display_data",
          "data": {
            "text/plain": [
              "             datetime  No      DEWP      TEMP      PRES       Iws        Is  \\\n",
              "0 2010-01-01 00:00:00   1 -1.580878 -1.922250  0.443328 -0.441894 -0.069353   \n",
              "1 2010-01-01 01:00:00   2 -1.580878 -2.004228  0.345943 -0.379306 -0.069353   \n",
              "2 2010-01-01 02:00:00   3 -1.580878 -1.922250  0.248559 -0.343514 -0.069353   \n",
              "3 2010-01-01 03:00:00   4 -1.580878 -2.168183  0.248559 -0.280926 -0.069353   \n",
              "4 2010-01-01 04:00:00   5 -1.511594 -2.004228  0.151174 -0.218339 -0.069353   \n",
              "\n",
              "         Ir   cbwd_NW   cbwd_SE  ...  month  season  hour_sin  hour_cos  \\\n",
              "0 -0.137667  1.448138 -0.732019  ...      1       0  0.000000  1.000000   \n",
              "1 -0.137667  1.448138 -0.732019  ...      1       0  0.258819  0.965926   \n",
              "2 -0.137667  1.448138 -0.732019  ...      1       0  0.500000  0.866025   \n",
              "3 -0.137667  1.448138 -0.732019  ...      1       0  0.707107  0.707107   \n",
              "4 -0.137667  1.448138 -0.732019  ...      1       0  0.866025  0.500000   \n",
              "\n",
              "    day_sin   day_cos  month_sin  month_cos  is_rush_hour  is_weekend  \n",
              "0 -0.433884 -0.900969        0.5   0.866025             0           0  \n",
              "1 -0.433884 -0.900969        0.5   0.866025             0           0  \n",
              "2 -0.433884 -0.900969        0.5   0.866025             0           0  \n",
              "3 -0.433884 -0.900969        0.5   0.866025             0           0  \n",
              "4 -0.433884 -0.900969        0.5   0.866025             0           0  \n",
              "\n",
              "[5 rows x 24 columns]"
            ],
            "text/html": [
              "\n",
              "  <div id=\"df-9d0de27d-e7ae-4b03-bc12-bd1dab2482d8\" class=\"colab-df-container\">\n",
              "    <div>\n",
              "<style scoped>\n",
              "    .dataframe tbody tr th:only-of-type {\n",
              "        vertical-align: middle;\n",
              "    }\n",
              "\n",
              "    .dataframe tbody tr th {\n",
              "        vertical-align: top;\n",
              "    }\n",
              "\n",
              "    .dataframe thead th {\n",
              "        text-align: right;\n",
              "    }\n",
              "</style>\n",
              "<table border=\"1\" class=\"dataframe\">\n",
              "  <thead>\n",
              "    <tr style=\"text-align: right;\">\n",
              "      <th></th>\n",
              "      <th>datetime</th>\n",
              "      <th>No</th>\n",
              "      <th>DEWP</th>\n",
              "      <th>TEMP</th>\n",
              "      <th>PRES</th>\n",
              "      <th>Iws</th>\n",
              "      <th>Is</th>\n",
              "      <th>Ir</th>\n",
              "      <th>cbwd_NW</th>\n",
              "      <th>cbwd_SE</th>\n",
              "      <th>...</th>\n",
              "      <th>month</th>\n",
              "      <th>season</th>\n",
              "      <th>hour_sin</th>\n",
              "      <th>hour_cos</th>\n",
              "      <th>day_sin</th>\n",
              "      <th>day_cos</th>\n",
              "      <th>month_sin</th>\n",
              "      <th>month_cos</th>\n",
              "      <th>is_rush_hour</th>\n",
              "      <th>is_weekend</th>\n",
              "    </tr>\n",
              "  </thead>\n",
              "  <tbody>\n",
              "    <tr>\n",
              "      <th>0</th>\n",
              "      <td>2010-01-01 00:00:00</td>\n",
              "      <td>1</td>\n",
              "      <td>-1.580878</td>\n",
              "      <td>-1.922250</td>\n",
              "      <td>0.443328</td>\n",
              "      <td>-0.441894</td>\n",
              "      <td>-0.069353</td>\n",
              "      <td>-0.137667</td>\n",
              "      <td>1.448138</td>\n",
              "      <td>-0.732019</td>\n",
              "      <td>...</td>\n",
              "      <td>1</td>\n",
              "      <td>0</td>\n",
              "      <td>0.000000</td>\n",
              "      <td>1.000000</td>\n",
              "      <td>-0.433884</td>\n",
              "      <td>-0.900969</td>\n",
              "      <td>0.5</td>\n",
              "      <td>0.866025</td>\n",
              "      <td>0</td>\n",
              "      <td>0</td>\n",
              "    </tr>\n",
              "    <tr>\n",
              "      <th>1</th>\n",
              "      <td>2010-01-01 01:00:00</td>\n",
              "      <td>2</td>\n",
              "      <td>-1.580878</td>\n",
              "      <td>-2.004228</td>\n",
              "      <td>0.345943</td>\n",
              "      <td>-0.379306</td>\n",
              "      <td>-0.069353</td>\n",
              "      <td>-0.137667</td>\n",
              "      <td>1.448138</td>\n",
              "      <td>-0.732019</td>\n",
              "      <td>...</td>\n",
              "      <td>1</td>\n",
              "      <td>0</td>\n",
              "      <td>0.258819</td>\n",
              "      <td>0.965926</td>\n",
              "      <td>-0.433884</td>\n",
              "      <td>-0.900969</td>\n",
              "      <td>0.5</td>\n",
              "      <td>0.866025</td>\n",
              "      <td>0</td>\n",
              "      <td>0</td>\n",
              "    </tr>\n",
              "    <tr>\n",
              "      <th>2</th>\n",
              "      <td>2010-01-01 02:00:00</td>\n",
              "      <td>3</td>\n",
              "      <td>-1.580878</td>\n",
              "      <td>-1.922250</td>\n",
              "      <td>0.248559</td>\n",
              "      <td>-0.343514</td>\n",
              "      <td>-0.069353</td>\n",
              "      <td>-0.137667</td>\n",
              "      <td>1.448138</td>\n",
              "      <td>-0.732019</td>\n",
              "      <td>...</td>\n",
              "      <td>1</td>\n",
              "      <td>0</td>\n",
              "      <td>0.500000</td>\n",
              "      <td>0.866025</td>\n",
              "      <td>-0.433884</td>\n",
              "      <td>-0.900969</td>\n",
              "      <td>0.5</td>\n",
              "      <td>0.866025</td>\n",
              "      <td>0</td>\n",
              "      <td>0</td>\n",
              "    </tr>\n",
              "    <tr>\n",
              "      <th>3</th>\n",
              "      <td>2010-01-01 03:00:00</td>\n",
              "      <td>4</td>\n",
              "      <td>-1.580878</td>\n",
              "      <td>-2.168183</td>\n",
              "      <td>0.248559</td>\n",
              "      <td>-0.280926</td>\n",
              "      <td>-0.069353</td>\n",
              "      <td>-0.137667</td>\n",
              "      <td>1.448138</td>\n",
              "      <td>-0.732019</td>\n",
              "      <td>...</td>\n",
              "      <td>1</td>\n",
              "      <td>0</td>\n",
              "      <td>0.707107</td>\n",
              "      <td>0.707107</td>\n",
              "      <td>-0.433884</td>\n",
              "      <td>-0.900969</td>\n",
              "      <td>0.5</td>\n",
              "      <td>0.866025</td>\n",
              "      <td>0</td>\n",
              "      <td>0</td>\n",
              "    </tr>\n",
              "    <tr>\n",
              "      <th>4</th>\n",
              "      <td>2010-01-01 04:00:00</td>\n",
              "      <td>5</td>\n",
              "      <td>-1.511594</td>\n",
              "      <td>-2.004228</td>\n",
              "      <td>0.151174</td>\n",
              "      <td>-0.218339</td>\n",
              "      <td>-0.069353</td>\n",
              "      <td>-0.137667</td>\n",
              "      <td>1.448138</td>\n",
              "      <td>-0.732019</td>\n",
              "      <td>...</td>\n",
              "      <td>1</td>\n",
              "      <td>0</td>\n",
              "      <td>0.866025</td>\n",
              "      <td>0.500000</td>\n",
              "      <td>-0.433884</td>\n",
              "      <td>-0.900969</td>\n",
              "      <td>0.5</td>\n",
              "      <td>0.866025</td>\n",
              "      <td>0</td>\n",
              "      <td>0</td>\n",
              "    </tr>\n",
              "  </tbody>\n",
              "</table>\n",
              "<p>5 rows × 24 columns</p>\n",
              "</div>\n",
              "    <div class=\"colab-df-buttons\">\n",
              "\n",
              "  <div class=\"colab-df-container\">\n",
              "    <button class=\"colab-df-convert\" onclick=\"convertToInteractive('df-9d0de27d-e7ae-4b03-bc12-bd1dab2482d8')\"\n",
              "            title=\"Convert this dataframe to an interactive table.\"\n",
              "            style=\"display:none;\">\n",
              "\n",
              "  <svg xmlns=\"http://www.w3.org/2000/svg\" height=\"24px\" viewBox=\"0 -960 960 960\">\n",
              "    <path d=\"M120-120v-720h720v720H120Zm60-500h600v-160H180v160Zm220 220h160v-160H400v160Zm0 220h160v-160H400v160ZM180-400h160v-160H180v160Zm440 0h160v-160H620v160ZM180-180h160v-160H180v160Zm440 0h160v-160H620v160Z\"/>\n",
              "  </svg>\n",
              "    </button>\n",
              "\n",
              "  <style>\n",
              "    .colab-df-container {\n",
              "      display:flex;\n",
              "      gap: 12px;\n",
              "    }\n",
              "\n",
              "    .colab-df-convert {\n",
              "      background-color: #E8F0FE;\n",
              "      border: none;\n",
              "      border-radius: 50%;\n",
              "      cursor: pointer;\n",
              "      display: none;\n",
              "      fill: #1967D2;\n",
              "      height: 32px;\n",
              "      padding: 0 0 0 0;\n",
              "      width: 32px;\n",
              "    }\n",
              "\n",
              "    .colab-df-convert:hover {\n",
              "      background-color: #E2EBFA;\n",
              "      box-shadow: 0px 1px 2px rgba(60, 64, 67, 0.3), 0px 1px 3px 1px rgba(60, 64, 67, 0.15);\n",
              "      fill: #174EA6;\n",
              "    }\n",
              "\n",
              "    .colab-df-buttons div {\n",
              "      margin-bottom: 4px;\n",
              "    }\n",
              "\n",
              "    [theme=dark] .colab-df-convert {\n",
              "      background-color: #3B4455;\n",
              "      fill: #D2E3FC;\n",
              "    }\n",
              "\n",
              "    [theme=dark] .colab-df-convert:hover {\n",
              "      background-color: #434B5C;\n",
              "      box-shadow: 0px 1px 3px 1px rgba(0, 0, 0, 0.15);\n",
              "      filter: drop-shadow(0px 1px 2px rgba(0, 0, 0, 0.3));\n",
              "      fill: #FFFFFF;\n",
              "    }\n",
              "  </style>\n",
              "\n",
              "    <script>\n",
              "      const buttonEl =\n",
              "        document.querySelector('#df-9d0de27d-e7ae-4b03-bc12-bd1dab2482d8 button.colab-df-convert');\n",
              "      buttonEl.style.display =\n",
              "        google.colab.kernel.accessAllowed ? 'block' : 'none';\n",
              "\n",
              "      async function convertToInteractive(key) {\n",
              "        const element = document.querySelector('#df-9d0de27d-e7ae-4b03-bc12-bd1dab2482d8');\n",
              "        const dataTable =\n",
              "          await google.colab.kernel.invokeFunction('convertToInteractive',\n",
              "                                                    [key], {});\n",
              "        if (!dataTable) return;\n",
              "\n",
              "        const docLinkHtml = 'Like what you see? Visit the ' +\n",
              "          '<a target=\"_blank\" href=https://colab.research.google.com/notebooks/data_table.ipynb>data table notebook</a>'\n",
              "          + ' to learn more about interactive tables.';\n",
              "        element.innerHTML = '';\n",
              "        dataTable['output_type'] = 'display_data';\n",
              "        await google.colab.output.renderOutput(dataTable, element);\n",
              "        const docLink = document.createElement('div');\n",
              "        docLink.innerHTML = docLinkHtml;\n",
              "        element.appendChild(docLink);\n",
              "      }\n",
              "    </script>\n",
              "  </div>\n",
              "\n",
              "\n",
              "    <div id=\"df-b61ee97d-e978-45ab-8ac5-8b99305960fd\">\n",
              "      <button class=\"colab-df-quickchart\" onclick=\"quickchart('df-b61ee97d-e978-45ab-8ac5-8b99305960fd')\"\n",
              "                title=\"Suggest charts\"\n",
              "                style=\"display:none;\">\n",
              "\n",
              "<svg xmlns=\"http://www.w3.org/2000/svg\" height=\"24px\"viewBox=\"0 0 24 24\"\n",
              "     width=\"24px\">\n",
              "    <g>\n",
              "        <path d=\"M19 3H5c-1.1 0-2 .9-2 2v14c0 1.1.9 2 2 2h14c1.1 0 2-.9 2-2V5c0-1.1-.9-2-2-2zM9 17H7v-7h2v7zm4 0h-2V7h2v10zm4 0h-2v-4h2v4z\"/>\n",
              "    </g>\n",
              "</svg>\n",
              "      </button>\n",
              "\n",
              "<style>\n",
              "  .colab-df-quickchart {\n",
              "      --bg-color: #E8F0FE;\n",
              "      --fill-color: #1967D2;\n",
              "      --hover-bg-color: #E2EBFA;\n",
              "      --hover-fill-color: #174EA6;\n",
              "      --disabled-fill-color: #AAA;\n",
              "      --disabled-bg-color: #DDD;\n",
              "  }\n",
              "\n",
              "  [theme=dark] .colab-df-quickchart {\n",
              "      --bg-color: #3B4455;\n",
              "      --fill-color: #D2E3FC;\n",
              "      --hover-bg-color: #434B5C;\n",
              "      --hover-fill-color: #FFFFFF;\n",
              "      --disabled-bg-color: #3B4455;\n",
              "      --disabled-fill-color: #666;\n",
              "  }\n",
              "\n",
              "  .colab-df-quickchart {\n",
              "    background-color: var(--bg-color);\n",
              "    border: none;\n",
              "    border-radius: 50%;\n",
              "    cursor: pointer;\n",
              "    display: none;\n",
              "    fill: var(--fill-color);\n",
              "    height: 32px;\n",
              "    padding: 0;\n",
              "    width: 32px;\n",
              "  }\n",
              "\n",
              "  .colab-df-quickchart:hover {\n",
              "    background-color: var(--hover-bg-color);\n",
              "    box-shadow: 0 1px 2px rgba(60, 64, 67, 0.3), 0 1px 3px 1px rgba(60, 64, 67, 0.15);\n",
              "    fill: var(--button-hover-fill-color);\n",
              "  }\n",
              "\n",
              "  .colab-df-quickchart-complete:disabled,\n",
              "  .colab-df-quickchart-complete:disabled:hover {\n",
              "    background-color: var(--disabled-bg-color);\n",
              "    fill: var(--disabled-fill-color);\n",
              "    box-shadow: none;\n",
              "  }\n",
              "\n",
              "  .colab-df-spinner {\n",
              "    border: 2px solid var(--fill-color);\n",
              "    border-color: transparent;\n",
              "    border-bottom-color: var(--fill-color);\n",
              "    animation:\n",
              "      spin 1s steps(1) infinite;\n",
              "  }\n",
              "\n",
              "  @keyframes spin {\n",
              "    0% {\n",
              "      border-color: transparent;\n",
              "      border-bottom-color: var(--fill-color);\n",
              "      border-left-color: var(--fill-color);\n",
              "    }\n",
              "    20% {\n",
              "      border-color: transparent;\n",
              "      border-left-color: var(--fill-color);\n",
              "      border-top-color: var(--fill-color);\n",
              "    }\n",
              "    30% {\n",
              "      border-color: transparent;\n",
              "      border-left-color: var(--fill-color);\n",
              "      border-top-color: var(--fill-color);\n",
              "      border-right-color: var(--fill-color);\n",
              "    }\n",
              "    40% {\n",
              "      border-color: transparent;\n",
              "      border-right-color: var(--fill-color);\n",
              "      border-top-color: var(--fill-color);\n",
              "    }\n",
              "    60% {\n",
              "      border-color: transparent;\n",
              "      border-right-color: var(--fill-color);\n",
              "    }\n",
              "    80% {\n",
              "      border-color: transparent;\n",
              "      border-right-color: var(--fill-color);\n",
              "      border-bottom-color: var(--fill-color);\n",
              "    }\n",
              "    90% {\n",
              "      border-color: transparent;\n",
              "      border-bottom-color: var(--fill-color);\n",
              "    }\n",
              "  }\n",
              "</style>\n",
              "\n",
              "      <script>\n",
              "        async function quickchart(key) {\n",
              "          const quickchartButtonEl =\n",
              "            document.querySelector('#' + key + ' button');\n",
              "          quickchartButtonEl.disabled = true;  // To prevent multiple clicks.\n",
              "          quickchartButtonEl.classList.add('colab-df-spinner');\n",
              "          try {\n",
              "            const charts = await google.colab.kernel.invokeFunction(\n",
              "                'suggestCharts', [key], {});\n",
              "          } catch (error) {\n",
              "            console.error('Error during call to suggestCharts:', error);\n",
              "          }\n",
              "          quickchartButtonEl.classList.remove('colab-df-spinner');\n",
              "          quickchartButtonEl.classList.add('colab-df-quickchart-complete');\n",
              "        }\n",
              "        (() => {\n",
              "          let quickchartButtonEl =\n",
              "            document.querySelector('#df-b61ee97d-e978-45ab-8ac5-8b99305960fd button');\n",
              "          quickchartButtonEl.style.display =\n",
              "            google.colab.kernel.accessAllowed ? 'block' : 'none';\n",
              "        })();\n",
              "      </script>\n",
              "    </div>\n",
              "\n",
              "    </div>\n",
              "  </div>\n"
            ],
            "application/vnd.google.colaboratory.intrinsic+json": {
              "type": "dataframe"
            }
          },
          "metadata": {}
        },
        {
          "output_type": "stream",
          "name": "stdout",
          "text": [
            "\n",
            "Missing values in test data before handling:\n",
            "No              0\n",
            "DEWP            0\n",
            "TEMP            0\n",
            "PRES            0\n",
            "Iws             0\n",
            "Is              0\n",
            "Ir              0\n",
            "datetime        0\n",
            "cbwd_NW         0\n",
            "cbwd_SE         0\n",
            "cbwd_cv         0\n",
            "hour            0\n",
            "day_of_week     0\n",
            "month           0\n",
            "season          0\n",
            "hour_sin        0\n",
            "hour_cos        0\n",
            "day_sin         0\n",
            "day_cos         0\n",
            "month_sin       0\n",
            "month_cos       0\n",
            "is_rush_hour    0\n",
            "is_weekend      0\n",
            "dtype: int64\n",
            "\n",
            "Missing values in test data after handling:\n",
            "No              0\n",
            "DEWP            0\n",
            "TEMP            0\n",
            "PRES            0\n",
            "Iws             0\n",
            "Is              0\n",
            "Ir              0\n",
            "datetime        0\n",
            "cbwd_NW         0\n",
            "cbwd_SE         0\n",
            "cbwd_cv         0\n",
            "hour            0\n",
            "day_of_week     0\n",
            "month           0\n",
            "season          0\n",
            "hour_sin        0\n",
            "hour_cos        0\n",
            "day_sin         0\n",
            "day_cos         0\n",
            "month_sin       0\n",
            "month_cos       0\n",
            "is_rush_hour    0\n",
            "is_weekend      0\n",
            "dtype: int64\n",
            "\n",
            "Processed test data head:\n"
          ]
        },
        {
          "output_type": "display_data",
          "data": {
            "text/plain": [
              "                                  No      DEWP      TEMP      PRES       Iws  \\\n",
              "1970-01-01 00:00:00.000000000  30677  1.190496  0.701029 -2.186052 -0.003982   \n",
              "1970-01-01 00:00:00.000000001  30678  1.121211  0.619051 -2.186052  0.031811   \n",
              "1970-01-01 00:00:00.000000002  30679  1.190496  0.783006 -2.186052  0.094398   \n",
              "1970-01-01 00:00:00.000000003  30680  1.190496  0.946961 -2.088668  0.174782   \n",
              "1970-01-01 00:00:00.000000004  30681  1.190496  1.192893 -1.991283  0.210575   \n",
              "\n",
              "                                     Is        Ir             datetime  \\\n",
              "1970-01-01 00:00:00.000000000 -0.069353 -0.137667  2013-07-02 04:00:00   \n",
              "1970-01-01 00:00:00.000000001 -0.069353 -0.137667  2013-07-02 05:00:00   \n",
              "1970-01-01 00:00:00.000000002 -0.069353 -0.137667  2013-07-02 06:00:00   \n",
              "1970-01-01 00:00:00.000000003 -0.069353 -0.137667  2013-07-02 07:00:00   \n",
              "1970-01-01 00:00:00.000000004 -0.069353 -0.137667  2013-07-02 08:00:00   \n",
              "\n",
              "                                cbwd_NW   cbwd_SE  ...  month  season  \\\n",
              "1970-01-01 00:00:00.000000000  1.448138 -0.732019  ...      1       0   \n",
              "1970-01-01 00:00:00.000000001  1.448138 -0.732019  ...      1       0   \n",
              "1970-01-01 00:00:00.000000002  1.448138 -0.732019  ...      1       0   \n",
              "1970-01-01 00:00:00.000000003  1.448138 -0.732019  ...      1       0   \n",
              "1970-01-01 00:00:00.000000004  1.448138 -0.732019  ...      1       0   \n",
              "\n",
              "                               hour_sin  hour_cos   day_sin   day_cos  \\\n",
              "1970-01-01 00:00:00.000000000       0.0       1.0  0.433884 -0.900969   \n",
              "1970-01-01 00:00:00.000000001       0.0       1.0  0.433884 -0.900969   \n",
              "1970-01-01 00:00:00.000000002       0.0       1.0  0.433884 -0.900969   \n",
              "1970-01-01 00:00:00.000000003       0.0       1.0  0.433884 -0.900969   \n",
              "1970-01-01 00:00:00.000000004       0.0       1.0  0.433884 -0.900969   \n",
              "\n",
              "                               month_sin  month_cos  is_rush_hour  is_weekend  \n",
              "1970-01-01 00:00:00.000000000        0.5   0.866025             0           0  \n",
              "1970-01-01 00:00:00.000000001        0.5   0.866025             0           0  \n",
              "1970-01-01 00:00:00.000000002        0.5   0.866025             0           0  \n",
              "1970-01-01 00:00:00.000000003        0.5   0.866025             0           0  \n",
              "1970-01-01 00:00:00.000000004        0.5   0.866025             0           0  \n",
              "\n",
              "[5 rows x 23 columns]"
            ],
            "text/html": [
              "\n",
              "  <div id=\"df-8488af17-d5e2-4777-a3f9-8794714bfd1b\" class=\"colab-df-container\">\n",
              "    <div>\n",
              "<style scoped>\n",
              "    .dataframe tbody tr th:only-of-type {\n",
              "        vertical-align: middle;\n",
              "    }\n",
              "\n",
              "    .dataframe tbody tr th {\n",
              "        vertical-align: top;\n",
              "    }\n",
              "\n",
              "    .dataframe thead th {\n",
              "        text-align: right;\n",
              "    }\n",
              "</style>\n",
              "<table border=\"1\" class=\"dataframe\">\n",
              "  <thead>\n",
              "    <tr style=\"text-align: right;\">\n",
              "      <th></th>\n",
              "      <th>No</th>\n",
              "      <th>DEWP</th>\n",
              "      <th>TEMP</th>\n",
              "      <th>PRES</th>\n",
              "      <th>Iws</th>\n",
              "      <th>Is</th>\n",
              "      <th>Ir</th>\n",
              "      <th>datetime</th>\n",
              "      <th>cbwd_NW</th>\n",
              "      <th>cbwd_SE</th>\n",
              "      <th>...</th>\n",
              "      <th>month</th>\n",
              "      <th>season</th>\n",
              "      <th>hour_sin</th>\n",
              "      <th>hour_cos</th>\n",
              "      <th>day_sin</th>\n",
              "      <th>day_cos</th>\n",
              "      <th>month_sin</th>\n",
              "      <th>month_cos</th>\n",
              "      <th>is_rush_hour</th>\n",
              "      <th>is_weekend</th>\n",
              "    </tr>\n",
              "  </thead>\n",
              "  <tbody>\n",
              "    <tr>\n",
              "      <th>1970-01-01 00:00:00.000000000</th>\n",
              "      <td>30677</td>\n",
              "      <td>1.190496</td>\n",
              "      <td>0.701029</td>\n",
              "      <td>-2.186052</td>\n",
              "      <td>-0.003982</td>\n",
              "      <td>-0.069353</td>\n",
              "      <td>-0.137667</td>\n",
              "      <td>2013-07-02 04:00:00</td>\n",
              "      <td>1.448138</td>\n",
              "      <td>-0.732019</td>\n",
              "      <td>...</td>\n",
              "      <td>1</td>\n",
              "      <td>0</td>\n",
              "      <td>0.0</td>\n",
              "      <td>1.0</td>\n",
              "      <td>0.433884</td>\n",
              "      <td>-0.900969</td>\n",
              "      <td>0.5</td>\n",
              "      <td>0.866025</td>\n",
              "      <td>0</td>\n",
              "      <td>0</td>\n",
              "    </tr>\n",
              "    <tr>\n",
              "      <th>1970-01-01 00:00:00.000000001</th>\n",
              "      <td>30678</td>\n",
              "      <td>1.121211</td>\n",
              "      <td>0.619051</td>\n",
              "      <td>-2.186052</td>\n",
              "      <td>0.031811</td>\n",
              "      <td>-0.069353</td>\n",
              "      <td>-0.137667</td>\n",
              "      <td>2013-07-02 05:00:00</td>\n",
              "      <td>1.448138</td>\n",
              "      <td>-0.732019</td>\n",
              "      <td>...</td>\n",
              "      <td>1</td>\n",
              "      <td>0</td>\n",
              "      <td>0.0</td>\n",
              "      <td>1.0</td>\n",
              "      <td>0.433884</td>\n",
              "      <td>-0.900969</td>\n",
              "      <td>0.5</td>\n",
              "      <td>0.866025</td>\n",
              "      <td>0</td>\n",
              "      <td>0</td>\n",
              "    </tr>\n",
              "    <tr>\n",
              "      <th>1970-01-01 00:00:00.000000002</th>\n",
              "      <td>30679</td>\n",
              "      <td>1.190496</td>\n",
              "      <td>0.783006</td>\n",
              "      <td>-2.186052</td>\n",
              "      <td>0.094398</td>\n",
              "      <td>-0.069353</td>\n",
              "      <td>-0.137667</td>\n",
              "      <td>2013-07-02 06:00:00</td>\n",
              "      <td>1.448138</td>\n",
              "      <td>-0.732019</td>\n",
              "      <td>...</td>\n",
              "      <td>1</td>\n",
              "      <td>0</td>\n",
              "      <td>0.0</td>\n",
              "      <td>1.0</td>\n",
              "      <td>0.433884</td>\n",
              "      <td>-0.900969</td>\n",
              "      <td>0.5</td>\n",
              "      <td>0.866025</td>\n",
              "      <td>0</td>\n",
              "      <td>0</td>\n",
              "    </tr>\n",
              "    <tr>\n",
              "      <th>1970-01-01 00:00:00.000000003</th>\n",
              "      <td>30680</td>\n",
              "      <td>1.190496</td>\n",
              "      <td>0.946961</td>\n",
              "      <td>-2.088668</td>\n",
              "      <td>0.174782</td>\n",
              "      <td>-0.069353</td>\n",
              "      <td>-0.137667</td>\n",
              "      <td>2013-07-02 07:00:00</td>\n",
              "      <td>1.448138</td>\n",
              "      <td>-0.732019</td>\n",
              "      <td>...</td>\n",
              "      <td>1</td>\n",
              "      <td>0</td>\n",
              "      <td>0.0</td>\n",
              "      <td>1.0</td>\n",
              "      <td>0.433884</td>\n",
              "      <td>-0.900969</td>\n",
              "      <td>0.5</td>\n",
              "      <td>0.866025</td>\n",
              "      <td>0</td>\n",
              "      <td>0</td>\n",
              "    </tr>\n",
              "    <tr>\n",
              "      <th>1970-01-01 00:00:00.000000004</th>\n",
              "      <td>30681</td>\n",
              "      <td>1.190496</td>\n",
              "      <td>1.192893</td>\n",
              "      <td>-1.991283</td>\n",
              "      <td>0.210575</td>\n",
              "      <td>-0.069353</td>\n",
              "      <td>-0.137667</td>\n",
              "      <td>2013-07-02 08:00:00</td>\n",
              "      <td>1.448138</td>\n",
              "      <td>-0.732019</td>\n",
              "      <td>...</td>\n",
              "      <td>1</td>\n",
              "      <td>0</td>\n",
              "      <td>0.0</td>\n",
              "      <td>1.0</td>\n",
              "      <td>0.433884</td>\n",
              "      <td>-0.900969</td>\n",
              "      <td>0.5</td>\n",
              "      <td>0.866025</td>\n",
              "      <td>0</td>\n",
              "      <td>0</td>\n",
              "    </tr>\n",
              "  </tbody>\n",
              "</table>\n",
              "<p>5 rows × 23 columns</p>\n",
              "</div>\n",
              "    <div class=\"colab-df-buttons\">\n",
              "\n",
              "  <div class=\"colab-df-container\">\n",
              "    <button class=\"colab-df-convert\" onclick=\"convertToInteractive('df-8488af17-d5e2-4777-a3f9-8794714bfd1b')\"\n",
              "            title=\"Convert this dataframe to an interactive table.\"\n",
              "            style=\"display:none;\">\n",
              "\n",
              "  <svg xmlns=\"http://www.w3.org/2000/svg\" height=\"24px\" viewBox=\"0 -960 960 960\">\n",
              "    <path d=\"M120-120v-720h720v720H120Zm60-500h600v-160H180v160Zm220 220h160v-160H400v160Zm0 220h160v-160H400v160ZM180-400h160v-160H180v160Zm440 0h160v-160H620v160ZM180-180h160v-160H180v160Zm440 0h160v-160H620v160Z\"/>\n",
              "  </svg>\n",
              "    </button>\n",
              "\n",
              "  <style>\n",
              "    .colab-df-container {\n",
              "      display:flex;\n",
              "      gap: 12px;\n",
              "    }\n",
              "\n",
              "    .colab-df-convert {\n",
              "      background-color: #E8F0FE;\n",
              "      border: none;\n",
              "      border-radius: 50%;\n",
              "      cursor: pointer;\n",
              "      display: none;\n",
              "      fill: #1967D2;\n",
              "      height: 32px;\n",
              "      padding: 0 0 0 0;\n",
              "      width: 32px;\n",
              "    }\n",
              "\n",
              "    .colab-df-convert:hover {\n",
              "      background-color: #E2EBFA;\n",
              "      box-shadow: 0px 1px 2px rgba(60, 64, 67, 0.3), 0px 1px 3px 1px rgba(60, 64, 67, 0.15);\n",
              "      fill: #174EA6;\n",
              "    }\n",
              "\n",
              "    .colab-df-buttons div {\n",
              "      margin-bottom: 4px;\n",
              "    }\n",
              "\n",
              "    [theme=dark] .colab-df-convert {\n",
              "      background-color: #3B4455;\n",
              "      fill: #D2E3FC;\n",
              "    }\n",
              "\n",
              "    [theme=dark] .colab-df-convert:hover {\n",
              "      background-color: #434B5C;\n",
              "      box-shadow: 0px 1px 3px 1px rgba(0, 0, 0, 0.15);\n",
              "      filter: drop-shadow(0px 1px 2px rgba(0, 0, 0, 0.3));\n",
              "      fill: #FFFFFF;\n",
              "    }\n",
              "  </style>\n",
              "\n",
              "    <script>\n",
              "      const buttonEl =\n",
              "        document.querySelector('#df-8488af17-d5e2-4777-a3f9-8794714bfd1b button.colab-df-convert');\n",
              "      buttonEl.style.display =\n",
              "        google.colab.kernel.accessAllowed ? 'block' : 'none';\n",
              "\n",
              "      async function convertToInteractive(key) {\n",
              "        const element = document.querySelector('#df-8488af17-d5e2-4777-a3f9-8794714bfd1b');\n",
              "        const dataTable =\n",
              "          await google.colab.kernel.invokeFunction('convertToInteractive',\n",
              "                                                    [key], {});\n",
              "        if (!dataTable) return;\n",
              "\n",
              "        const docLinkHtml = 'Like what you see? Visit the ' +\n",
              "          '<a target=\"_blank\" href=https://colab.research.google.com/notebooks/data_table.ipynb>data table notebook</a>'\n",
              "          + ' to learn more about interactive tables.';\n",
              "        element.innerHTML = '';\n",
              "        dataTable['output_type'] = 'display_data';\n",
              "        await google.colab.output.renderOutput(dataTable, element);\n",
              "        const docLink = document.createElement('div');\n",
              "        docLink.innerHTML = docLinkHtml;\n",
              "        element.appendChild(docLink);\n",
              "      }\n",
              "    </script>\n",
              "  </div>\n",
              "\n",
              "\n",
              "    <div id=\"df-bf3dc5a2-f973-410b-be77-53b6bd76901f\">\n",
              "      <button class=\"colab-df-quickchart\" onclick=\"quickchart('df-bf3dc5a2-f973-410b-be77-53b6bd76901f')\"\n",
              "                title=\"Suggest charts\"\n",
              "                style=\"display:none;\">\n",
              "\n",
              "<svg xmlns=\"http://www.w3.org/2000/svg\" height=\"24px\"viewBox=\"0 0 24 24\"\n",
              "     width=\"24px\">\n",
              "    <g>\n",
              "        <path d=\"M19 3H5c-1.1 0-2 .9-2 2v14c0 1.1.9 2 2 2h14c1.1 0 2-.9 2-2V5c0-1.1-.9-2-2-2zM9 17H7v-7h2v7zm4 0h-2V7h2v10zm4 0h-2v-4h2v4z\"/>\n",
              "    </g>\n",
              "</svg>\n",
              "      </button>\n",
              "\n",
              "<style>\n",
              "  .colab-df-quickchart {\n",
              "      --bg-color: #E8F0FE;\n",
              "      --fill-color: #1967D2;\n",
              "      --hover-bg-color: #E2EBFA;\n",
              "      --hover-fill-color: #174EA6;\n",
              "      --disabled-fill-color: #AAA;\n",
              "      --disabled-bg-color: #DDD;\n",
              "  }\n",
              "\n",
              "  [theme=dark] .colab-df-quickchart {\n",
              "      --bg-color: #3B4455;\n",
              "      --fill-color: #D2E3FC;\n",
              "      --hover-bg-color: #434B5C;\n",
              "      --hover-fill-color: #FFFFFF;\n",
              "      --disabled-bg-color: #3B4455;\n",
              "      --disabled-fill-color: #666;\n",
              "  }\n",
              "\n",
              "  .colab-df-quickchart {\n",
              "    background-color: var(--bg-color);\n",
              "    border: none;\n",
              "    border-radius: 50%;\n",
              "    cursor: pointer;\n",
              "    display: none;\n",
              "    fill: var(--fill-color);\n",
              "    height: 32px;\n",
              "    padding: 0;\n",
              "    width: 32px;\n",
              "  }\n",
              "\n",
              "  .colab-df-quickchart:hover {\n",
              "    background-color: var(--hover-bg-color);\n",
              "    box-shadow: 0 1px 2px rgba(60, 64, 67, 0.3), 0 1px 3px 1px rgba(60, 64, 67, 0.15);\n",
              "    fill: var(--button-hover-fill-color);\n",
              "  }\n",
              "\n",
              "  .colab-df-quickchart-complete:disabled,\n",
              "  .colab-df-quickchart-complete:disabled:hover {\n",
              "    background-color: var(--disabled-bg-color);\n",
              "    fill: var(--disabled-fill-color);\n",
              "    box-shadow: none;\n",
              "  }\n",
              "\n",
              "  .colab-df-spinner {\n",
              "    border: 2px solid var(--fill-color);\n",
              "    border-color: transparent;\n",
              "    border-bottom-color: var(--fill-color);\n",
              "    animation:\n",
              "      spin 1s steps(1) infinite;\n",
              "  }\n",
              "\n",
              "  @keyframes spin {\n",
              "    0% {\n",
              "      border-color: transparent;\n",
              "      border-bottom-color: var(--fill-color);\n",
              "      border-left-color: var(--fill-color);\n",
              "    }\n",
              "    20% {\n",
              "      border-color: transparent;\n",
              "      border-left-color: var(--fill-color);\n",
              "      border-top-color: var(--fill-color);\n",
              "    }\n",
              "    30% {\n",
              "      border-color: transparent;\n",
              "      border-left-color: var(--fill-color);\n",
              "      border-top-color: var(--fill-color);\n",
              "      border-right-color: var(--fill-color);\n",
              "    }\n",
              "    40% {\n",
              "      border-color: transparent;\n",
              "      border-right-color: var(--fill-color);\n",
              "      border-top-color: var(--fill-color);\n",
              "    }\n",
              "    60% {\n",
              "      border-color: transparent;\n",
              "      border-right-color: var(--fill-color);\n",
              "    }\n",
              "    80% {\n",
              "      border-color: transparent;\n",
              "      border-right-color: var(--fill-color);\n",
              "      border-bottom-color: var(--fill-color);\n",
              "    }\n",
              "    90% {\n",
              "      border-color: transparent;\n",
              "      border-bottom-color: var(--fill-color);\n",
              "    }\n",
              "  }\n",
              "</style>\n",
              "\n",
              "      <script>\n",
              "        async function quickchart(key) {\n",
              "          const quickchartButtonEl =\n",
              "            document.querySelector('#' + key + ' button');\n",
              "          quickchartButtonEl.disabled = true;  // To prevent multiple clicks.\n",
              "          quickchartButtonEl.classList.add('colab-df-spinner');\n",
              "          try {\n",
              "            const charts = await google.colab.kernel.invokeFunction(\n",
              "                'suggestCharts', [key], {});\n",
              "          } catch (error) {\n",
              "            console.error('Error during call to suggestCharts:', error);\n",
              "          }\n",
              "          quickchartButtonEl.classList.remove('colab-df-spinner');\n",
              "          quickchartButtonEl.classList.add('colab-df-quickchart-complete');\n",
              "        }\n",
              "        (() => {\n",
              "          let quickchartButtonEl =\n",
              "            document.querySelector('#df-bf3dc5a2-f973-410b-be77-53b6bd76901f button');\n",
              "          quickchartButtonEl.style.display =\n",
              "            google.colab.kernel.accessAllowed ? 'block' : 'none';\n",
              "        })();\n",
              "      </script>\n",
              "    </div>\n",
              "\n",
              "    </div>\n",
              "  </div>\n"
            ],
            "application/vnd.google.colaboratory.intrinsic+json": {
              "type": "dataframe"
            }
          },
          "metadata": {}
        }
      ]
    },
    {
      "cell_type": "markdown",
      "source": [
        "### **Scaling**\n",
        "\n",
        "**RobustScaler** reduces outlier impact, critical for meteorological features like wind speed (Iws) and pressure (PRES)."
      ],
      "metadata": {
        "id": "kZSbAGfNmo7V"
      }
    },
    {
      "cell_type": "code",
      "source": [
        "# SCALING\n",
        "\n",
        "# reset index and rename the first column to \"datetime\"\n",
        "test_df = test_df.reset_index(drop=True)\n",
        "if test_df.columns[0] != 'datetime':\n",
        "    test_df.rename(columns={test_df.columns[0]: 'datetime'}, inplace=True)\n",
        "\n",
        "# Identify feature columns (exclude the non-feature columns: 'No', 'datetime', and 'pm2.5')\n",
        "feature_cols = [col for col in train_df.columns if col not in ['No', 'datetime', 'pm2.5']]\n",
        "print(\"Scaling feature columns:\", feature_cols)\n",
        "\n",
        "feature_scaler = RobustScaler()\n",
        "target_scaler = RobustScaler()\n",
        "\n",
        "# Fit scalers on the training data and transform both sets\n",
        "train_df[feature_cols] = feature_scaler.fit_transform(train_df[feature_cols])\n",
        "train_df[['pm2.5']] = target_scaler.fit_transform(train_df[['pm2.5']])\n",
        "test_df[feature_cols] = feature_scaler.transform(test_df[feature_cols])"
      ],
      "metadata": {
        "colab": {
          "base_uri": "https://localhost:8080/"
        },
        "id": "aP2gMb7u1Agy",
        "outputId": "b816b859-5ff8-46a3-da44-9e7157fb9b4b"
      },
      "execution_count": null,
      "outputs": [
        {
          "output_type": "stream",
          "name": "stdout",
          "text": [
            "Scaling feature columns: ['DEWP', 'TEMP', 'PRES', 'Iws', 'Is', 'Ir', 'cbwd_NW', 'cbwd_SE', 'cbwd_cv', 'hour', 'day_of_week', 'month', 'season', 'hour_sin', 'hour_cos', 'day_sin', 'day_cos', 'month_sin', 'month_cos', 'is_rush_hour', 'is_weekend']\n"
          ]
        }
      ]
    },
    {
      "cell_type": "markdown",
      "source": [
        "### **Sequencing**\n",
        "\n",
        "**24-Hour Sliding Window** aligns with the daily cycle of pollution, enabling models to learn short-term dependencies (e.g., overnight drops in PM2.5).\n",
        "\n"
      ],
      "metadata": {
        "id": "2Q2QeDFum5Ve"
      }
    },
    {
      "cell_type": "code",
      "source": [
        "# SEQUENCING\n",
        "sequence_length = 24\n",
        "\n",
        "def create_sequences_from_df(df, target_col='pm2.5'):\n",
        "    # exclude non-feature columns from sequence creation\n",
        "    feat_columns = [col for col in df.columns if col not in ['No', 'datetime', target_col]]\n",
        "    features = df[feat_columns].values\n",
        "    targets = df[target_col].values if target_col in df.columns else None\n",
        "    X, y = [], []\n",
        "    for i in range(sequence_length, len(df)):\n",
        "        X.append(features[i-sequence_length:i])\n",
        "        if targets is not None:\n",
        "            y.append(targets[i])\n",
        "    X = np.array(X)\n",
        "    y = np.array(y) if targets is not None else None\n",
        "    print(f\"Created sequences - X shape: {X.shape}, y shape: {y.shape if y is not None else 'None'}\")\n",
        "    return X, y\n",
        "X_train, y_train = create_sequences_from_df(train_df, target_col='pm2.5')\n",
        "X_test, _ = create_sequences_from_df(test_df, target_col='pm2.5')\n",
        "\n",
        "print(f\"Final data shapes - X_train: {X_train.shape}, y_train: {y_train.shape}, X_test: {X_test.shape}\")\n"
      ],
      "metadata": {
        "colab": {
          "base_uri": "https://localhost:8080/"
        },
        "id": "0M0ijOPRXAHx",
        "outputId": "1623bb9d-308c-49ae-dc42-5e8bbc54f168"
      },
      "execution_count": null,
      "outputs": [
        {
          "output_type": "stream",
          "name": "stdout",
          "text": [
            "Created sequences - X shape: (30652, 24, 21), y shape: (30652,)\n",
            "Created sequences - X shape: (13124, 24, 21), y shape: None\n",
            "Final data shapes - X_train: (30652, 24, 21), y_train: (30652,), X_test: (13124, 24, 21)\n"
          ]
        }
      ]
    },
    {
      "cell_type": "markdown",
      "source": [
        "## **Model Architectures and Training**"
      ],
      "metadata": {
        "id": "IzYAPX6n2N8A"
      }
    },
    {
      "cell_type": "markdown",
      "source": [
        "### **Model Performance Analysis**\n",
        "\n",
        "| Model      | Architecture                   | Validation RSME | Insights                                                                |\n",
        "|------------|--------------------------------|-----------------|-------------------------------------------------------------------------|\n",
        "| Model 1    | Single LSTM (32 units)         | 15746.38        | Underfitting: Too shallow to capture complex temporal dependencies      |\n",
        "| Model 2    | Stacked LSTM (64-32 + Dropout) | 8896.67         | Improved depth and dropout reduced overfitting, but limited capacity    |\n",
        "| Model 3    | Bidirectional LSTM             | 8468.98         | Bidirectional layers captured past/future context but added noise       |\n",
        "| Model 4    | GRU + BatchNorm + Deep Layers  | **7514.97**     | Best performance: GRUs trained faster; BatchNorm stabilized gradients   |\n",
        "| Model 5    | Hybrid CNN-LSTM                | 14956.67        | Overfitting: CNN layers likely extracted irrelevant local features      |\n",
        "| Model 8    | Lightweight CNN-GRU            | 19087.91        | Simplistic architecture + high learning rate caused instability         |\n",
        "| Model 7    | MultiScale GRU Ensemble        | 17338.92        | Branch merging introduced noise; insufficient regularization            |\n",
        "| Model 6    | Stacked LSTM + Dropout         | 10,110.41       | Moderate depth helped but lacked GRU's efficiency                       |\n",
        "| Model_TCN  | Temporal Convolutional Network | 9693.68         | Dilated convolutions captured long-range dependencies but needed tuning |\n",
        "| Model_GRU  | Bidirectional GRU              | 10026.58        | Bidirectionality added minimal value; simpler GRU(model 4) outperformed |"
      ],
      "metadata": {
        "id": "DjTesLbQfA-s"
      }
    },
    {
      "cell_type": "markdown",
      "source": [
        "### **Model 1: LSTM (Baseline)**"
      ],
      "metadata": {
        "id": "juW8vBX82Yfj"
      }
    },
    {
      "cell_type": "code",
      "source": [
        "model1 = Sequential([\n",
        "    LSTM(32, activation='relu', input_shape=(X_train.shape[1], X_train.shape[2])),\n",
        "    Dense(1)\n",
        "])\n",
        "\n",
        "model1.compile(\n",
        "    optimizer='adam',\n",
        "    loss='mse',\n",
        "    metrics=[lambda y, y_pred: tf.sqrt(tf.reduce_mean(tf.square(y - y_pred)))]\n",
        ")\n",
        "\n",
        "model1.summary()"
      ],
      "metadata": {
        "colab": {
          "base_uri": "https://localhost:8080/",
          "height": 196
        },
        "id": "uGHZj4sVCiaT",
        "outputId": "9a63e7c1-bfaa-43ca-e929-0a63fe0b7e59"
      },
      "execution_count": null,
      "outputs": [
        {
          "output_type": "display_data",
          "data": {
            "text/plain": [
              "\u001b[1mModel: \"sequential\"\u001b[0m\n"
            ],
            "text/html": [
              "<pre style=\"white-space:pre;overflow-x:auto;line-height:normal;font-family:Menlo,'DejaVu Sans Mono',consolas,'Courier New',monospace\"><span style=\"font-weight: bold\">Model: \"sequential\"</span>\n",
              "</pre>\n"
            ]
          },
          "metadata": {}
        },
        {
          "output_type": "display_data",
          "data": {
            "text/plain": [
              "┏━━━━━━━━━━━━━━━━━━━━━━━━━━━━━━━━━┳━━━━━━━━━━━━━━━━━━━━━━━━┳━━━━━━━━━━━━━━━┓\n",
              "┃\u001b[1m \u001b[0m\u001b[1mLayer (type)                   \u001b[0m\u001b[1m \u001b[0m┃\u001b[1m \u001b[0m\u001b[1mOutput Shape          \u001b[0m\u001b[1m \u001b[0m┃\u001b[1m \u001b[0m\u001b[1m      Param #\u001b[0m\u001b[1m \u001b[0m┃\n",
              "┡━━━━━━━━━━━━━━━━━━━━━━━━━━━━━━━━━╇━━━━━━━━━━━━━━━━━━━━━━━━╇━━━━━━━━━━━━━━━┩\n",
              "│ lstm (\u001b[38;5;33mLSTM\u001b[0m)                     │ (\u001b[38;5;45mNone\u001b[0m, \u001b[38;5;34m32\u001b[0m)             │         \u001b[38;5;34m6,912\u001b[0m │\n",
              "├─────────────────────────────────┼────────────────────────┼───────────────┤\n",
              "│ dense (\u001b[38;5;33mDense\u001b[0m)                   │ (\u001b[38;5;45mNone\u001b[0m, \u001b[38;5;34m1\u001b[0m)              │            \u001b[38;5;34m33\u001b[0m │\n",
              "└─────────────────────────────────┴────────────────────────┴───────────────┘\n"
            ],
            "text/html": [
              "<pre style=\"white-space:pre;overflow-x:auto;line-height:normal;font-family:Menlo,'DejaVu Sans Mono',consolas,'Courier New',monospace\">┏━━━━━━━━━━━━━━━━━━━━━━━━━━━━━━━━━┳━━━━━━━━━━━━━━━━━━━━━━━━┳━━━━━━━━━━━━━━━┓\n",
              "┃<span style=\"font-weight: bold\"> Layer (type)                    </span>┃<span style=\"font-weight: bold\"> Output Shape           </span>┃<span style=\"font-weight: bold\">       Param # </span>┃\n",
              "┡━━━━━━━━━━━━━━━━━━━━━━━━━━━━━━━━━╇━━━━━━━━━━━━━━━━━━━━━━━━╇━━━━━━━━━━━━━━━┩\n",
              "│ lstm (<span style=\"color: #0087ff; text-decoration-color: #0087ff\">LSTM</span>)                     │ (<span style=\"color: #00d7ff; text-decoration-color: #00d7ff\">None</span>, <span style=\"color: #00af00; text-decoration-color: #00af00\">32</span>)             │         <span style=\"color: #00af00; text-decoration-color: #00af00\">6,912</span> │\n",
              "├─────────────────────────────────┼────────────────────────┼───────────────┤\n",
              "│ dense (<span style=\"color: #0087ff; text-decoration-color: #0087ff\">Dense</span>)                   │ (<span style=\"color: #00d7ff; text-decoration-color: #00d7ff\">None</span>, <span style=\"color: #00af00; text-decoration-color: #00af00\">1</span>)              │            <span style=\"color: #00af00; text-decoration-color: #00af00\">33</span> │\n",
              "└─────────────────────────────────┴────────────────────────┴───────────────┘\n",
              "</pre>\n"
            ]
          },
          "metadata": {}
        },
        {
          "output_type": "display_data",
          "data": {
            "text/plain": [
              "\u001b[1m Total params: \u001b[0m\u001b[38;5;34m6,945\u001b[0m (27.13 KB)\n"
            ],
            "text/html": [
              "<pre style=\"white-space:pre;overflow-x:auto;line-height:normal;font-family:Menlo,'DejaVu Sans Mono',consolas,'Courier New',monospace\"><span style=\"font-weight: bold\"> Total params: </span><span style=\"color: #00af00; text-decoration-color: #00af00\">6,945</span> (27.13 KB)\n",
              "</pre>\n"
            ]
          },
          "metadata": {}
        },
        {
          "output_type": "display_data",
          "data": {
            "text/plain": [
              "\u001b[1m Trainable params: \u001b[0m\u001b[38;5;34m6,945\u001b[0m (27.13 KB)\n"
            ],
            "text/html": [
              "<pre style=\"white-space:pre;overflow-x:auto;line-height:normal;font-family:Menlo,'DejaVu Sans Mono',consolas,'Courier New',monospace\"><span style=\"font-weight: bold\"> Trainable params: </span><span style=\"color: #00af00; text-decoration-color: #00af00\">6,945</span> (27.13 KB)\n",
              "</pre>\n"
            ]
          },
          "metadata": {}
        },
        {
          "output_type": "display_data",
          "data": {
            "text/plain": [
              "\u001b[1m Non-trainable params: \u001b[0m\u001b[38;5;34m0\u001b[0m (0.00 B)\n"
            ],
            "text/html": [
              "<pre style=\"white-space:pre;overflow-x:auto;line-height:normal;font-family:Menlo,'DejaVu Sans Mono',consolas,'Courier New',monospace\"><span style=\"font-weight: bold\"> Non-trainable params: </span><span style=\"color: #00af00; text-decoration-color: #00af00\">0</span> (0.00 B)\n",
              "</pre>\n"
            ]
          },
          "metadata": {}
        }
      ]
    },
    {
      "cell_type": "code",
      "source": [
        "# Train with early stopping\n",
        "early_stopping = EarlyStopping(monitor='loss', patience=5, restore_best_weights=True)\n",
        "\n",
        "history1 = model1.fit(\n",
        "    X_train, y_train,\n",
        "    epochs=50,\n",
        "    batch_size=64,\n",
        "    callbacks=[early_stopping],\n",
        "    verbose=1\n",
        ")"
      ],
      "metadata": {
        "colab": {
          "base_uri": "https://localhost:8080/"
        },
        "id": "ufuWs437ISDn",
        "outputId": "5f96d881-ba9e-4810-d3a1-1fb228a26187"
      },
      "execution_count": null,
      "outputs": [
        {
          "output_type": "stream",
          "name": "stdout",
          "text": [
            "Epoch 1/50\n",
            "\u001b[1m479/479\u001b[0m \u001b[32m━━━━━━━━━━━━━━━━━━━━\u001b[0m\u001b[37m\u001b[0m \u001b[1m10s\u001b[0m 11ms/step - lambda: 0.9845 - loss: 0.5578\n",
            "Epoch 2/50\n",
            "\u001b[1m479/479\u001b[0m \u001b[32m━━━━━━━━━━━━━━━━━━━━\u001b[0m\u001b[37m\u001b[0m \u001b[1m6s\u001b[0m 13ms/step - lambda: 1.0494 - loss: 0.3308\n",
            "Epoch 3/50\n",
            "\u001b[1m479/479\u001b[0m \u001b[32m━━━━━━━━━━━━━━━━━━━━\u001b[0m\u001b[37m\u001b[0m \u001b[1m9s\u001b[0m 11ms/step - lambda: 1.0654 - loss: 0.2960\n",
            "Epoch 4/50\n",
            "\u001b[1m479/479\u001b[0m \u001b[32m━━━━━━━━━━━━━━━━━━━━\u001b[0m\u001b[37m\u001b[0m \u001b[1m7s\u001b[0m 15ms/step - lambda: 1.0777 - loss: 0.2679\n",
            "Epoch 5/50\n",
            "\u001b[1m479/479\u001b[0m \u001b[32m━━━━━━━━━━━━━━━━━━━━\u001b[0m\u001b[37m\u001b[0m \u001b[1m5s\u001b[0m 11ms/step - lambda: 1.0871 - loss: 0.2455\n",
            "Epoch 6/50\n",
            "\u001b[1m479/479\u001b[0m \u001b[32m━━━━━━━━━━━━━━━━━━━━\u001b[0m\u001b[37m\u001b[0m \u001b[1m10s\u001b[0m 11ms/step - lambda: 1.0933 - loss: 0.2296\n",
            "Epoch 7/50\n",
            "\u001b[1m479/479\u001b[0m \u001b[32m━━━━━━━━━━━━━━━━━━━━\u001b[0m\u001b[37m\u001b[0m \u001b[1m6s\u001b[0m 14ms/step - lambda: 1.1003 - loss: 0.2146\n",
            "Epoch 8/50\n",
            "\u001b[1m479/479\u001b[0m \u001b[32m━━━━━━━━━━━━━━━━━━━━\u001b[0m\u001b[37m\u001b[0m \u001b[1m9s\u001b[0m 12ms/step - lambda: 1.1064 - loss: 0.2024\n",
            "Epoch 9/50\n",
            "\u001b[1m479/479\u001b[0m \u001b[32m━━━━━━━━━━━━━━━━━━━━\u001b[0m\u001b[37m\u001b[0m \u001b[1m7s\u001b[0m 15ms/step - lambda: 1.1117 - loss: 0.1900\n",
            "Epoch 10/50\n",
            "\u001b[1m479/479\u001b[0m \u001b[32m━━━━━━━━━━━━━━━━━━━━\u001b[0m\u001b[37m\u001b[0m \u001b[1m5s\u001b[0m 11ms/step - lambda: 1.1161 - loss: 0.1817\n",
            "Epoch 11/50\n",
            "\u001b[1m479/479\u001b[0m \u001b[32m━━━━━━━━━━━━━━━━━━━━\u001b[0m\u001b[37m\u001b[0m \u001b[1m6s\u001b[0m 13ms/step - lambda: 1.1196 - loss: 0.1749\n",
            "Epoch 12/50\n",
            "\u001b[1m479/479\u001b[0m \u001b[32m━━━━━━━━━━━━━━━━━━━━\u001b[0m\u001b[37m\u001b[0m \u001b[1m10s\u001b[0m 13ms/step - lambda: 1.1210 - loss: 0.1697\n",
            "Epoch 13/50\n",
            "\u001b[1m479/479\u001b[0m \u001b[32m━━━━━━━━━━━━━━━━━━━━\u001b[0m\u001b[37m\u001b[0m \u001b[1m5s\u001b[0m 11ms/step - lambda: 1.1221 - loss: 0.1673\n",
            "Epoch 14/50\n",
            "\u001b[1m479/479\u001b[0m \u001b[32m━━━━━━━━━━━━━━━━━━━━\u001b[0m\u001b[37m\u001b[0m \u001b[1m11s\u001b[0m 12ms/step - lambda: 1.1257 - loss: 0.1602\n",
            "Epoch 15/50\n",
            "\u001b[1m479/479\u001b[0m \u001b[32m━━━━━━━━━━━━━━━━━━━━\u001b[0m\u001b[37m\u001b[0m \u001b[1m11s\u001b[0m 13ms/step - lambda: 1.1279 - loss: 0.1558\n",
            "Epoch 16/50\n",
            "\u001b[1m479/479\u001b[0m \u001b[32m━━━━━━━━━━━━━━━━━━━━\u001b[0m\u001b[37m\u001b[0m \u001b[1m10s\u001b[0m 13ms/step - lambda: 1.1298 - loss: 0.1524\n",
            "Epoch 17/50\n",
            "\u001b[1m479/479\u001b[0m \u001b[32m━━━━━━━━━━━━━━━━━━━━\u001b[0m\u001b[37m\u001b[0m \u001b[1m9s\u001b[0m 11ms/step - lambda: 1.1314 - loss: 0.1475\n",
            "Epoch 18/50\n",
            "\u001b[1m479/479\u001b[0m \u001b[32m━━━━━━━━━━━━━━━━━━━━\u001b[0m\u001b[37m\u001b[0m \u001b[1m10s\u001b[0m 11ms/step - lambda: 1.1327 - loss: 0.1445\n",
            "Epoch 19/50\n",
            "\u001b[1m479/479\u001b[0m \u001b[32m━━━━━━━━━━━━━━━━━━━━\u001b[0m\u001b[37m\u001b[0m \u001b[1m10s\u001b[0m 11ms/step - lambda: 1.1342 - loss: 0.1405\n",
            "Epoch 20/50\n",
            "\u001b[1m479/479\u001b[0m \u001b[32m━━━━━━━━━━━━━━━━━━━━\u001b[0m\u001b[37m\u001b[0m \u001b[1m11s\u001b[0m 12ms/step - lambda: 1.1359 - loss: 0.1378\n",
            "Epoch 21/50\n",
            "\u001b[1m479/479\u001b[0m \u001b[32m━━━━━━━━━━━━━━━━━━━━\u001b[0m\u001b[37m\u001b[0m \u001b[1m11s\u001b[0m 13ms/step - lambda: 1.1364 - loss: 0.1352\n",
            "Epoch 22/50\n",
            "\u001b[1m479/479\u001b[0m \u001b[32m━━━━━━━━━━━━━━━━━━━━\u001b[0m\u001b[37m\u001b[0m \u001b[1m10s\u001b[0m 12ms/step - lambda: 1.1370 - loss: 0.1329\n",
            "Epoch 23/50\n",
            "\u001b[1m479/479\u001b[0m \u001b[32m━━━━━━━━━━━━━━━━━━━━\u001b[0m\u001b[37m\u001b[0m \u001b[1m6s\u001b[0m 12ms/step - lambda: 1.1385 - loss: 0.1298\n",
            "Epoch 24/50\n",
            "\u001b[1m479/479\u001b[0m \u001b[32m━━━━━━━━━━━━━━━━━━━━\u001b[0m\u001b[37m\u001b[0m \u001b[1m5s\u001b[0m 11ms/step - lambda: 1.1380 - loss: 0.1313\n",
            "Epoch 25/50\n",
            "\u001b[1m479/479\u001b[0m \u001b[32m━━━━━━━━━━━━━━━━━━━━\u001b[0m\u001b[37m\u001b[0m \u001b[1m6s\u001b[0m 13ms/step - lambda: 1.1397 - loss: 0.1278\n",
            "Epoch 26/50\n",
            "\u001b[1m479/479\u001b[0m \u001b[32m━━━━━━━━━━━━━━━━━━━━\u001b[0m\u001b[37m\u001b[0m \u001b[1m10s\u001b[0m 14ms/step - lambda: 1.1418 - loss: 0.1235\n",
            "Epoch 27/50\n",
            "\u001b[1m479/479\u001b[0m \u001b[32m━━━━━━━━━━━━━━━━━━━━\u001b[0m\u001b[37m\u001b[0m \u001b[1m9s\u001b[0m 11ms/step - lambda: 1.1432 - loss: 0.1211\n",
            "Epoch 28/50\n",
            "\u001b[1m479/479\u001b[0m \u001b[32m━━━━━━━━━━━━━━━━━━━━\u001b[0m\u001b[37m\u001b[0m \u001b[1m6s\u001b[0m 13ms/step - lambda: 1.1439 - loss: 0.1183\n",
            "Epoch 29/50\n",
            "\u001b[1m479/479\u001b[0m \u001b[32m━━━━━━━━━━━━━━━━━━━━\u001b[0m\u001b[37m\u001b[0m \u001b[1m5s\u001b[0m 11ms/step - lambda: 1.1445 - loss: 0.1179\n",
            "Epoch 30/50\n",
            "\u001b[1m479/479\u001b[0m \u001b[32m━━━━━━━━━━━━━━━━━━━━\u001b[0m\u001b[37m\u001b[0m \u001b[1m7s\u001b[0m 14ms/step - lambda: 1.1465 - loss: 0.1134\n",
            "Epoch 31/50\n",
            "\u001b[1m479/479\u001b[0m \u001b[32m━━━━━━━━━━━━━━━━━━━━\u001b[0m\u001b[37m\u001b[0m \u001b[1m9s\u001b[0m 11ms/step - lambda: 1.1459 - loss: 0.1131\n",
            "Epoch 32/50\n",
            "\u001b[1m479/479\u001b[0m \u001b[32m━━━━━━━━━━━━━━━━━━━━\u001b[0m\u001b[37m\u001b[0m \u001b[1m10s\u001b[0m 11ms/step - lambda: 1.1466 - loss: 0.1129\n",
            "Epoch 33/50\n",
            "\u001b[1m479/479\u001b[0m \u001b[32m━━━━━━━━━━━━━━━━━━━━\u001b[0m\u001b[37m\u001b[0m \u001b[1m7s\u001b[0m 14ms/step - lambda: 1.1484 - loss: 0.1090\n",
            "Epoch 34/50\n",
            "\u001b[1m479/479\u001b[0m \u001b[32m━━━━━━━━━━━━━━━━━━━━\u001b[0m\u001b[37m\u001b[0m \u001b[1m10s\u001b[0m 12ms/step - lambda: 1.1484 - loss: 0.1082\n",
            "Epoch 35/50\n",
            "\u001b[1m479/479\u001b[0m \u001b[32m━━━━━━━━━━━━━━━━━━━━\u001b[0m\u001b[37m\u001b[0m \u001b[1m10s\u001b[0m 11ms/step - lambda: 1.1486 - loss: 0.1093\n",
            "Epoch 36/50\n",
            "\u001b[1m479/479\u001b[0m \u001b[32m━━━━━━━━━━━━━━━━━━━━\u001b[0m\u001b[37m\u001b[0m \u001b[1m6s\u001b[0m 14ms/step - lambda: 1.1505 - loss: 0.1042\n",
            "Epoch 37/50\n",
            "\u001b[1m479/479\u001b[0m \u001b[32m━━━━━━━━━━━━━━━━━━━━\u001b[0m\u001b[37m\u001b[0m \u001b[1m10s\u001b[0m 12ms/step - lambda: 1.1508 - loss: 0.1014\n",
            "Epoch 38/50\n",
            "\u001b[1m479/479\u001b[0m \u001b[32m━━━━━━━━━━━━━━━━━━━━\u001b[0m\u001b[37m\u001b[0m \u001b[1m9s\u001b[0m 11ms/step - lambda: 1.1515 - loss: 0.1001\n",
            "Epoch 39/50\n",
            "\u001b[1m479/479\u001b[0m \u001b[32m━━━━━━━━━━━━━━━━━━━━\u001b[0m\u001b[37m\u001b[0m \u001b[1m7s\u001b[0m 14ms/step - lambda: 1.1520 - loss: 0.0992\n",
            "Epoch 40/50\n",
            "\u001b[1m479/479\u001b[0m \u001b[32m━━━━━━━━━━━━━━━━━━━━\u001b[0m\u001b[37m\u001b[0m \u001b[1m5s\u001b[0m 11ms/step - lambda: 1.1522 - loss: 0.0986\n",
            "Epoch 41/50\n",
            "\u001b[1m479/479\u001b[0m \u001b[32m━━━━━━━━━━━━━━━━━━━━\u001b[0m\u001b[37m\u001b[0m \u001b[1m6s\u001b[0m 14ms/step - lambda: 1.1526 - loss: 0.0971\n",
            "Epoch 42/50\n",
            "\u001b[1m479/479\u001b[0m \u001b[32m━━━━━━━━━━━━━━━━━━━━\u001b[0m\u001b[37m\u001b[0m \u001b[1m5s\u001b[0m 11ms/step - lambda: 1.1535 - loss: 0.0962\n",
            "Epoch 43/50\n",
            "\u001b[1m479/479\u001b[0m \u001b[32m━━━━━━━━━━━━━━━━━━━━\u001b[0m\u001b[37m\u001b[0m \u001b[1m6s\u001b[0m 12ms/step - lambda: 1.1535 - loss: 0.0948\n",
            "Epoch 44/50\n",
            "\u001b[1m479/479\u001b[0m \u001b[32m━━━━━━━━━━━━━━━━━━━━\u001b[0m\u001b[37m\u001b[0m \u001b[1m10s\u001b[0m 11ms/step - lambda: 1.1541 - loss: 0.0927\n",
            "Epoch 45/50\n",
            "\u001b[1m479/479\u001b[0m \u001b[32m━━━━━━━━━━━━━━━━━━━━\u001b[0m\u001b[37m\u001b[0m \u001b[1m10s\u001b[0m 11ms/step - lambda: 1.1548 - loss: 0.0921\n",
            "Epoch 46/50\n",
            "\u001b[1m479/479\u001b[0m \u001b[32m━━━━━━━━━━━━━━━━━━━━\u001b[0m\u001b[37m\u001b[0m \u001b[1m7s\u001b[0m 14ms/step - lambda: 1.1540 - loss: 0.0915\n",
            "Epoch 47/50\n",
            "\u001b[1m479/479\u001b[0m \u001b[32m━━━━━━━━━━━━━━━━━━━━\u001b[0m\u001b[37m\u001b[0m \u001b[1m9s\u001b[0m 11ms/step - lambda: 1.1562 - loss: 0.0890\n",
            "Epoch 48/50\n",
            "\u001b[1m479/479\u001b[0m \u001b[32m━━━━━━━━━━━━━━━━━━━━\u001b[0m\u001b[37m\u001b[0m \u001b[1m10s\u001b[0m 11ms/step - lambda: 1.1565 - loss: 0.0876\n",
            "Epoch 49/50\n",
            "\u001b[1m479/479\u001b[0m \u001b[32m━━━━━━━━━━━━━━━━━━━━\u001b[0m\u001b[37m\u001b[0m \u001b[1m7s\u001b[0m 14ms/step - lambda: 1.1565 - loss: 0.0877\n",
            "Epoch 50/50\n",
            "\u001b[1m479/479\u001b[0m \u001b[32m━━━━━━━━━━━━━━━━━━━━\u001b[0m\u001b[37m\u001b[0m \u001b[1m5s\u001b[0m 11ms/step - lambda: 1.1573 - loss: 0.0865\n"
          ]
        }
      ]
    },
    {
      "cell_type": "code",
      "source": [
        "# Evaluate\n",
        "train_pred1 = model1.predict(X_train)\n",
        "train_rmse1 = np.sqrt(mean_squared_error(y_train, train_pred1))\n",
        "print(f\"Model 1 Training RMSE: {train_rmse1}\")\n",
        "\n",
        "# Plot training progress\n",
        "plt.figure(figsize=(10, 6))\n",
        "plt.plot(history1.history['loss'], label='Training Loss')\n",
        "plt.title('Model 1: Basic LSTM - Training Loss')\n",
        "plt.xlabel('Epochs')\n",
        "plt.ylabel('Loss (MSE)')\n",
        "plt.legend()\n",
        "plt.show()"
      ],
      "metadata": {
        "colab": {
          "base_uri": "https://localhost:8080/",
          "height": 600
        },
        "id": "U4sq-FpvJ0J9",
        "outputId": "d12741ea-1e93-4e78-ea49-b277e20ae36a"
      },
      "execution_count": null,
      "outputs": [
        {
          "output_type": "stream",
          "name": "stdout",
          "text": [
            "\u001b[1m958/958\u001b[0m \u001b[32m━━━━━━━━━━━━━━━━━━━━\u001b[0m\u001b[37m\u001b[0m \u001b[1m4s\u001b[0m 4ms/step\n",
            "Model 1 Training RMSE: 0.2992563392171485\n"
          ]
        },
        {
          "output_type": "display_data",
          "data": {
            "text/plain": [
              "<Figure size 1000x600 with 1 Axes>"
            ],
            "image/png": "[encoded data removed]"
          },
          "metadata": {}
        }
      ]
    },
    {
      "cell_type": "code",
      "source": [
        "# Make predictions on test set\n",
        "test_predictions1 = model1.predict(X_test)\n",
        "print(f\"Raw test predictions shape: {test_predictions1.shape}\")\n",
        "\n",
        "# Inverse transform predictions back to original scale\n",
        "test_predictions1_original = target_scaler.inverse_transform(test_predictions1)\n",
        "\n",
        "# Ensure no negative values (PM2.5 can't be negative)\n",
        "test_predictions1_original = np.maximum(test_predictions1_original, 0)\n",
        "\n",
        "# Convert to integers and flatten\n",
        "test_predictions1_final = np.round(test_predictions1_original).astype(int).flatten()\n",
        "\n",
        "print(f\"Final test predictions shape: {test_predictions1_final.shape}\")\n",
        "print(f\"Test predictions range: {test_predictions1_final.min()} to {test_predictions1_final.max()}\")\n",
        "print(f\"Mean prediction: {test_predictions1_final.mean():.2f}\")"
      ],
      "metadata": {
        "colab": {
          "base_uri": "https://localhost:8080/"
        },
        "id": "uRq-jblTMAtp",
        "outputId": "553c8ad5-3a04-4d06-a8bf-e4e105d370e3"
      },
      "execution_count": null,
      "outputs": [
        {
          "output_type": "stream",
          "name": "stdout",
          "text": [
            "\u001b[1m411/411\u001b[0m \u001b[32m━━━━━━━━━━━━━━━━━━━━\u001b[0m\u001b[37m\u001b[0m \u001b[1m2s\u001b[0m 4ms/step\n",
            "Raw test predictions shape: (13124, 1)\n",
            "Final test predictions shape: (13124,)\n",
            "Test predictions range: 0 to 779\n",
            "Mean prediction: 180.68\n"
          ]
        }
      ]
    },
    {
      "cell_type": "code",
      "source": [
        "# Debug the datetime index issue\n",
        "print(\"Debugging datetime index...\")\n",
        "print(f\"test_df_processed index type: {type(test_df_processed.index)}\")\n",
        "print(f\"test_df_processed index first 5 values:\")\n",
        "print(test_df_processed.index[:5])\n",
        "\n",
        "# Check if we need to use the 'datetime' column instead of index\n",
        "if 'datetime' in test_df_processed.columns:\n",
        "    print(\"Using 'datetime' column instead of index\")\n",
        "    all_test_dates = pd.to_datetime(test_df_processed['datetime'])\n",
        "else:\n",
        "    print(\"Using datetime index\")\n",
        "    all_test_dates = test_df_processed.index\n",
        "\n",
        "print(f\"All test dates first 5 values:\")\n",
        "print(all_test_dates[:5])\n",
        "print(f\"All test dates type: {type(all_test_dates)}\")\n",
        "\n",
        "print(f\"Original test data length: {len(all_test_dates)}\")\n",
        "print(f\"Predictions available: {len(test_predictions1_final)}\")\n",
        "print(f\"Missing predictions for first {sequence_length} rows\")\n",
        "\n",
        "# For the first 24 rows (which we can't predict due to sequence), use the first available prediction\n",
        "first_prediction = test_predictions1_final[0]  # Use first available prediction as fallback\n",
        "padding_predictions = np.full(sequence_length, first_prediction)\n",
        "\n",
        "# Combine padding with actual predictions\n",
        "all_predictions = np.concatenate([padding_predictions, test_predictions1_final])\n",
        "\n",
        "print(f\"Total predictions after padding: {len(all_predictions)}\")\n",
        "\n",
        "# Create submission dataframe with all rows\n",
        "try:\n",
        "    # Use the .dt accessor before strftime\n",
        "    formatted_dates = all_test_dates.dt.strftime('%Y-%m-%d %-H:%M:%S')\n",
        "    print(f\"Successfully formatted {len(formatted_dates)} dates\")\n",
        "    print(f\"First formatted date: {formatted_dates.iloc[0]}\")\n",
        "    print(f\"Last formatted date: {formatted_dates.iloc[-1]}\")\n",
        "except Exception as e:\n",
        "    print(f\"Error formatting dates: {e}\")\n",
        "    # Fallback: convert to datetime if not already\n",
        "    all_test_dates = pd.to_datetime(all_test_dates)\n",
        "    # Use the .dt accessor before strftime in the fallback as well\n",
        "    formatted_dates = all_test_dates.dt.strftime('%Y-%m-%d %-H:%M:%S')\n",
        "\n",
        "submission1 = pd.DataFrame({\n",
        "    'row ID': formatted_dates,\n",
        "    'pm2.5': all_predictions.astype(int)\n",
        "})\n",
        "\n",
        "print(f\"Submission dataframe created with shape: {submission1.shape}\")\n",
        "\n",
        "# Check for duplicates before sorting\n",
        "duplicate_count = submission1['row ID'].duplicated().sum()\n",
        "print(f\"Duplicate row IDs before processing: {duplicate_count}\")\n",
        "\n",
        "# Remove duplicates if any (keep the last occurrence)\n",
        "if duplicate_count > 0:\n",
        "    print(f\"Removing {duplicate_count} duplicates...\")\n",
        "    submission1 = submission1.drop_duplicates(subset=['row ID'], keep='last')\n",
        "    print(f\"Shape after removing duplicates: {submission1.shape}\")\n",
        "\n",
        "# Sort by row ID to ensure proper chronological order\n",
        "submission1 = submission1.sort_values(by='row ID').reset_index(drop=True)\n",
        "print(f\"Final submission shape after sorting: {submission1.shape}\")\n",
        "\n",
        "print(\"\\nSubmission file preview:\")\n",
        "print(submission1.head(10))\n",
        "print(\"\\nSubmission file tail:\")\n",
        "print(submission1.tail(5))\n",
        "print(f\"\\nSubmission shape: {submission1.shape}\")\n",
        "\n",
        "# Save submission file\n",
        "submission1.to_csv('model1_submission.csv', index=False)\n",
        "print(\"\\nModel 1 submission saved as 'model1_submission.csv'\")"
      ],
      "metadata": {
        "colab": {
          "base_uri": "https://localhost:8080/"
        },
        "collapsed": true,
        "id": "x_QFjH75MMZU",
        "outputId": "2bcd18e9-6100-4973-f833-31449d1a77a3"
      },
      "execution_count": null,
      "outputs": [
        {
          "output_type": "stream",
          "name": "stdout",
          "text": [
            "Debugging datetime index...\n",
            "test_df_processed index type: <class 'pandas.core.indexes.datetimes.DatetimeIndex'>\n",
            "test_df_processed index first 5 values:\n",
            "DatetimeIndex([          '1970-01-01 00:00:00',\n",
            "               '1970-01-01 00:00:00.000000001',\n",
            "               '1970-01-01 00:00:00.000000002',\n",
            "               '1970-01-01 00:00:00.000000003',\n",
            "               '1970-01-01 00:00:00.000000004'],\n",
            "              dtype='datetime64[ns]', freq=None)\n",
            "Using 'datetime' column instead of index\n",
            "All test dates first 5 values:\n",
            "1970-01-01 00:00:00.000000000   2013-07-02 04:00:00\n",
            "1970-01-01 00:00:00.000000001   2013-07-02 05:00:00\n",
            "1970-01-01 00:00:00.000000002   2013-07-02 06:00:00\n",
            "1970-01-01 00:00:00.000000003   2013-07-02 07:00:00\n",
            "1970-01-01 00:00:00.000000004   2013-07-02 08:00:00\n",
            "Name: datetime, dtype: datetime64[ns]\n",
            "All test dates type: <class 'pandas.core.series.Series'>\n",
            "Original test data length: 13148\n",
            "Predictions available: 13124\n",
            "Missing predictions for first 24 rows\n",
            "Total predictions after padding: 13148\n",
            "Successfully formatted 13148 dates\n",
            "First formatted date: 2013-07-02 4:00:00\n",
            "Last formatted date: 2014-12-31 23:00:00\n",
            "Submission dataframe created with shape: (13148, 2)\n",
            "Duplicate row IDs before processing: 0\n",
            "Final submission shape after sorting: (13148, 2)\n",
            "\n",
            "Submission file preview:\n",
            "                row ID  pm2.5\n",
            "0  2013-07-02 10:00:00    320\n",
            "1  2013-07-02 11:00:00    320\n",
            "2  2013-07-02 12:00:00    320\n",
            "3  2013-07-02 13:00:00    320\n",
            "4  2013-07-02 14:00:00    320\n",
            "5  2013-07-02 15:00:00    320\n",
            "6  2013-07-02 16:00:00    320\n",
            "7  2013-07-02 17:00:00    320\n",
            "8  2013-07-02 18:00:00    320\n",
            "9  2013-07-02 19:00:00    320\n",
            "\n",
            "Submission file tail:\n",
            "                   row ID  pm2.5\n",
            "13143  2014-12-31 5:00:00     17\n",
            "13144  2014-12-31 6:00:00     17\n",
            "13145  2014-12-31 7:00:00     14\n",
            "13146  2014-12-31 8:00:00     12\n",
            "13147  2014-12-31 9:00:00      9\n",
            "\n",
            "Submission shape: (13148, 2)\n",
            "\n",
            "Model 1 submission saved as 'model1_submission.csv'\n"
          ]
        }
      ]
    },
    {
      "cell_type": "code",
      "source": [
        "# Check for any missing values\n",
        "print(f\"Missing values in submission: {submission1.isnull().sum().sum()}\")\n",
        "\n",
        "# Check for duplicate row IDs (this should be 0 after our fix)\n",
        "duplicate_count = submission1['row ID'].duplicated().sum()\n",
        "print(f\"Duplicate row IDs in final submission: {duplicate_count}\")\n",
        "\n",
        "if duplicate_count > 0:\n",
        "    print(\"WARNING: Still have duplicates! Showing duplicate rows:\")\n",
        "    duplicates = submission1[submission1['row ID'].duplicated(keep=False)]\n",
        "    print(duplicates)\n",
        "\n",
        "# Check datetime format\n",
        "print(f\"First datetime: {submission1['row ID'].iloc[0]}\")\n",
        "print(f\"Last datetime: {submission1['row ID'].iloc[-1]}\")\n",
        "\n",
        "# Verify unique row IDs\n",
        "print(f\"Total rows: {len(submission1)}\")\n",
        "print(f\"Unique row IDs: {submission1['row ID'].nunique()}\")\n",
        "\n",
        "# Check prediction statistics\n",
        "print(f\"\\nPrediction Statistics:\")\n",
        "print(f\"Mean PM2.5: {submission1['pm2.5'].mean():.2f}\")\n",
        "print(f\"Median PM2.5: {submission1['pm2.5'].median():.2f}\")\n",
        "print(f\"Std PM2.5: {submission1['pm2.5'].std():.2f}\")\n",
        "print(f\"Min PM2.5: {submission1['pm2.5'].min()}\")\n",
        "print(f\"Max PM2.5: {submission1['pm2.5'].max()}\")\n",
        "\n",
        "# Check for reasonable values (PM2.5 typically ranges 0-500+ in heavily polluted areas)\n",
        "extreme_values = submission1[submission1['pm2.5'] > 1000]\n",
        "if len(extreme_values) > 0:\n",
        "    print(f\"\\nWarning: {len(extreme_values)} predictions > 1000 (very high PM2.5)\")\n",
        "    print(extreme_values.head())\n",
        "\n",
        "print(f\"\\nModel 1 submission ready for Kaggle upload!\")\n",
        "print(f\"Final submission file has exactly {len(submission1)} rows (Required: 13148)\")\n",
        "print(f\"Unique row IDs: {submission1['row ID'].nunique()}\")\n",
        "\n",
        "# Verify we have exactly the required number of rows\n",
        "if len(submission1) != 13148:\n",
        "    print(f\"ERROR: Submission has {len(submission1)} rows, but Kaggle expects 13148!\")\n",
        "else:\n",
        "    print(\"✓ Submission has correct number of rows!\")"
      ],
      "metadata": {
        "colab": {
          "base_uri": "https://localhost:8080/"
        },
        "collapsed": true,
        "id": "aAFcm2s7PRzp",
        "outputId": "b777bb8c-f112-4abd-d62e-49d21b489d42"
      },
      "execution_count": null,
      "outputs": [
        {
          "output_type": "stream",
          "name": "stdout",
          "text": [
            "Missing values in submission: 0\n",
            "Duplicate row IDs in final submission: 0\n",
            "First datetime: 2013-07-02 10:00:00\n",
            "Last datetime: 2014-12-31 9:00:00\n",
            "Total rows: 13148\n",
            "Unique row IDs: 13148\n",
            "\n",
            "Prediction Statistics:\n",
            "Mean PM2.5: 180.94\n",
            "Median PM2.5: 142.00\n",
            "Std PM2.5: 152.21\n",
            "Min PM2.5: 0\n",
            "Max PM2.5: 779\n",
            "\n",
            "Model 1 submission ready for Kaggle upload!\n",
            "Final submission file has exactly 13148 rows (Required: 13148)\n",
            "Unique row IDs: 13148\n",
            "✓ Submission has correct number of rows!\n"
          ]
        }
      ]
    },
    {
      "cell_type": "markdown",
      "source": [
        "**Model 1 (Basic LSTM) - Score: 15746.3841**\n",
        "- Simple architecture with only one LSTM layer\n",
        "- Limited representational capacity\n",
        "- Can't capture complex patterns in air quality data\n",
        "- No regularization, likely overfitting to training data"
      ],
      "metadata": {
        "id": "1-ZtMQ8cfzEb"
      }
    },
    {
      "cell_type": "markdown",
      "source": [
        "### **Model 2 (Deeper LSTM)**"
      ],
      "metadata": {
        "id": "G3V7DHOYXEBx"
      }
    },
    {
      "cell_type": "code",
      "source": [
        "model2 = Sequential([\n",
        "    LSTM(64, activation='relu', return_sequences=True, input_shape=(X_train.shape[1], X_train.shape[2])),\n",
        "    Dropout(0.2),\n",
        "    LSTM(32, activation='relu'),\n",
        "    Dropout(0.2),\n",
        "    Dense(16, activation='relu'),\n",
        "    Dense(1)\n",
        "])\n",
        "\n",
        "model2.compile(\n",
        "    optimizer=Adam(learning_rate=0.001),\n",
        "    loss='mse',\n",
        "    metrics=[lambda y, y_pred: tf.sqrt(tf.reduce_mean(tf.square(y - y_pred)))]\n",
        ")\n",
        "\n",
        "model2.summary()\n"
      ],
      "metadata": {
        "colab": {
          "base_uri": "https://localhost:8080/",
          "height": 327
        },
        "id": "hVqRSGOEXMfW",
        "outputId": "4e0ed4e8-a65d-451d-9b73-c2654711ae59"
      },
      "execution_count": null,
      "outputs": [
        {
          "output_type": "display_data",
          "data": {
            "text/plain": [
              "\u001b[1mModel: \"sequential_1\"\u001b[0m\n"
            ],
            "text/html": [
              "<pre style=\"white-space:pre;overflow-x:auto;line-height:normal;font-family:Menlo,'DejaVu Sans Mono',consolas,'Courier New',monospace\"><span style=\"font-weight: bold\">Model: \"sequential_1\"</span>\n",
              "</pre>\n"
            ]
          },
          "metadata": {}
        },
        {
          "output_type": "display_data",
          "data": {
            "text/plain": [
              "┏━━━━━━━━━━━━━━━━━━━━━━━━━━━━━━━━━┳━━━━━━━━━━━━━━━━━━━━━━━━┳━━━━━━━━━━━━━━━┓\n",
              "┃\u001b[1m \u001b[0m\u001b[1mLayer (type)                   \u001b[0m\u001b[1m \u001b[0m┃\u001b[1m \u001b[0m\u001b[1mOutput Shape          \u001b[0m\u001b[1m \u001b[0m┃\u001b[1m \u001b[0m\u001b[1m      Param #\u001b[0m\u001b[1m \u001b[0m┃\n",
              "┡━━━━━━━━━━━━━━━━━━━━━━━━━━━━━━━━━╇━━━━━━━━━━━━━━━━━━━━━━━━╇━━━━━━━━━━━━━━━┩\n",
              "│ lstm_1 (\u001b[38;5;33mLSTM\u001b[0m)                   │ (\u001b[38;5;45mNone\u001b[0m, \u001b[38;5;34m24\u001b[0m, \u001b[38;5;34m64\u001b[0m)         │        \u001b[38;5;34m22,016\u001b[0m │\n",
              "├─────────────────────────────────┼────────────────────────┼───────────────┤\n",
              "│ dropout (\u001b[38;5;33mDropout\u001b[0m)               │ (\u001b[38;5;45mNone\u001b[0m, \u001b[38;5;34m24\u001b[0m, \u001b[38;5;34m64\u001b[0m)         │             \u001b[38;5;34m0\u001b[0m │\n",
              "├─────────────────────────────────┼────────────────────────┼───────────────┤\n",
              "│ lstm_2 (\u001b[38;5;33mLSTM\u001b[0m)                   │ (\u001b[38;5;45mNone\u001b[0m, \u001b[38;5;34m32\u001b[0m)             │        \u001b[38;5;34m12,416\u001b[0m │\n",
              "├─────────────────────────────────┼────────────────────────┼───────────────┤\n",
              "│ dropout_1 (\u001b[38;5;33mDropout\u001b[0m)             │ (\u001b[38;5;45mNone\u001b[0m, \u001b[38;5;34m32\u001b[0m)             │             \u001b[38;5;34m0\u001b[0m │\n",
              "├─────────────────────────────────┼────────────────────────┼───────────────┤\n",
              "│ dense_1 (\u001b[38;5;33mDense\u001b[0m)                 │ (\u001b[38;5;45mNone\u001b[0m, \u001b[38;5;34m16\u001b[0m)             │           \u001b[38;5;34m528\u001b[0m │\n",
              "├─────────────────────────────────┼────────────────────────┼───────────────┤\n",
              "│ dense_2 (\u001b[38;5;33mDense\u001b[0m)                 │ (\u001b[38;5;45mNone\u001b[0m, \u001b[38;5;34m1\u001b[0m)              │            \u001b[38;5;34m17\u001b[0m │\n",
              "└─────────────────────────────────┴────────────────────────┴───────────────┘\n"
            ],
            "text/html": [
              "<pre style=\"white-space:pre;overflow-x:auto;line-height:normal;font-family:Menlo,'DejaVu Sans Mono',consolas,'Courier New',monospace\">┏━━━━━━━━━━━━━━━━━━━━━━━━━━━━━━━━━┳━━━━━━━━━━━━━━━━━━━━━━━━┳━━━━━━━━━━━━━━━┓\n",
              "┃<span style=\"font-weight: bold\"> Layer (type)                    </span>┃<span style=\"font-weight: bold\"> Output Shape           </span>┃<span style=\"font-weight: bold\">       Param # </span>┃\n",
              "┡━━━━━━━━━━━━━━━━━━━━━━━━━━━━━━━━━╇━━━━━━━━━━━━━━━━━━━━━━━━╇━━━━━━━━━━━━━━━┩\n",
              "│ lstm_1 (<span style=\"color: #0087ff; text-decoration-color: #0087ff\">LSTM</span>)                   │ (<span style=\"color: #00d7ff; text-decoration-color: #00d7ff\">None</span>, <span style=\"color: #00af00; text-decoration-color: #00af00\">24</span>, <span style=\"color: #00af00; text-decoration-color: #00af00\">64</span>)         │        <span style=\"color: #00af00; text-decoration-color: #00af00\">22,016</span> │\n",
              "├─────────────────────────────────┼────────────────────────┼───────────────┤\n",
              "│ dropout (<span style=\"color: #0087ff; text-decoration-color: #0087ff\">Dropout</span>)               │ (<span style=\"color: #00d7ff; text-decoration-color: #00d7ff\">None</span>, <span style=\"color: #00af00; text-decoration-color: #00af00\">24</span>, <span style=\"color: #00af00; text-decoration-color: #00af00\">64</span>)         │             <span style=\"color: #00af00; text-decoration-color: #00af00\">0</span> │\n",
              "├─────────────────────────────────┼────────────────────────┼───────────────┤\n",
              "│ lstm_2 (<span style=\"color: #0087ff; text-decoration-color: #0087ff\">LSTM</span>)                   │ (<span style=\"color: #00d7ff; text-decoration-color: #00d7ff\">None</span>, <span style=\"color: #00af00; text-decoration-color: #00af00\">32</span>)             │        <span style=\"color: #00af00; text-decoration-color: #00af00\">12,416</span> │\n",
              "├─────────────────────────────────┼────────────────────────┼───────────────┤\n",
              "│ dropout_1 (<span style=\"color: #0087ff; text-decoration-color: #0087ff\">Dropout</span>)             │ (<span style=\"color: #00d7ff; text-decoration-color: #00d7ff\">None</span>, <span style=\"color: #00af00; text-decoration-color: #00af00\">32</span>)             │             <span style=\"color: #00af00; text-decoration-color: #00af00\">0</span> │\n",
              "├─────────────────────────────────┼────────────────────────┼───────────────┤\n",
              "│ dense_1 (<span style=\"color: #0087ff; text-decoration-color: #0087ff\">Dense</span>)                 │ (<span style=\"color: #00d7ff; text-decoration-color: #00d7ff\">None</span>, <span style=\"color: #00af00; text-decoration-color: #00af00\">16</span>)             │           <span style=\"color: #00af00; text-decoration-color: #00af00\">528</span> │\n",
              "├─────────────────────────────────┼────────────────────────┼───────────────┤\n",
              "│ dense_2 (<span style=\"color: #0087ff; text-decoration-color: #0087ff\">Dense</span>)                 │ (<span style=\"color: #00d7ff; text-decoration-color: #00d7ff\">None</span>, <span style=\"color: #00af00; text-decoration-color: #00af00\">1</span>)              │            <span style=\"color: #00af00; text-decoration-color: #00af00\">17</span> │\n",
              "└─────────────────────────────────┴────────────────────────┴───────────────┘\n",
              "</pre>\n"
            ]
          },
          "metadata": {}
        },
        {
          "output_type": "display_data",
          "data": {
            "text/plain": [
              "\u001b[1m Total params: \u001b[0m\u001b[38;5;34m34,977\u001b[0m (136.63 KB)\n"
            ],
            "text/html": [
              "<pre style=\"white-space:pre;overflow-x:auto;line-height:normal;font-family:Menlo,'DejaVu Sans Mono',consolas,'Courier New',monospace\"><span style=\"font-weight: bold\"> Total params: </span><span style=\"color: #00af00; text-decoration-color: #00af00\">34,977</span> (136.63 KB)\n",
              "</pre>\n"
            ]
          },
          "metadata": {}
        },
        {
          "output_type": "display_data",
          "data": {
            "text/plain": [
              "\u001b[1m Trainable params: \u001b[0m\u001b[38;5;34m34,977\u001b[0m (136.63 KB)\n"
            ],
            "text/html": [
              "<pre style=\"white-space:pre;overflow-x:auto;line-height:normal;font-family:Menlo,'DejaVu Sans Mono',consolas,'Courier New',monospace\"><span style=\"font-weight: bold\"> Trainable params: </span><span style=\"color: #00af00; text-decoration-color: #00af00\">34,977</span> (136.63 KB)\n",
              "</pre>\n"
            ]
          },
          "metadata": {}
        },
        {
          "output_type": "display_data",
          "data": {
            "text/plain": [
              "\u001b[1m Non-trainable params: \u001b[0m\u001b[38;5;34m0\u001b[0m (0.00 B)\n"
            ],
            "text/html": [
              "<pre style=\"white-space:pre;overflow-x:auto;line-height:normal;font-family:Menlo,'DejaVu Sans Mono',consolas,'Courier New',monospace\"><span style=\"font-weight: bold\"> Non-trainable params: </span><span style=\"color: #00af00; text-decoration-color: #00af00\">0</span> (0.00 B)\n",
              "</pre>\n"
            ]
          },
          "metadata": {}
        }
      ]
    },
    {
      "cell_type": "code",
      "source": [
        "# Train with callbacks\n",
        "early_stopping = EarlyStopping(monitor='loss', patience=7, restore_best_weights=True)\n",
        "lr_scheduler = ReduceLROnPlateau(monitor='loss', factor=0.5, patience=3, min_lr=1e-6)\n",
        "\n",
        "history2 = model2.fit(\n",
        "    X_train, y_train,\n",
        "    epochs=50,\n",
        "    batch_size=64,\n",
        "    callbacks=[early_stopping, lr_scheduler],\n",
        "    verbose=1\n",
        ")"
      ],
      "metadata": {
        "colab": {
          "base_uri": "https://localhost:8080/"
        },
        "id": "QRVQt8eBXh7O",
        "outputId": "e14343a2-f42c-4f47-f64f-60c63e25a2ba"
      },
      "execution_count": null,
      "outputs": [
        {
          "output_type": "stream",
          "name": "stdout",
          "text": [
            "Epoch 1/50\n",
            "\u001b[1m479/479\u001b[0m \u001b[32m━━━━━━━━━━━━━━━━━━━━\u001b[0m\u001b[37m\u001b[0m \u001b[1m23s\u001b[0m 38ms/step - lambda: 0.9733 - loss: 0.5030 - learning_rate: 0.0010\n",
            "Epoch 2/50\n",
            "\u001b[1m479/479\u001b[0m \u001b[32m━━━━━━━━━━━━━━━━━━━━\u001b[0m\u001b[37m\u001b[0m \u001b[1m18s\u001b[0m 38ms/step - lambda: 1.0484 - loss: 0.3367 - learning_rate: 0.0010\n",
            "Epoch 3/50\n",
            "\u001b[1m479/479\u001b[0m \u001b[32m━━━━━━━━━━━━━━━━━━━━\u001b[0m\u001b[37m\u001b[0m \u001b[1m18s\u001b[0m 33ms/step - lambda: 1.0659 - loss: 0.3018 - learning_rate: 0.0010\n",
            "Epoch 4/50\n",
            "\u001b[1m479/479\u001b[0m \u001b[32m━━━━━━━━━━━━━━━━━━━━\u001b[0m\u001b[37m\u001b[0m \u001b[1m21s\u001b[0m 34ms/step - lambda: 1.0766 - loss: 0.2754 - learning_rate: 0.0010\n",
            "Epoch 5/50\n",
            "\u001b[1m479/479\u001b[0m \u001b[32m━━━━━━━━━━━━━━━━━━━━\u001b[0m\u001b[37m\u001b[0m \u001b[1m19s\u001b[0m 31ms/step - lambda: 1.0852 - loss: 0.2521 - learning_rate: 0.0010\n",
            "Epoch 6/50\n",
            "\u001b[1m479/479\u001b[0m \u001b[32m━━━━━━━━━━━━━━━━━━━━\u001b[0m\u001b[37m\u001b[0m \u001b[1m26s\u001b[0m 42ms/step - lambda: 1.0984 - loss: 0.2242 - learning_rate: 0.0010\n",
            "Epoch 7/50\n",
            "\u001b[1m479/479\u001b[0m \u001b[32m━━━━━━━━━━━━━━━━━━━━\u001b[0m\u001b[37m\u001b[0m \u001b[1m17s\u001b[0m 36ms/step - lambda: 1.1083 - loss: 0.2192 - learning_rate: 0.0010\n",
            "Epoch 8/50\n",
            "\u001b[1m479/479\u001b[0m \u001b[32m━━━━━━━━━━━━━━━━━━━━\u001b[0m\u001b[37m\u001b[0m \u001b[1m22s\u001b[0m 39ms/step - lambda: 1.1102 - loss: 0.1939 - learning_rate: 0.0010\n",
            "Epoch 9/50\n",
            "\u001b[1m479/479\u001b[0m \u001b[32m━━━━━━━━━━━━━━━━━━━━\u001b[0m\u001b[37m\u001b[0m \u001b[1m18s\u001b[0m 33ms/step - lambda: 1.1201 - loss: 0.1739 - learning_rate: 0.0010\n",
            "Epoch 10/50\n",
            "\u001b[1m479/479\u001b[0m \u001b[32m━━━━━━━━━━━━━━━━━━━━\u001b[0m\u001b[37m\u001b[0m \u001b[1m21s\u001b[0m 34ms/step - lambda: 1.1239 - loss: 0.1652 - learning_rate: 0.0010\n",
            "Epoch 11/50\n",
            "\u001b[1m479/479\u001b[0m \u001b[32m━━━━━━━━━━━━━━━━━━━━\u001b[0m\u001b[37m\u001b[0m \u001b[1m23s\u001b[0m 39ms/step - lambda: 1.1250 - loss: 0.1591 - learning_rate: 0.0010\n",
            "Epoch 12/50\n",
            "\u001b[1m479/479\u001b[0m \u001b[32m━━━━━━━━━━━━━━━━━━━━\u001b[0m\u001b[37m\u001b[0m \u001b[1m20s\u001b[0m 42ms/step - lambda: 1.1301 - loss: 0.1488 - learning_rate: 0.0010\n",
            "Epoch 13/50\n",
            "\u001b[1m479/479\u001b[0m \u001b[32m━━━━━━━━━━━━━━━━━━━━\u001b[0m\u001b[37m\u001b[0m \u001b[1m22s\u001b[0m 45ms/step - lambda: 1.1317 - loss: 0.1445 - learning_rate: 0.0010\n",
            "Epoch 14/50\n",
            "\u001b[1m479/479\u001b[0m \u001b[32m━━━━━━━━━━━━━━━━━━━━\u001b[0m\u001b[37m\u001b[0m \u001b[1m16s\u001b[0m 33ms/step - lambda: 1.1350 - loss: 0.1354 - learning_rate: 0.0010\n",
            "Epoch 15/50\n",
            "\u001b[1m479/479\u001b[0m \u001b[32m━━━━━━━━━━━━━━━━━━━━\u001b[0m\u001b[37m\u001b[0m \u001b[1m23s\u001b[0m 38ms/step - lambda: 1.1378 - loss: 0.1317 - learning_rate: 0.0010\n",
            "Epoch 16/50\n",
            "\u001b[1m479/479\u001b[0m \u001b[32m━━━━━━━━━━━━━━━━━━━━\u001b[0m\u001b[37m\u001b[0m \u001b[1m18s\u001b[0m 32ms/step - lambda: 1.1373 - loss: 0.1315 - learning_rate: 0.0010\n",
            "Epoch 17/50\n",
            "\u001b[1m479/479\u001b[0m \u001b[32m━━━━━━━━━━━━━━━━━━━━\u001b[0m\u001b[37m\u001b[0m \u001b[1m18s\u001b[0m 38ms/step - lambda: 1.1421 - loss: 0.1224 - learning_rate: 0.0010\n",
            "Epoch 18/50\n",
            "\u001b[1m479/479\u001b[0m \u001b[32m━━━━━━━━━━━━━━━━━━━━\u001b[0m\u001b[37m\u001b[0m \u001b[1m18s\u001b[0m 37ms/step - lambda: 1.1404 - loss: 0.1260 - learning_rate: 0.0010\n",
            "Epoch 19/50\n",
            "\u001b[1m479/479\u001b[0m \u001b[32m━━━━━━━━━━━━━━━━━━━━\u001b[0m\u001b[37m\u001b[0m \u001b[1m15s\u001b[0m 31ms/step - lambda: 1.1437 - loss: 0.1136 - learning_rate: 0.0010\n",
            "Epoch 20/50\n",
            "\u001b[1m479/479\u001b[0m \u001b[32m━━━━━━━━━━━━━━━━━━━━\u001b[0m\u001b[37m\u001b[0m \u001b[1m15s\u001b[0m 31ms/step - lambda: 1.1486 - loss: 0.1084 - learning_rate: 0.0010\n",
            "Epoch 21/50\n",
            "\u001b[1m479/479\u001b[0m \u001b[32m━━━━━━━━━━━━━━━━━━━━\u001b[0m\u001b[37m\u001b[0m \u001b[1m22s\u001b[0m 34ms/step - lambda: 1.1486 - loss: 0.1060 - learning_rate: 0.0010\n",
            "Epoch 22/50\n",
            "\u001b[1m479/479\u001b[0m \u001b[32m━━━━━━━━━━━━━━━━━━━━\u001b[0m\u001b[37m\u001b[0m \u001b[1m19s\u001b[0m 31ms/step - lambda: 1.1493 - loss: 0.1046 - learning_rate: 0.0010\n",
            "Epoch 23/50\n",
            "\u001b[1m479/479\u001b[0m \u001b[32m━━━━━━━━━━━━━━━━━━━━\u001b[0m\u001b[37m\u001b[0m \u001b[1m23s\u001b[0m 36ms/step - lambda: 1.1520 - loss: 0.0971 - learning_rate: 0.0010\n",
            "Epoch 24/50\n",
            "\u001b[1m479/479\u001b[0m \u001b[32m━━━━━━━━━━━━━━━━━━━━\u001b[0m\u001b[37m\u001b[0m \u001b[1m28s\u001b[0m 52ms/step - lambda: 1.1533 - loss: 0.0954 - learning_rate: 0.0010\n",
            "Epoch 25/50\n",
            "\u001b[1m479/479\u001b[0m \u001b[32m━━━━━━━━━━━━━━━━━━━━\u001b[0m\u001b[37m\u001b[0m \u001b[1m35s\u001b[0m 39ms/step - lambda: 1.1538 - loss: 0.0929 - learning_rate: 0.0010\n",
            "Epoch 26/50\n",
            "\u001b[1m479/479\u001b[0m \u001b[32m━━━━━━━━━━━━━━━━━━━━\u001b[0m\u001b[37m\u001b[0m \u001b[1m28s\u001b[0m 55ms/step - lambda: 1.1553 - loss: 0.0905 - learning_rate: 0.0010\n",
            "Epoch 27/50\n",
            "\u001b[1m479/479\u001b[0m \u001b[32m━━━━━━━━━━━━━━━━━━━━\u001b[0m\u001b[37m\u001b[0m \u001b[1m23s\u001b[0m 47ms/step - lambda: 1.1557 - loss: 0.0936 - learning_rate: 0.0010\n",
            "Epoch 28/50\n",
            "\u001b[1m479/479\u001b[0m \u001b[32m━━━━━━━━━━━━━━━━━━━━\u001b[0m\u001b[37m\u001b[0m \u001b[1m33s\u001b[0m 31ms/step - lambda: 1.1564 - loss: 0.0888 - learning_rate: 0.0010\n",
            "Epoch 29/50\n",
            "\u001b[1m479/479\u001b[0m \u001b[32m━━━━━━━━━━━━━━━━━━━━\u001b[0m\u001b[37m\u001b[0m \u001b[1m20s\u001b[0m 31ms/step - lambda: 1.1587 - loss: 0.0818 - learning_rate: 0.0010\n",
            "Epoch 30/50\n",
            "\u001b[1m479/479\u001b[0m \u001b[32m━━━━━━━━━━━━━━━━━━━━\u001b[0m\u001b[37m\u001b[0m \u001b[1m21s\u001b[0m 33ms/step - lambda: 1.1581 - loss: 0.0820 - learning_rate: 0.0010\n",
            "Epoch 31/50\n",
            "\u001b[1m479/479\u001b[0m \u001b[32m━━━━━━━━━━━━━━━━━━━━\u001b[0m\u001b[37m\u001b[0m \u001b[1m20s\u001b[0m 31ms/step - lambda: 1.1591 - loss: 0.0833 - learning_rate: 0.0010\n",
            "Epoch 32/50\n",
            "\u001b[1m479/479\u001b[0m \u001b[32m━━━━━━━━━━━━━━━━━━━━\u001b[0m\u001b[37m\u001b[0m \u001b[1m15s\u001b[0m 32ms/step - lambda: 1.1604 - loss: 0.0806 - learning_rate: 0.0010\n",
            "Epoch 33/50\n",
            "\u001b[1m479/479\u001b[0m \u001b[32m━━━━━━━━━━━━━━━━━━━━\u001b[0m\u001b[37m\u001b[0m \u001b[1m16s\u001b[0m 33ms/step - lambda: 1.1632 - loss: 0.0744 - learning_rate: 0.0010\n",
            "Epoch 34/50\n",
            "\u001b[1m479/479\u001b[0m \u001b[32m━━━━━━━━━━━━━━━━━━━━\u001b[0m\u001b[37m\u001b[0m \u001b[1m21s\u001b[0m 35ms/step - lambda: 1.1605 - loss: 0.0773 - learning_rate: 0.0010\n",
            "Epoch 35/50\n",
            "\u001b[1m479/479\u001b[0m \u001b[32m━━━━━━━━━━━━━━━━━━━━\u001b[0m\u001b[37m\u001b[0m \u001b[1m20s\u001b[0m 33ms/step - lambda: 1.1609 - loss: 0.0777 - learning_rate: 0.0010\n",
            "Epoch 36/50\n",
            "\u001b[1m479/479\u001b[0m \u001b[32m━━━━━━━━━━━━━━━━━━━━\u001b[0m\u001b[37m\u001b[0m \u001b[1m18s\u001b[0m 38ms/step - lambda: 1.1622 - loss: 0.0727 - learning_rate: 0.0010\n",
            "Epoch 37/50\n",
            "\u001b[1m479/479\u001b[0m \u001b[32m━━━━━━━━━━━━━━━━━━━━\u001b[0m\u001b[37m\u001b[0m \u001b[1m17s\u001b[0m 31ms/step - lambda: 1.1628 - loss: 0.0724 - learning_rate: 0.0010\n",
            "Epoch 38/50\n",
            "\u001b[1m479/479\u001b[0m \u001b[32m━━━━━━━━━━━━━━━━━━━━\u001b[0m\u001b[37m\u001b[0m \u001b[1m22s\u001b[0m 46ms/step - lambda: 1.1630 - loss: 0.0694 - learning_rate: 0.0010\n",
            "Epoch 39/50\n",
            "\u001b[1m479/479\u001b[0m \u001b[32m━━━━━━━━━━━━━━━━━━━━\u001b[0m\u001b[37m\u001b[0m \u001b[1m35s\u001b[0m 35ms/step - lambda: 1.1654 - loss: 0.0668 - learning_rate: 0.0010\n",
            "Epoch 40/50\n",
            "\u001b[1m479/479\u001b[0m \u001b[32m━━━━━━━━━━━━━━━━━━━━\u001b[0m\u001b[37m\u001b[0m \u001b[1m26s\u001b[0m 47ms/step - lambda: 1.1638 - loss: 0.0696 - learning_rate: 0.0010\n",
            "Epoch 41/50\n",
            "\u001b[1m479/479\u001b[0m \u001b[32m━━━━━━━━━━━━━━━━━━━━\u001b[0m\u001b[37m\u001b[0m \u001b[1m42s\u001b[0m 48ms/step - lambda: 1.1631 - loss: 0.0696 - learning_rate: 0.0010\n",
            "Epoch 42/50\n",
            "\u001b[1m479/479\u001b[0m \u001b[32m━━━━━━━━━━━━━━━━━━━━\u001b[0m\u001b[37m\u001b[0m \u001b[1m26s\u001b[0m 55ms/step - lambda: 1.1669 - loss: 0.0635 - learning_rate: 0.0010\n",
            "Epoch 43/50\n",
            "\u001b[1m479/479\u001b[0m \u001b[32m━━━━━━━━━━━━━━━━━━━━\u001b[0m\u001b[37m\u001b[0m \u001b[1m33s\u001b[0m 38ms/step - lambda: 1.1651 - loss: 0.0651 - learning_rate: 0.0010\n",
            "Epoch 44/50\n",
            "\u001b[1m479/479\u001b[0m \u001b[32m━━━━━━━━━━━━━━━━━━━━\u001b[0m\u001b[37m\u001b[0m \u001b[1m25s\u001b[0m 47ms/step - lambda: 1.1666 - loss: 0.0637 - learning_rate: 0.0010\n",
            "Epoch 45/50\n",
            "\u001b[1m479/479\u001b[0m \u001b[32m━━━━━━━━━━━━━━━━━━━━\u001b[0m\u001b[37m\u001b[0m \u001b[1m34s\u001b[0m 31ms/step - lambda: 1.1658 - loss: 0.0671 - learning_rate: 0.0010\n",
            "Epoch 46/50\n",
            "\u001b[1m479/479\u001b[0m \u001b[32m━━━━━━━━━━━━━━━━━━━━\u001b[0m\u001b[37m\u001b[0m \u001b[1m15s\u001b[0m 31ms/step - lambda: 1.1675 - loss: 0.0619 - learning_rate: 0.0010\n",
            "Epoch 47/50\n",
            "\u001b[1m479/479\u001b[0m \u001b[32m━━━━━━━━━━━━━━━━━━━━\u001b[0m\u001b[37m\u001b[0m \u001b[1m21s\u001b[0m 34ms/step - lambda: 1.1678 - loss: 0.0588 - learning_rate: 0.0010\n",
            "Epoch 48/50\n",
            "\u001b[1m479/479\u001b[0m \u001b[32m━━━━━━━━━━━━━━━━━━━━\u001b[0m\u001b[37m\u001b[0m \u001b[1m15s\u001b[0m 32ms/step - lambda: 1.1646 - loss: 0.0584 - learning_rate: 0.0010\n",
            "Epoch 49/50\n",
            "\u001b[1m479/479\u001b[0m \u001b[32m━━━━━━━━━━━━━━━━━━━━\u001b[0m\u001b[37m\u001b[0m \u001b[1m15s\u001b[0m 31ms/step - lambda: 1.1688 - loss: 0.0580 - learning_rate: 0.0010\n",
            "Epoch 50/50\n",
            "\u001b[1m479/479\u001b[0m \u001b[32m━━━━━━━━━━━━━━━━━━━━\u001b[0m\u001b[37m\u001b[0m \u001b[1m21s\u001b[0m 32ms/step - lambda: 1.1700 - loss: 0.0572 - learning_rate: 0.0010\n"
          ]
        }
      ]
    },
    {
      "cell_type": "code",
      "source": [
        "train_pred2 = model2.predict(X_train)\n",
        "train_rmse2 = np.sqrt(mean_squared_error(y_train, train_pred2))\n",
        "print(f\"Model 2 Training RMSE: {train_rmse2}\")\n",
        "\n",
        "plt.figure(figsize=(10, 6))\n",
        "plt.plot(history2.history['loss'], label='Training Loss')\n",
        "plt.title('Model 2: Deeper LSTM - Training Loss')\n",
        "plt.xlabel('Epochs')\n",
        "plt.ylabel('Loss (MSE)')\n",
        "plt.legend()\n",
        "plt.show()"
      ],
      "metadata": {
        "colab": {
          "base_uri": "https://localhost:8080/",
          "height": 600
        },
        "id": "HFno4W0NXmkZ",
        "outputId": "298c5c67-60a8-4a22-cb7f-ebb1d3218a16"
      },
      "execution_count": null,
      "outputs": [
        {
          "output_type": "stream",
          "name": "stdout",
          "text": [
            "\u001b[1m958/958\u001b[0m \u001b[32m━━━━━━━━━━━━━━━━━━━━\u001b[0m\u001b[37m\u001b[0m \u001b[1m8s\u001b[0m 8ms/step\n",
            "Model 2 Training RMSE: 0.27297217833946347\n"
          ]
        },
        {
          "output_type": "display_data",
          "data": {
            "text/plain": [
              "<Figure size 1000x600 with 1 Axes>"
            ],
            "image/png": "[encoded data removed]"
          },
          "metadata": {}
        }
      ]
    },
    {
      "cell_type": "code",
      "source": [
        "# Make predictions on test set\n",
        "test_predictions2 = model2.predict(X_test)\n",
        "print(f\"Raw test predictions shape: {test_predictions2.shape}\")\n",
        "\n",
        "# Inverse transform predictions back to original scale\n",
        "test_predictions2_original = target_scaler.inverse_transform(test_predictions2)\n",
        "\n",
        "# Ensure no negative values (PM2.5 can't be negative)\n",
        "test_predictions2_original = np.maximum(test_predictions2_original, 0)\n",
        "\n",
        "# Convert to integers and flatten\n",
        "test_predictions2_final = np.round(test_predictions2_original).astype(int).flatten()\n",
        "\n",
        "print(f\"Final test predictions shape: {test_predictions2_final.shape}\")\n",
        "print(f\"Test predictions range: {test_predictions2_final.min()} to {test_predictions2_final.max()}\")\n",
        "print(f\"Mean prediction: {test_predictions2_final.mean():.2f}\")\n"
      ],
      "metadata": {
        "colab": {
          "base_uri": "https://localhost:8080/"
        },
        "id": "aYX6VR2WZR7x",
        "outputId": "5fcfd11a-d403-4b20-b09d-78f1e3514c4f"
      },
      "execution_count": null,
      "outputs": [
        {
          "output_type": "stream",
          "name": "stdout",
          "text": [
            "\u001b[1m411/411\u001b[0m \u001b[32m━━━━━━━━━━━━━━━━━━━━\u001b[0m\u001b[37m\u001b[0m \u001b[1m4s\u001b[0m 9ms/step\n",
            "Raw test predictions shape: (13124, 1)\n",
            "Final test predictions shape: (13124,)\n",
            "Test predictions range: 13 to 424\n",
            "Mean prediction: 113.96\n"
          ]
        }
      ]
    },
    {
      "cell_type": "code",
      "source": [
        "# Debug the datetime index issue\n",
        "print(\"Debugging datetime index...\")\n",
        "print(f\"test_df_processed index type: {type(test_df_processed.index)}\")\n",
        "print(f\"test_df_processed index first 5 values:\")\n",
        "print(test_df_processed.index[:5])\n",
        "\n",
        "# Check if we need to use the 'datetime' column instead of index\n",
        "if 'datetime' in test_df_processed.columns:\n",
        "    print(\"Using 'datetime' column instead of index\")\n",
        "    all_test_dates = pd.to_datetime(test_df_processed['datetime'])\n",
        "else:\n",
        "    print(\"Using datetime index\")\n",
        "    all_test_dates = test_df_processed.index\n",
        "\n",
        "print(f\"All test dates first 5 values:\")\n",
        "print(all_test_dates[:5])\n",
        "print(f\"All test dates type: {type(all_test_dates)}\")\n",
        "\n",
        "print(f\"Original test data length: {len(all_test_dates)}\")\n",
        "print(f\"Predictions available: {len(test_predictions2_final)}\")\n",
        "print(f\"Missing predictions for first {sequence_length} rows\")\n",
        "\n",
        "# Padding missing predictions\n",
        "first_prediction = test_predictions2_final[0]\n",
        "padding_predictions = np.full(sequence_length, first_prediction)\n",
        "all_predictions = np.concatenate([padding_predictions, test_predictions2_final])\n",
        "\n",
        "print(f\"Total predictions after padding: {len(all_predictions)}\")\n",
        "\n",
        "# Create submission dataframe\n",
        "try:\n",
        "    # Add .dt accessor here\n",
        "    formatted_dates = all_test_dates.dt.strftime('%Y-%m-%d %-H:%M:%S')\n",
        "except Exception as e:\n",
        "    print(f\"Error formatting dates: {e}\")\n",
        "    all_test_dates = pd.to_datetime(all_test_dates)\n",
        "    # Add .dt accessor here in the fallback as well\n",
        "    formatted_dates = all_test_dates.dt.strftime('%Y-%m-%d %-H:%M:%S')\n",
        "\n",
        "submission2 = pd.DataFrame({\n",
        "    'row ID': formatted_dates,\n",
        "    'pm2.5': all_predictions.astype(int)\n",
        "})\n",
        "\n",
        "print(f\"Submission dataframe created with shape: {submission2.shape}\")\n",
        "\n",
        "# Check for duplicates before sorting\n",
        "duplicate_count = submission2['row ID'].duplicated().sum()\n",
        "if duplicate_count > 0:\n",
        "    print(f\"Removing {duplicate_count} duplicates...\")\n",
        "    submission2 = submission2.drop_duplicates(subset=['row ID'], keep='last')\n",
        "\n",
        "# Sort by row ID\n",
        "submission2 = submission2.sort_values(by='row ID').reset_index(drop=True)\n",
        "\n",
        "# Save submission file\n",
        "submission2.to_csv('model2_submission.csv', index=False)\n",
        "print(\"\\nModel 2 submission saved as 'model2_submission.csv'\")\n",
        "\n",
        "# Validation checks\n",
        "print(\"\\nSUBMISSION VALIDATION\")\n",
        "print(\"=\"*30)\n",
        "print(f\"Missing values in submission: {submission2.isnull().sum().sum()}\")\n",
        "print(f\"Duplicate row IDs: {submission2['row ID'].duplicated().sum()}\")\n",
        "\n",
        "# Verify submission statistics\n",
        "print(f\"\\nMean PM2.5: {submission2['pm2.5'].mean():.2f}\")\n",
        "print(f\"Median PM2.5: {submission2['pm2.5'].median():.2f}\")\n",
        "print(f\"Std PM2.5: {submission2['pm2.5'].std():.2f}\")\n",
        "print(f\"Min PM2.5: {submission2['pm2.5'].min()}\")\n",
        "print(f\"Max PM2.5: {submission2['pm2.5'].max()}\")\n",
        "\n",
        "print(f\"\\nModel 2 submission ready for Kaggle upload!\")"
      ],
      "metadata": {
        "colab": {
          "base_uri": "https://localhost:8080/"
        },
        "id": "YnlqPdw2aMer",
        "outputId": "a9854165-1ed9-4384-a443-b2d8918f131c"
      },
      "execution_count": null,
      "outputs": [
        {
          "output_type": "stream",
          "name": "stdout",
          "text": [
            "Debugging datetime index...\n",
            "test_df_processed index type: <class 'pandas.core.indexes.datetimes.DatetimeIndex'>\n",
            "test_df_processed index first 5 values:\n",
            "DatetimeIndex([          '1970-01-01 00:00:00',\n",
            "               '1970-01-01 00:00:00.000000001',\n",
            "               '1970-01-01 00:00:00.000000002',\n",
            "               '1970-01-01 00:00:00.000000003',\n",
            "               '1970-01-01 00:00:00.000000004'],\n",
            "              dtype='datetime64[ns]', freq=None)\n",
            "Using 'datetime' column instead of index\n",
            "All test dates first 5 values:\n",
            "1970-01-01 00:00:00.000000000   2013-07-02 04:00:00\n",
            "1970-01-01 00:00:00.000000001   2013-07-02 05:00:00\n",
            "1970-01-01 00:00:00.000000002   2013-07-02 06:00:00\n",
            "1970-01-01 00:00:00.000000003   2013-07-02 07:00:00\n",
            "1970-01-01 00:00:00.000000004   2013-07-02 08:00:00\n",
            "Name: datetime, dtype: datetime64[ns]\n",
            "All test dates type: <class 'pandas.core.series.Series'>\n",
            "Original test data length: 13148\n",
            "Predictions available: 13124\n",
            "Missing predictions for first 24 rows\n",
            "Total predictions after padding: 13148\n",
            "Submission dataframe created with shape: (13148, 2)\n",
            "\n",
            "Model 2 submission saved as 'model2_submission.csv'\n",
            "\n",
            "SUBMISSION VALIDATION\n",
            "==============================\n",
            "Missing values in submission: 0\n",
            "Duplicate row IDs: 0\n",
            "\n",
            "Mean PM2.5: 114.02\n",
            "Median PM2.5: 96.00\n",
            "Std PM2.5: 67.24\n",
            "Min PM2.5: 13\n",
            "Max PM2.5: 424\n",
            "\n",
            "Model 2 submission ready for Kaggle upload!\n"
          ]
        }
      ]
    },
    {
      "cell_type": "markdown",
      "source": [
        "**Model 2 (Deeper LSTM) - Score: 8896.6698**\n",
        "- Adding more LSTM layers increases model capacity\n",
        "- Dropout layers help with regularization\n",
        "- Significant improvement over Model 1 (≈43% reduction in error)\n",
        "- Still lacks some pattern capture capabilities"
      ],
      "metadata": {
        "id": "6Gn2mT60gYOC"
      }
    },
    {
      "cell_type": "markdown",
      "source": [
        "### **Model 3 (Bidirectional LSTM)**"
      ],
      "metadata": {
        "id": "OzYLRdt0XqX-"
      }
    },
    {
      "cell_type": "code",
      "source": [
        "model3 = Sequential([\n",
        "    Bidirectional(LSTM(64, activation='relu', return_sequences=True),\n",
        "                  input_shape=(X_train.shape[1], X_train.shape[2])),\n",
        "    Dropout(0.3),\n",
        "    Bidirectional(LSTM(32, activation='relu')),\n",
        "    Dropout(0.3),\n",
        "    Dense(32, activation='relu'),\n",
        "    Dense(16, activation='relu'),\n",
        "    Dense(1)\n",
        "])\n",
        "\n",
        "model3.compile(\n",
        "    optimizer=Adam(learning_rate=0.001),\n",
        "    loss='mse',\n",
        "    metrics=[lambda y, y_pred: tf.sqrt(tf.reduce_mean(tf.square(y - y_pred)))]\n",
        ")\n",
        "\n",
        "model3.summary()"
      ],
      "metadata": {
        "colab": {
          "base_uri": "https://localhost:8080/",
          "height": 359
        },
        "id": "XVMZAXiJXvZp",
        "outputId": "76a7d8d2-1d50-4759-b6d8-b907a03fdb2f"
      },
      "execution_count": null,
      "outputs": [
        {
          "output_type": "display_data",
          "data": {
            "text/plain": [
              "\u001b[1mModel: \"sequential_2\"\u001b[0m\n"
            ],
            "text/html": [
              "<pre style=\"white-space:pre;overflow-x:auto;line-height:normal;font-family:Menlo,'DejaVu Sans Mono',consolas,'Courier New',monospace\"><span style=\"font-weight: bold\">Model: \"sequential_2\"</span>\n",
              "</pre>\n"
            ]
          },
          "metadata": {}
        },
        {
          "output_type": "display_data",
          "data": {
            "text/plain": [
              "┏━━━━━━━━━━━━━━━━━━━━━━━━━━━━━━━━━┳━━━━━━━━━━━━━━━━━━━━━━━━┳━━━━━━━━━━━━━━━┓\n",
              "┃\u001b[1m \u001b[0m\u001b[1mLayer (type)                   \u001b[0m\u001b[1m \u001b[0m┃\u001b[1m \u001b[0m\u001b[1mOutput Shape          \u001b[0m\u001b[1m \u001b[0m┃\u001b[1m \u001b[0m\u001b[1m      Param #\u001b[0m\u001b[1m \u001b[0m┃\n",
              "┡━━━━━━━━━━━━━━━━━━━━━━━━━━━━━━━━━╇━━━━━━━━━━━━━━━━━━━━━━━━╇━━━━━━━━━━━━━━━┩\n",
              "│ bidirectional (\u001b[38;5;33mBidirectional\u001b[0m)   │ (\u001b[38;5;45mNone\u001b[0m, \u001b[38;5;34m24\u001b[0m, \u001b[38;5;34m128\u001b[0m)        │        \u001b[38;5;34m44,032\u001b[0m │\n",
              "├─────────────────────────────────┼────────────────────────┼───────────────┤\n",
              "│ dropout_2 (\u001b[38;5;33mDropout\u001b[0m)             │ (\u001b[38;5;45mNone\u001b[0m, \u001b[38;5;34m24\u001b[0m, \u001b[38;5;34m128\u001b[0m)        │             \u001b[38;5;34m0\u001b[0m │\n",
              "├─────────────────────────────────┼────────────────────────┼───────────────┤\n",
              "│ bidirectional_1 (\u001b[38;5;33mBidirectional\u001b[0m) │ (\u001b[38;5;45mNone\u001b[0m, \u001b[38;5;34m64\u001b[0m)             │        \u001b[38;5;34m41,216\u001b[0m │\n",
              "├─────────────────────────────────┼────────────────────────┼───────────────┤\n",
              "│ dropout_3 (\u001b[38;5;33mDropout\u001b[0m)             │ (\u001b[38;5;45mNone\u001b[0m, \u001b[38;5;34m64\u001b[0m)             │             \u001b[38;5;34m0\u001b[0m │\n",
              "├─────────────────────────────────┼────────────────────────┼───────────────┤\n",
              "│ dense_3 (\u001b[38;5;33mDense\u001b[0m)                 │ (\u001b[38;5;45mNone\u001b[0m, \u001b[38;5;34m32\u001b[0m)             │         \u001b[38;5;34m2,080\u001b[0m │\n",
              "├─────────────────────────────────┼────────────────────────┼───────────────┤\n",
              "│ dense_4 (\u001b[38;5;33mDense\u001b[0m)                 │ (\u001b[38;5;45mNone\u001b[0m, \u001b[38;5;34m16\u001b[0m)             │           \u001b[38;5;34m528\u001b[0m │\n",
              "├─────────────────────────────────┼────────────────────────┼───────────────┤\n",
              "│ dense_5 (\u001b[38;5;33mDense\u001b[0m)                 │ (\u001b[38;5;45mNone\u001b[0m, \u001b[38;5;34m1\u001b[0m)              │            \u001b[38;5;34m17\u001b[0m │\n",
              "└─────────────────────────────────┴────────────────────────┴───────────────┘\n"
            ],
            "text/html": [
              "<pre style=\"white-space:pre;overflow-x:auto;line-height:normal;font-family:Menlo,'DejaVu Sans Mono',consolas,'Courier New',monospace\">┏━━━━━━━━━━━━━━━━━━━━━━━━━━━━━━━━━┳━━━━━━━━━━━━━━━━━━━━━━━━┳━━━━━━━━━━━━━━━┓\n",
              "┃<span style=\"font-weight: bold\"> Layer (type)                    </span>┃<span style=\"font-weight: bold\"> Output Shape           </span>┃<span style=\"font-weight: bold\">       Param # </span>┃\n",
              "┡━━━━━━━━━━━━━━━━━━━━━━━━━━━━━━━━━╇━━━━━━━━━━━━━━━━━━━━━━━━╇━━━━━━━━━━━━━━━┩\n",
              "│ bidirectional (<span style=\"color: #0087ff; text-decoration-color: #0087ff\">Bidirectional</span>)   │ (<span style=\"color: #00d7ff; text-decoration-color: #00d7ff\">None</span>, <span style=\"color: #00af00; text-decoration-color: #00af00\">24</span>, <span style=\"color: #00af00; text-decoration-color: #00af00\">128</span>)        │        <span style=\"color: #00af00; text-decoration-color: #00af00\">44,032</span> │\n",
              "├─────────────────────────────────┼────────────────────────┼───────────────┤\n",
              "│ dropout_2 (<span style=\"color: #0087ff; text-decoration-color: #0087ff\">Dropout</span>)             │ (<span style=\"color: #00d7ff; text-decoration-color: #00d7ff\">None</span>, <span style=\"color: #00af00; text-decoration-color: #00af00\">24</span>, <span style=\"color: #00af00; text-decoration-color: #00af00\">128</span>)        │             <span style=\"color: #00af00; text-decoration-color: #00af00\">0</span> │\n",
              "├─────────────────────────────────┼────────────────────────┼───────────────┤\n",
              "│ bidirectional_1 (<span style=\"color: #0087ff; text-decoration-color: #0087ff\">Bidirectional</span>) │ (<span style=\"color: #00d7ff; text-decoration-color: #00d7ff\">None</span>, <span style=\"color: #00af00; text-decoration-color: #00af00\">64</span>)             │        <span style=\"color: #00af00; text-decoration-color: #00af00\">41,216</span> │\n",
              "├─────────────────────────────────┼────────────────────────┼───────────────┤\n",
              "│ dropout_3 (<span style=\"color: #0087ff; text-decoration-color: #0087ff\">Dropout</span>)             │ (<span style=\"color: #00d7ff; text-decoration-color: #00d7ff\">None</span>, <span style=\"color: #00af00; text-decoration-color: #00af00\">64</span>)             │             <span style=\"color: #00af00; text-decoration-color: #00af00\">0</span> │\n",
              "├─────────────────────────────────┼────────────────────────┼───────────────┤\n",
              "│ dense_3 (<span style=\"color: #0087ff; text-decoration-color: #0087ff\">Dense</span>)                 │ (<span style=\"color: #00d7ff; text-decoration-color: #00d7ff\">None</span>, <span style=\"color: #00af00; text-decoration-color: #00af00\">32</span>)             │         <span style=\"color: #00af00; text-decoration-color: #00af00\">2,080</span> │\n",
              "├─────────────────────────────────┼────────────────────────┼───────────────┤\n",
              "│ dense_4 (<span style=\"color: #0087ff; text-decoration-color: #0087ff\">Dense</span>)                 │ (<span style=\"color: #00d7ff; text-decoration-color: #00d7ff\">None</span>, <span style=\"color: #00af00; text-decoration-color: #00af00\">16</span>)             │           <span style=\"color: #00af00; text-decoration-color: #00af00\">528</span> │\n",
              "├─────────────────────────────────┼────────────────────────┼───────────────┤\n",
              "│ dense_5 (<span style=\"color: #0087ff; text-decoration-color: #0087ff\">Dense</span>)                 │ (<span style=\"color: #00d7ff; text-decoration-color: #00d7ff\">None</span>, <span style=\"color: #00af00; text-decoration-color: #00af00\">1</span>)              │            <span style=\"color: #00af00; text-decoration-color: #00af00\">17</span> │\n",
              "└─────────────────────────────────┴────────────────────────┴───────────────┘\n",
              "</pre>\n"
            ]
          },
          "metadata": {}
        },
        {
          "output_type": "display_data",
          "data": {
            "text/plain": [
              "\u001b[1m Total params: \u001b[0m\u001b[38;5;34m87,873\u001b[0m (343.25 KB)\n"
            ],
            "text/html": [
              "<pre style=\"white-space:pre;overflow-x:auto;line-height:normal;font-family:Menlo,'DejaVu Sans Mono',consolas,'Courier New',monospace\"><span style=\"font-weight: bold\"> Total params: </span><span style=\"color: #00af00; text-decoration-color: #00af00\">87,873</span> (343.25 KB)\n",
              "</pre>\n"
            ]
          },
          "metadata": {}
        },
        {
          "output_type": "display_data",
          "data": {
            "text/plain": [
              "\u001b[1m Trainable params: \u001b[0m\u001b[38;5;34m87,873\u001b[0m (343.25 KB)\n"
            ],
            "text/html": [
              "<pre style=\"white-space:pre;overflow-x:auto;line-height:normal;font-family:Menlo,'DejaVu Sans Mono',consolas,'Courier New',monospace\"><span style=\"font-weight: bold\"> Trainable params: </span><span style=\"color: #00af00; text-decoration-color: #00af00\">87,873</span> (343.25 KB)\n",
              "</pre>\n"
            ]
          },
          "metadata": {}
        },
        {
          "output_type": "display_data",
          "data": {
            "text/plain": [
              "\u001b[1m Non-trainable params: \u001b[0m\u001b[38;5;34m0\u001b[0m (0.00 B)\n"
            ],
            "text/html": [
              "<pre style=\"white-space:pre;overflow-x:auto;line-height:normal;font-family:Menlo,'DejaVu Sans Mono',consolas,'Courier New',monospace\"><span style=\"font-weight: bold\"> Non-trainable params: </span><span style=\"color: #00af00; text-decoration-color: #00af00\">0</span> (0.00 B)\n",
              "</pre>\n"
            ]
          },
          "metadata": {}
        }
      ]
    },
    {
      "cell_type": "code",
      "source": [
        "early_stopping = EarlyStopping(monitor='loss', patience=8, restore_best_weights=True)\n",
        "lr_scheduler = ReduceLROnPlateau(monitor='loss', factor=0.5, patience=4, min_lr=1e-6)\n",
        "\n",
        "history3 = model3.fit(\n",
        "    X_train, y_train,\n",
        "    epochs=60,\n",
        "    batch_size=64,\n",
        "    callbacks=[early_stopping, lr_scheduler],\n",
        "    verbose=1\n",
        ")"
      ],
      "metadata": {
        "colab": {
          "base_uri": "https://localhost:8080/"
        },
        "id": "6Y66IIupX_d9",
        "outputId": "35ecf5c8-b893-419c-ff92-1bef0af3050a"
      },
      "execution_count": null,
      "outputs": [
        {
          "output_type": "stream",
          "name": "stdout",
          "text": [
            "Epoch 1/60\n",
            "\u001b[1m479/479\u001b[0m \u001b[32m━━━━━━━━━━━━━━━━━━━━\u001b[0m\u001b[37m\u001b[0m \u001b[1m37s\u001b[0m 62ms/step - lambda: 0.9939 - loss: 0.6770 - learning_rate: 0.0010\n",
            "Epoch 2/60\n",
            "\u001b[1m479/479\u001b[0m \u001b[32m━━━━━━━━━━━━━━━━━━━━\u001b[0m\u001b[37m\u001b[0m \u001b[1m29s\u001b[0m 60ms/step - lambda: 1.0434 - loss: 0.3506 - learning_rate: 0.0010\n",
            "Epoch 3/60\n",
            "\u001b[1m479/479\u001b[0m \u001b[32m━━━━━━━━━━━━━━━━━━━━\u001b[0m\u001b[37m\u001b[0m \u001b[1m29s\u001b[0m 60ms/step - lambda: 1.0623 - loss: 0.3042 - learning_rate: 0.0010\n",
            "Epoch 4/60\n",
            "\u001b[1m479/479\u001b[0m \u001b[32m━━━━━━━━━━━━━━━━━━━━\u001b[0m\u001b[37m\u001b[0m \u001b[1m41s\u001b[0m 60ms/step - lambda: 1.0794 - loss: 0.2709 - learning_rate: 0.0010\n",
            "Epoch 5/60\n",
            "\u001b[1m479/479\u001b[0m \u001b[32m━━━━━━━━━━━━━━━━━━━━\u001b[0m\u001b[37m\u001b[0m \u001b[1m42s\u001b[0m 62ms/step - lambda: 1.0899 - loss: 0.2468 - learning_rate: 0.0010\n",
            "Epoch 6/60\n",
            "\u001b[1m479/479\u001b[0m \u001b[32m━━━━━━━━━━━━━━━━━━━━\u001b[0m\u001b[37m\u001b[0m \u001b[1m45s\u001b[0m 69ms/step - lambda: 1.0970 - loss: 0.2244 - learning_rate: 0.0010\n",
            "Epoch 7/60\n",
            "\u001b[1m479/479\u001b[0m \u001b[32m━━━━━━━━━━━━━━━━━━━━\u001b[0m\u001b[37m\u001b[0m \u001b[1m40s\u001b[0m 67ms/step - lambda: 1.1058 - loss: 0.2081 - learning_rate: 0.0010\n",
            "Epoch 8/60\n",
            "\u001b[1m479/479\u001b[0m \u001b[32m━━━━━━━━━━━━━━━━━━━━\u001b[0m\u001b[37m\u001b[0m \u001b[1m38s\u001b[0m 60ms/step - lambda: 1.1156 - loss: 0.1867 - learning_rate: 0.0010\n",
            "Epoch 9/60\n",
            "\u001b[1m479/479\u001b[0m \u001b[32m━━━━━━━━━━━━━━━━━━━━\u001b[0m\u001b[37m\u001b[0m \u001b[1m41s\u001b[0m 60ms/step - lambda: 1.1191 - loss: 0.1770 - learning_rate: 0.0010\n",
            "Epoch 10/60\n",
            "\u001b[1m479/479\u001b[0m \u001b[32m━━━━━━━━━━━━━━━━━━━━\u001b[0m\u001b[37m\u001b[0m \u001b[1m47s\u001b[0m 74ms/step - lambda: 1.1227 - loss: 0.1632 - learning_rate: 0.0010\n",
            "Epoch 11/60\n",
            "\u001b[1m479/479\u001b[0m \u001b[32m━━━━━━━━━━━━━━━━━━━━\u001b[0m\u001b[37m\u001b[0m \u001b[1m35s\u001b[0m 62ms/step - lambda: 1.1269 - loss: 0.1567 - learning_rate: 0.0010\n",
            "Epoch 12/60\n",
            "\u001b[1m479/479\u001b[0m \u001b[32m━━━━━━━━━━━━━━━━━━━━\u001b[0m\u001b[37m\u001b[0m \u001b[1m41s\u001b[0m 62ms/step - lambda: 1.1301 - loss: 0.1491 - learning_rate: 0.0010\n",
            "Epoch 13/60\n",
            "\u001b[1m479/479\u001b[0m \u001b[32m━━━━━━━━━━━━━━━━━━━━\u001b[0m\u001b[37m\u001b[0m \u001b[1m40s\u001b[0m 60ms/step - lambda: 1.1335 - loss: 0.1428 - learning_rate: 0.0010\n",
            "Epoch 14/60\n",
            "\u001b[1m479/479\u001b[0m \u001b[32m━━━━━━━━━━━━━━━━━━━━\u001b[0m\u001b[37m\u001b[0m \u001b[1m41s\u001b[0m 60ms/step - lambda: 1.1358 - loss: 0.1391 - learning_rate: 0.0010\n",
            "Epoch 15/60\n",
            "\u001b[1m479/479\u001b[0m \u001b[32m━━━━━━━━━━━━━━━━━━━━\u001b[0m\u001b[37m\u001b[0m \u001b[1m29s\u001b[0m 61ms/step - lambda: 1.1487 - loss: 0.2396 - learning_rate: 0.0010\n",
            "Epoch 16/60\n",
            "\u001b[1m479/479\u001b[0m \u001b[32m━━━━━━━━━━━━━━━━━━━━\u001b[0m\u001b[37m\u001b[0m \u001b[1m30s\u001b[0m 63ms/step - lambda: 1.1165 - loss: 0.1848 - learning_rate: 0.0010\n",
            "Epoch 17/60\n",
            "\u001b[1m479/479\u001b[0m \u001b[32m━━━━━━━━━━━━━━━━━━━━\u001b[0m\u001b[37m\u001b[0m \u001b[1m42s\u001b[0m 64ms/step - lambda: 1.1303 - loss: 0.1490 - learning_rate: 0.0010\n",
            "Epoch 18/60\n",
            "\u001b[1m479/479\u001b[0m \u001b[32m━━━━━━━━━━━━━━━━━━━━\u001b[0m\u001b[37m\u001b[0m \u001b[1m41s\u001b[0m 64ms/step - lambda: 1.1383 - loss: 0.1346 - learning_rate: 0.0010\n",
            "Epoch 19/60\n",
            "\u001b[1m479/479\u001b[0m \u001b[32m━━━━━━━━━━━━━━━━━━━━\u001b[0m\u001b[37m\u001b[0m \u001b[1m41s\u001b[0m 64ms/step - lambda: 1.1411 - loss: 0.1269 - learning_rate: 0.0010\n",
            "Epoch 20/60\n",
            "\u001b[1m479/479\u001b[0m \u001b[32m━━━━━━━━━━━━━━━━━━━━\u001b[0m\u001b[37m\u001b[0m \u001b[1m43s\u001b[0m 67ms/step - lambda: 1.1418 - loss: 0.1211 - learning_rate: 0.0010\n",
            "Epoch 21/60\n",
            "\u001b[1m479/479\u001b[0m \u001b[32m━━━━━━━━━━━━━━━━━━━━\u001b[0m\u001b[37m\u001b[0m \u001b[1m42s\u001b[0m 70ms/step - lambda: 1.2191 - loss: 1.3071 - learning_rate: 0.0010\n",
            "Epoch 22/60\n",
            "\u001b[1m479/479\u001b[0m \u001b[32m━━━━━━━━━━━━━━━━━━━━\u001b[0m\u001b[37m\u001b[0m \u001b[1m40s\u001b[0m 67ms/step - lambda: 1.1364 - loss: 0.1639 - learning_rate: 0.0010\n",
            "Epoch 23/60\n",
            "\u001b[1m479/479\u001b[0m \u001b[32m━━━━━━━━━━━━━━━━━━━━\u001b[0m\u001b[37m\u001b[0m \u001b[1m39s\u001b[0m 62ms/step - lambda: 1.1501 - loss: 0.2521 - learning_rate: 0.0010\n",
            "Epoch 24/60\n",
            "\u001b[1m479/479\u001b[0m \u001b[32m━━━━━━━━━━━━━━━━━━━━\u001b[0m\u001b[37m\u001b[0m \u001b[1m29s\u001b[0m 61ms/step - lambda: 1.1429 - loss: 0.1598 - learning_rate: 0.0010\n",
            "Epoch 25/60\n",
            "\u001b[1m479/479\u001b[0m \u001b[32m━━━━━━━━━━━━━━━━━━━━\u001b[0m\u001b[37m\u001b[0m \u001b[1m41s\u001b[0m 61ms/step - lambda: 1.1187 - loss: 0.2143 - learning_rate: 5.0000e-04\n",
            "Epoch 26/60\n",
            "\u001b[1m479/479\u001b[0m \u001b[32m━━━━━━━━━━━━━━━━━━━━\u001b[0m\u001b[37m\u001b[0m \u001b[1m41s\u001b[0m 60ms/step - lambda: 1.1245 - loss: 0.1754 - learning_rate: 5.0000e-04\n",
            "Epoch 27/60\n",
            "\u001b[1m479/479\u001b[0m \u001b[32m━━━━━━━━━━━━━━━━━━━━\u001b[0m\u001b[37m\u001b[0m \u001b[1m41s\u001b[0m 60ms/step - lambda: 1.1329 - loss: 0.1501 - learning_rate: 5.0000e-04\n",
            "Epoch 28/60\n",
            "\u001b[1m479/479\u001b[0m \u001b[32m━━━━━━━━━━━━━━━━━━━━\u001b[0m\u001b[37m\u001b[0m \u001b[1m42s\u001b[0m 63ms/step - lambda: 1.1378 - loss: 0.1413 - learning_rate: 5.0000e-04\n"
          ]
        }
      ]
    },
    {
      "cell_type": "code",
      "source": [
        "train_pred3 = model3.predict(X_train)\n",
        "train_rmse3 = np.sqrt(mean_squared_error(y_train, train_pred3))\n",
        "print(f\"Model 3 Training RMSE: {train_rmse3}\")\n",
        "\n",
        "plt.figure(figsize=(10, 6))\n",
        "plt.plot(history3.history['loss'], label='Training Loss')\n",
        "plt.title('Model 3: Bidirectional LSTM - Training Loss')\n",
        "plt.xlabel('Epochs')\n",
        "plt.ylabel('Loss (MSE)')\n",
        "plt.legend()\n",
        "plt.show()"
      ],
      "metadata": {
        "colab": {
          "base_uri": "https://localhost:8080/",
          "height": 595
        },
        "id": "eZmiRZ6XYDgy",
        "outputId": "07b6fb1b-53d1-4cf6-a9fb-fb1d57279553"
      },
      "execution_count": null,
      "outputs": [
        {
          "output_type": "stream",
          "name": "stdout",
          "text": [
            "\u001b[1m958/958\u001b[0m \u001b[32m━━━━━━━━━━━━━━━━━━━━\u001b[0m\u001b[37m\u001b[0m \u001b[1m16s\u001b[0m 16ms/step\n",
            "Model 3 Training RMSE: 0.37700419243932665\n"
          ]
        },
        {
          "output_type": "display_data",
          "data": {
            "text/plain": [
              "<Figure size 1000x600 with 1 Axes>"
            ],
            "image/png": "[encoded data removed]"
          },
          "metadata": {}
        }
      ]
    },
    {
      "cell_type": "code",
      "source": [
        "# Make predictions on test set\n",
        "test_predictions3 = model3.predict(X_test)\n",
        "print(f\"Raw test predictions shape: {test_predictions3.shape}\")\n",
        "\n",
        "# Inverse transform predictions back to original scale\n",
        "test_predictions3_original = target_scaler.inverse_transform(test_predictions3)\n",
        "\n",
        "# Ensure no negative values (PM2.5 can't be negative)\n",
        "test_predictions3_original = np.maximum(test_predictions3_original, 0)\n",
        "\n",
        "# Convert to integers and flatten\n",
        "test_predictions3_final = np.round(test_predictions3_original).astype(int).flatten()\n",
        "\n",
        "print(f\"Final test predictions shape: {test_predictions3_final.shape}\")\n",
        "print(f\"Test predictions range: {test_predictions3_final.min()} to {test_predictions3_final.max()}\")\n",
        "print(f\"Mean prediction: {test_predictions3_final.mean():.2f}\")"
      ],
      "metadata": {
        "colab": {
          "base_uri": "https://localhost:8080/"
        },
        "id": "cvU1qkN1fYvP",
        "outputId": "b21a5990-b735-4b1b-ad30-aa31991ae0d5"
      },
      "execution_count": null,
      "outputs": [
        {
          "output_type": "stream",
          "name": "stdout",
          "text": [
            "\u001b[1m411/411\u001b[0m \u001b[32m━━━━━━━━━━━━━━━━━━━━\u001b[0m\u001b[37m\u001b[0m \u001b[1m6s\u001b[0m 14ms/step\n",
            "Raw test predictions shape: (13124, 1)\n",
            "Final test predictions shape: (13124,)\n",
            "Test predictions range: 0 to 840\n",
            "Mean prediction: 119.73\n"
          ]
        }
      ]
    },
    {
      "cell_type": "code",
      "source": [
        "# Debug the datetime index issue\n",
        "print(\"Debugging datetime index...\")\n",
        "print(f\"test_df_processed index type: {type(test_df_processed.index)}\")\n",
        "print(f\"test_df_processed index first 5 values:\")\n",
        "print(test_df_processed.index[:5])\n",
        "\n",
        "# Check if we need to use the 'datetime' column instead of index\n",
        "if 'datetime' in test_df_processed.columns:\n",
        "    print(\"Using 'datetime' column instead of index\")\n",
        "    all_test_dates = pd.to_datetime(test_df_processed['datetime'])\n",
        "else:\n",
        "    print(\"Using datetime index\")\n",
        "    all_test_dates = test_df_processed.index\n",
        "\n",
        "print(f\"All test dates first 5 values:\")\n",
        "print(all_test_dates[:5])\n",
        "print(f\"All test dates type: {type(all_test_dates)}\")\n",
        "\n",
        "print(f\"Original test data length: {len(all_test_dates)}\")\n",
        "print(f\"Predictions available: {len(test_predictions3_final)}\")\n",
        "print(f\"Missing predictions for first {sequence_length} rows\")\n",
        "\n",
        "# Padding missing predictions\n",
        "first_prediction = test_predictions3_final[0]\n",
        "padding_predictions = np.full(sequence_length, first_prediction)\n",
        "all_predictions = np.concatenate([padding_predictions, test_predictions3_final])\n",
        "\n",
        "print(f\"Total predictions after padding: {len(all_predictions)}\")\n",
        "\n",
        "# Create submission dataframe\n",
        "formatted_dates = all_test_dates.dt.strftime('%Y-%m-%d %-H:%M:%S')\n",
        "submission3 = pd.DataFrame({\n",
        "    'row ID': formatted_dates,\n",
        "    'pm2.5': all_predictions.astype(int)\n",
        "})\n",
        "\n",
        "print(f\"Submission dataframe created with shape: {submission3.shape}\")\n",
        "\n",
        "# Check for duplicates before sorting\n",
        "duplicate_count = submission3['row ID'].duplicated().sum()\n",
        "if duplicate_count > 0:\n",
        "    print(f\"Removing {duplicate_count} duplicates...\")\n",
        "    submission3 = submission3.drop_duplicates(subset=['row ID'], keep='last')\n",
        "\n",
        "# Sort by row ID\n",
        "submission3 = submission3.sort_values(by='row ID').reset_index(drop=True)\n",
        "\n",
        "# Save submission file\n",
        "submission3.to_csv('model3_submission.csv', index=False)\n",
        "print(\"\\nModel 3 submission saved as 'model3_submission.csv'\")\n",
        "\n",
        "# Validation checks\n",
        "print(\"\\nSUBMISSION VALIDATION\")\n",
        "print(\"=\"*30)\n",
        "print(f\"Missing values in submission: {submission3.isnull().sum().sum()}\")\n",
        "print(f\"Duplicate row IDs: {submission3['row ID'].duplicated().sum()}\")\n",
        "\n",
        "# Verify submission statistics\n",
        "print(f\"\\nMean PM2.5: {submission3['pm2.5'].mean():.2f}\")\n",
        "print(f\"Median PM2.5: {submission3['pm2.5'].median():.2f}\")\n",
        "print(f\"Std PM2.5: {submission3['pm2.5'].std():.2f}\")\n",
        "print(f\"Min PM2.5: {submission3['pm2.5'].min()}\")\n",
        "print(f\"Max PM2.5: {submission3['pm2.5'].max()}\")\n",
        "\n",
        "print(f\"\\nModel 3 submission ready for Kaggle upload!\")\n"
      ],
      "metadata": {
        "colab": {
          "base_uri": "https://localhost:8080/"
        },
        "id": "KJRqBHNYfaV_",
        "outputId": "5ef965c7-94e7-4b43-98c9-36284f27d750"
      },
      "execution_count": null,
      "outputs": [
        {
          "output_type": "stream",
          "name": "stdout",
          "text": [
            "Debugging datetime index...\n",
            "test_df_processed index type: <class 'pandas.core.indexes.datetimes.DatetimeIndex'>\n",
            "test_df_processed index first 5 values:\n",
            "DatetimeIndex([          '1970-01-01 00:00:00',\n",
            "               '1970-01-01 00:00:00.000000001',\n",
            "               '1970-01-01 00:00:00.000000002',\n",
            "               '1970-01-01 00:00:00.000000003',\n",
            "               '1970-01-01 00:00:00.000000004'],\n",
            "              dtype='datetime64[ns]', freq=None)\n",
            "Using 'datetime' column instead of index\n",
            "All test dates first 5 values:\n",
            "1970-01-01 00:00:00.000000000   2013-07-02 04:00:00\n",
            "1970-01-01 00:00:00.000000001   2013-07-02 05:00:00\n",
            "1970-01-01 00:00:00.000000002   2013-07-02 06:00:00\n",
            "1970-01-01 00:00:00.000000003   2013-07-02 07:00:00\n",
            "1970-01-01 00:00:00.000000004   2013-07-02 08:00:00\n",
            "Name: datetime, dtype: datetime64[ns]\n",
            "All test dates type: <class 'pandas.core.series.Series'>\n",
            "Original test data length: 13148\n",
            "Predictions available: 13124\n",
            "Missing predictions for first 24 rows\n",
            "Total predictions after padding: 13148\n",
            "Submission dataframe created with shape: (13148, 2)\n",
            "\n",
            "Model 3 submission saved as 'model3_submission.csv'\n",
            "\n",
            "SUBMISSION VALIDATION\n",
            "==============================\n",
            "Missing values in submission: 0\n",
            "Duplicate row IDs: 0\n",
            "\n",
            "Mean PM2.5: 119.74\n",
            "Median PM2.5: 94.00\n",
            "Std PM2.5: 88.78\n",
            "Min PM2.5: 0\n",
            "Max PM2.5: 840\n",
            "\n",
            "Model 3 submission ready for Kaggle upload!\n"
          ]
        }
      ]
    },
    {
      "cell_type": "markdown",
      "source": [
        "**Model 3 (Bidirectional LSTM) Score: 8468.9763**\n",
        "- Bidirectional architecture allows capturing past and future context\n",
        "- Further improvement over Model 2 (≈5% reduction)\n",
        "- Shows value of considering temporal context from both directions"
      ],
      "metadata": {
        "id": "u11JAoPfg5ps"
      }
    },
    {
      "cell_type": "markdown",
      "source": [
        "### **Model 4 (GRU with Batch Normalization)**"
      ],
      "metadata": {
        "id": "6G1Y5ctfYJ3O"
      }
    },
    {
      "cell_type": "code",
      "source": [
        "model4 = Sequential([\n",
        "    GRU(128, activation='relu', return_sequences=True, input_shape=(X_train.shape[1], X_train.shape[2])),\n",
        "    BatchNormalization(),\n",
        "    Dropout(0.3),\n",
        "    GRU(64, activation='relu', return_sequences=True),\n",
        "    BatchNormalization(),\n",
        "    Dropout(0.3),\n",
        "    GRU(32, activation='relu'),\n",
        "    BatchNormalization(),\n",
        "    Dropout(0.2),\n",
        "    Dense(64, activation='relu'),\n",
        "    Dense(32, activation='relu'),\n",
        "    Dense(1)\n",
        "])\n",
        "\n",
        "model4.compile(\n",
        "    optimizer=Adam(learning_rate=0.001),\n",
        "    loss='mse',\n",
        "    metrics=[lambda y, y_pred: tf.sqrt(tf.reduce_mean(tf.square(y - y_pred)))]\n",
        ")\n",
        "\n",
        "model4.summary()"
      ],
      "metadata": {
        "colab": {
          "base_uri": "https://localhost:8080/",
          "height": 571
        },
        "id": "oFTNOWhrYIvy",
        "outputId": "04c41124-3c6c-4894-d33f-087808fa146a"
      },
      "execution_count": null,
      "outputs": [
        {
          "output_type": "display_data",
          "data": {
            "text/plain": [
              "\u001b[1mModel: \"sequential_3\"\u001b[0m\n"
            ],
            "text/html": [
              "<pre style=\"white-space:pre;overflow-x:auto;line-height:normal;font-family:Menlo,'DejaVu Sans Mono',consolas,'Courier New',monospace\"><span style=\"font-weight: bold\">Model: \"sequential_3\"</span>\n",
              "</pre>\n"
            ]
          },
          "metadata": {}
        },
        {
          "output_type": "display_data",
          "data": {
            "text/plain": [
              "┏━━━━━━━━━━━━━━━━━━━━━━━━━━━━━━━━━┳━━━━━━━━━━━━━━━━━━━━━━━━┳━━━━━━━━━━━━━━━┓\n",
              "┃\u001b[1m \u001b[0m\u001b[1mLayer (type)                   \u001b[0m\u001b[1m \u001b[0m┃\u001b[1m \u001b[0m\u001b[1mOutput Shape          \u001b[0m\u001b[1m \u001b[0m┃\u001b[1m \u001b[0m\u001b[1m      Param #\u001b[0m\u001b[1m \u001b[0m┃\n",
              "┡━━━━━━━━━━━━━━━━━━━━━━━━━━━━━━━━━╇━━━━━━━━━━━━━━━━━━━━━━━━╇━━━━━━━━━━━━━━━┩\n",
              "│ gru (\u001b[38;5;33mGRU\u001b[0m)                       │ (\u001b[38;5;45mNone\u001b[0m, \u001b[38;5;34m24\u001b[0m, \u001b[38;5;34m128\u001b[0m)        │        \u001b[38;5;34m57,984\u001b[0m │\n",
              "├─────────────────────────────────┼────────────────────────┼───────────────┤\n",
              "│ batch_normalization             │ (\u001b[38;5;45mNone\u001b[0m, \u001b[38;5;34m24\u001b[0m, \u001b[38;5;34m128\u001b[0m)        │           \u001b[38;5;34m512\u001b[0m │\n",
              "│ (\u001b[38;5;33mBatchNormalization\u001b[0m)            │                        │               │\n",
              "├─────────────────────────────────┼────────────────────────┼───────────────┤\n",
              "│ dropout_4 (\u001b[38;5;33mDropout\u001b[0m)             │ (\u001b[38;5;45mNone\u001b[0m, \u001b[38;5;34m24\u001b[0m, \u001b[38;5;34m128\u001b[0m)        │             \u001b[38;5;34m0\u001b[0m │\n",
              "├─────────────────────────────────┼────────────────────────┼───────────────┤\n",
              "│ gru_1 (\u001b[38;5;33mGRU\u001b[0m)                     │ (\u001b[38;5;45mNone\u001b[0m, \u001b[38;5;34m24\u001b[0m, \u001b[38;5;34m64\u001b[0m)         │        \u001b[38;5;34m37,248\u001b[0m │\n",
              "├─────────────────────────────────┼────────────────────────┼───────────────┤\n",
              "│ batch_normalization_1           │ (\u001b[38;5;45mNone\u001b[0m, \u001b[38;5;34m24\u001b[0m, \u001b[38;5;34m64\u001b[0m)         │           \u001b[38;5;34m256\u001b[0m │\n",
              "│ (\u001b[38;5;33mBatchNormalization\u001b[0m)            │                        │               │\n",
              "├─────────────────────────────────┼────────────────────────┼───────────────┤\n",
              "│ dropout_5 (\u001b[38;5;33mDropout\u001b[0m)             │ (\u001b[38;5;45mNone\u001b[0m, \u001b[38;5;34m24\u001b[0m, \u001b[38;5;34m64\u001b[0m)         │             \u001b[38;5;34m0\u001b[0m │\n",
              "├─────────────────────────────────┼────────────────────────┼───────────────┤\n",
              "│ gru_2 (\u001b[38;5;33mGRU\u001b[0m)                     │ (\u001b[38;5;45mNone\u001b[0m, \u001b[38;5;34m32\u001b[0m)             │         \u001b[38;5;34m9,408\u001b[0m │\n",
              "├─────────────────────────────────┼────────────────────────┼───────────────┤\n",
              "│ batch_normalization_2           │ (\u001b[38;5;45mNone\u001b[0m, \u001b[38;5;34m32\u001b[0m)             │           \u001b[38;5;34m128\u001b[0m │\n",
              "│ (\u001b[38;5;33mBatchNormalization\u001b[0m)            │                        │               │\n",
              "├─────────────────────────────────┼────────────────────────┼───────────────┤\n",
              "│ dropout_6 (\u001b[38;5;33mDropout\u001b[0m)             │ (\u001b[38;5;45mNone\u001b[0m, \u001b[38;5;34m32\u001b[0m)             │             \u001b[38;5;34m0\u001b[0m │\n",
              "├─────────────────────────────────┼────────────────────────┼───────────────┤\n",
              "│ dense_6 (\u001b[38;5;33mDense\u001b[0m)                 │ (\u001b[38;5;45mNone\u001b[0m, \u001b[38;5;34m64\u001b[0m)             │         \u001b[38;5;34m2,112\u001b[0m │\n",
              "├─────────────────────────────────┼────────────────────────┼───────────────┤\n",
              "│ dense_7 (\u001b[38;5;33mDense\u001b[0m)                 │ (\u001b[38;5;45mNone\u001b[0m, \u001b[38;5;34m32\u001b[0m)             │         \u001b[38;5;34m2,080\u001b[0m │\n",
              "├─────────────────────────────────┼────────────────────────┼───────────────┤\n",
              "│ dense_8 (\u001b[38;5;33mDense\u001b[0m)                 │ (\u001b[38;5;45mNone\u001b[0m, \u001b[38;5;34m1\u001b[0m)              │            \u001b[38;5;34m33\u001b[0m │\n",
              "└─────────────────────────────────┴────────────────────────┴───────────────┘\n"
            ],
            "text/html": [
              "<pre style=\"white-space:pre;overflow-x:auto;line-height:normal;font-family:Menlo,'DejaVu Sans Mono',consolas,'Courier New',monospace\">┏━━━━━━━━━━━━━━━━━━━━━━━━━━━━━━━━━┳━━━━━━━━━━━━━━━━━━━━━━━━┳━━━━━━━━━━━━━━━┓\n",
              "┃<span style=\"font-weight: bold\"> Layer (type)                    </span>┃<span style=\"font-weight: bold\"> Output Shape           </span>┃<span style=\"font-weight: bold\">       Param # </span>┃\n",
              "┡━━━━━━━━━━━━━━━━━━━━━━━━━━━━━━━━━╇━━━━━━━━━━━━━━━━━━━━━━━━╇━━━━━━━━━━━━━━━┩\n",
              "│ gru (<span style=\"color: #0087ff; text-decoration-color: #0087ff\">GRU</span>)                       │ (<span style=\"color: #00d7ff; text-decoration-color: #00d7ff\">None</span>, <span style=\"color: #00af00; text-decoration-color: #00af00\">24</span>, <span style=\"color: #00af00; text-decoration-color: #00af00\">128</span>)        │        <span style=\"color: #00af00; text-decoration-color: #00af00\">57,984</span> │\n",
              "├─────────────────────────────────┼────────────────────────┼───────────────┤\n",
              "│ batch_normalization             │ (<span style=\"color: #00d7ff; text-decoration-color: #00d7ff\">None</span>, <span style=\"color: #00af00; text-decoration-color: #00af00\">24</span>, <span style=\"color: #00af00; text-decoration-color: #00af00\">128</span>)        │           <span style=\"color: #00af00; text-decoration-color: #00af00\">512</span> │\n",
              "│ (<span style=\"color: #0087ff; text-decoration-color: #0087ff\">BatchNormalization</span>)            │                        │               │\n",
              "├─────────────────────────────────┼────────────────────────┼───────────────┤\n",
              "│ dropout_4 (<span style=\"color: #0087ff; text-decoration-color: #0087ff\">Dropout</span>)             │ (<span style=\"color: #00d7ff; text-decoration-color: #00d7ff\">None</span>, <span style=\"color: #00af00; text-decoration-color: #00af00\">24</span>, <span style=\"color: #00af00; text-decoration-color: #00af00\">128</span>)        │             <span style=\"color: #00af00; text-decoration-color: #00af00\">0</span> │\n",
              "├─────────────────────────────────┼────────────────────────┼───────────────┤\n",
              "│ gru_1 (<span style=\"color: #0087ff; text-decoration-color: #0087ff\">GRU</span>)                     │ (<span style=\"color: #00d7ff; text-decoration-color: #00d7ff\">None</span>, <span style=\"color: #00af00; text-decoration-color: #00af00\">24</span>, <span style=\"color: #00af00; text-decoration-color: #00af00\">64</span>)         │        <span style=\"color: #00af00; text-decoration-color: #00af00\">37,248</span> │\n",
              "├─────────────────────────────────┼────────────────────────┼───────────────┤\n",
              "│ batch_normalization_1           │ (<span style=\"color: #00d7ff; text-decoration-color: #00d7ff\">None</span>, <span style=\"color: #00af00; text-decoration-color: #00af00\">24</span>, <span style=\"color: #00af00; text-decoration-color: #00af00\">64</span>)         │           <span style=\"color: #00af00; text-decoration-color: #00af00\">256</span> │\n",
              "│ (<span style=\"color: #0087ff; text-decoration-color: #0087ff\">BatchNormalization</span>)            │                        │               │\n",
              "├─────────────────────────────────┼────────────────────────┼───────────────┤\n",
              "│ dropout_5 (<span style=\"color: #0087ff; text-decoration-color: #0087ff\">Dropout</span>)             │ (<span style=\"color: #00d7ff; text-decoration-color: #00d7ff\">None</span>, <span style=\"color: #00af00; text-decoration-color: #00af00\">24</span>, <span style=\"color: #00af00; text-decoration-color: #00af00\">64</span>)         │             <span style=\"color: #00af00; text-decoration-color: #00af00\">0</span> │\n",
              "├─────────────────────────────────┼────────────────────────┼───────────────┤\n",
              "│ gru_2 (<span style=\"color: #0087ff; text-decoration-color: #0087ff\">GRU</span>)                     │ (<span style=\"color: #00d7ff; text-decoration-color: #00d7ff\">None</span>, <span style=\"color: #00af00; text-decoration-color: #00af00\">32</span>)             │         <span style=\"color: #00af00; text-decoration-color: #00af00\">9,408</span> │\n",
              "├─────────────────────────────────┼────────────────────────┼───────────────┤\n",
              "│ batch_normalization_2           │ (<span style=\"color: #00d7ff; text-decoration-color: #00d7ff\">None</span>, <span style=\"color: #00af00; text-decoration-color: #00af00\">32</span>)             │           <span style=\"color: #00af00; text-decoration-color: #00af00\">128</span> │\n",
              "│ (<span style=\"color: #0087ff; text-decoration-color: #0087ff\">BatchNormalization</span>)            │                        │               │\n",
              "├─────────────────────────────────┼────────────────────────┼───────────────┤\n",
              "│ dropout_6 (<span style=\"color: #0087ff; text-decoration-color: #0087ff\">Dropout</span>)             │ (<span style=\"color: #00d7ff; text-decoration-color: #00d7ff\">None</span>, <span style=\"color: #00af00; text-decoration-color: #00af00\">32</span>)             │             <span style=\"color: #00af00; text-decoration-color: #00af00\">0</span> │\n",
              "├─────────────────────────────────┼────────────────────────┼───────────────┤\n",
              "│ dense_6 (<span style=\"color: #0087ff; text-decoration-color: #0087ff\">Dense</span>)                 │ (<span style=\"color: #00d7ff; text-decoration-color: #00d7ff\">None</span>, <span style=\"color: #00af00; text-decoration-color: #00af00\">64</span>)             │         <span style=\"color: #00af00; text-decoration-color: #00af00\">2,112</span> │\n",
              "├─────────────────────────────────┼────────────────────────┼───────────────┤\n",
              "│ dense_7 (<span style=\"color: #0087ff; text-decoration-color: #0087ff\">Dense</span>)                 │ (<span style=\"color: #00d7ff; text-decoration-color: #00d7ff\">None</span>, <span style=\"color: #00af00; text-decoration-color: #00af00\">32</span>)             │         <span style=\"color: #00af00; text-decoration-color: #00af00\">2,080</span> │\n",
              "├─────────────────────────────────┼────────────────────────┼───────────────┤\n",
              "│ dense_8 (<span style=\"color: #0087ff; text-decoration-color: #0087ff\">Dense</span>)                 │ (<span style=\"color: #00d7ff; text-decoration-color: #00d7ff\">None</span>, <span style=\"color: #00af00; text-decoration-color: #00af00\">1</span>)              │            <span style=\"color: #00af00; text-decoration-color: #00af00\">33</span> │\n",
              "└─────────────────────────────────┴────────────────────────┴───────────────┘\n",
              "</pre>\n"
            ]
          },
          "metadata": {}
        },
        {
          "output_type": "display_data",
          "data": {
            "text/plain": [
              "\u001b[1m Total params: \u001b[0m\u001b[38;5;34m109,761\u001b[0m (428.75 KB)\n"
            ],
            "text/html": [
              "<pre style=\"white-space:pre;overflow-x:auto;line-height:normal;font-family:Menlo,'DejaVu Sans Mono',consolas,'Courier New',monospace\"><span style=\"font-weight: bold\"> Total params: </span><span style=\"color: #00af00; text-decoration-color: #00af00\">109,761</span> (428.75 KB)\n",
              "</pre>\n"
            ]
          },
          "metadata": {}
        },
        {
          "output_type": "display_data",
          "data": {
            "text/plain": [
              "\u001b[1m Trainable params: \u001b[0m\u001b[38;5;34m109,313\u001b[0m (427.00 KB)\n"
            ],
            "text/html": [
              "<pre style=\"white-space:pre;overflow-x:auto;line-height:normal;font-family:Menlo,'DejaVu Sans Mono',consolas,'Courier New',monospace\"><span style=\"font-weight: bold\"> Trainable params: </span><span style=\"color: #00af00; text-decoration-color: #00af00\">109,313</span> (427.00 KB)\n",
              "</pre>\n"
            ]
          },
          "metadata": {}
        },
        {
          "output_type": "display_data",
          "data": {
            "text/plain": [
              "\u001b[1m Non-trainable params: \u001b[0m\u001b[38;5;34m448\u001b[0m (1.75 KB)\n"
            ],
            "text/html": [
              "<pre style=\"white-space:pre;overflow-x:auto;line-height:normal;font-family:Menlo,'DejaVu Sans Mono',consolas,'Courier New',monospace\"><span style=\"font-weight: bold\"> Non-trainable params: </span><span style=\"color: #00af00; text-decoration-color: #00af00\">448</span> (1.75 KB)\n",
              "</pre>\n"
            ]
          },
          "metadata": {}
        }
      ]
    },
    {
      "cell_type": "code",
      "source": [
        "early_stopping = EarlyStopping(monitor='loss', patience=10, restore_best_weights=True)\n",
        "lr_scheduler = ReduceLROnPlateau(monitor='loss', factor=0.3, patience=5, min_lr=1e-7)\n",
        "\n",
        "history4 = model4.fit(\n",
        "    X_train, y_train,\n",
        "    epochs=80,\n",
        "    batch_size=32,  # Smaller batch size for more stable training\n",
        "    callbacks=[early_stopping, lr_scheduler],\n",
        "    verbose=1\n",
        ")"
      ],
      "metadata": {
        "colab": {
          "base_uri": "https://localhost:8080/"
        },
        "id": "IcYTlT3uYW1O",
        "outputId": "9a023b26-c7d7-4ac6-be15-e57deb10bfa2"
      },
      "execution_count": null,
      "outputs": [
        {
          "output_type": "stream",
          "name": "stdout",
          "text": [
            "Epoch 1/80\n",
            "\u001b[1m958/958\u001b[0m \u001b[32m━━━━━━━━━━━━━━━━━━━━\u001b[0m\u001b[37m\u001b[0m \u001b[1m75s\u001b[0m 68ms/step - lambda: 1.0045 - loss: 0.4900 - learning_rate: 0.0010\n",
            "Epoch 2/80\n",
            "\u001b[1m958/958\u001b[0m \u001b[32m━━━━━━━━━━━━━━━━━━━━\u001b[0m\u001b[37m\u001b[0m \u001b[1m65s\u001b[0m 68ms/step - lambda: 1.0566 - loss: 0.3332 - learning_rate: 0.0010\n",
            "Epoch 3/80\n",
            "\u001b[1m958/958\u001b[0m \u001b[32m━━━━━━━━━━━━━━━━━━━━\u001b[0m\u001b[37m\u001b[0m \u001b[1m82s\u001b[0m 68ms/step - lambda: 1.0760 - loss: 0.2830 - learning_rate: 0.0010\n",
            "Epoch 4/80\n",
            "\u001b[1m958/958\u001b[0m \u001b[32m━━━━━━━━━━━━━━━━━━━━\u001b[0m\u001b[37m\u001b[0m \u001b[1m81s\u001b[0m 67ms/step - lambda: 1.0878 - loss: 0.2468 - learning_rate: 0.0010\n",
            "Epoch 5/80\n",
            "\u001b[1m958/958\u001b[0m \u001b[32m━━━━━━━━━━━━━━━━━━━━\u001b[0m\u001b[37m\u001b[0m \u001b[1m69s\u001b[0m 72ms/step - lambda: 1.0989 - loss: 0.2190 - learning_rate: 0.0010\n",
            "Epoch 6/80\n",
            "\u001b[1m958/958\u001b[0m \u001b[32m━━━━━━━━━━━━━━━━━━━━\u001b[0m\u001b[37m\u001b[0m \u001b[1m79s\u001b[0m 69ms/step - lambda: 1.1052 - loss: 0.1994 - learning_rate: 0.0010\n",
            "Epoch 7/80\n",
            "\u001b[1m958/958\u001b[0m \u001b[32m━━━━━━━━━━━━━━━━━━━━\u001b[0m\u001b[37m\u001b[0m \u001b[1m96s\u001b[0m 84ms/step - lambda: 1.1101 - loss: 0.1835 - learning_rate: 0.0010\n",
            "Epoch 8/80\n",
            "\u001b[1m958/958\u001b[0m \u001b[32m━━━━━━━━━━━━━━━━━━━━\u001b[0m\u001b[37m\u001b[0m \u001b[1m69s\u001b[0m 72ms/step - lambda: 1.1181 - loss: 0.1649 - learning_rate: 0.0010\n",
            "Epoch 9/80\n",
            "\u001b[1m958/958\u001b[0m \u001b[32m━━━━━━━━━━━━━━━━━━━━\u001b[0m\u001b[37m\u001b[0m \u001b[1m78s\u001b[0m 68ms/step - lambda: 1.1201 - loss: 0.1584 - learning_rate: 0.0010\n",
            "Epoch 10/80\n",
            "\u001b[1m958/958\u001b[0m \u001b[32m━━━━━━━━━━━━━━━━━━━━\u001b[0m\u001b[37m\u001b[0m \u001b[1m80s\u001b[0m 66ms/step - lambda: 1.1262 - loss: 0.1472 - learning_rate: 0.0010\n",
            "Epoch 11/80\n",
            "\u001b[1m958/958\u001b[0m \u001b[32m━━━━━━━━━━━━━━━━━━━━\u001b[0m\u001b[37m\u001b[0m \u001b[1m65s\u001b[0m 68ms/step - lambda: 1.1261 - loss: 0.1412 - learning_rate: 0.0010\n",
            "Epoch 12/80\n",
            "\u001b[1m958/958\u001b[0m \u001b[32m━━━━━━━━━━━━━━━━━━━━\u001b[0m\u001b[37m\u001b[0m \u001b[1m81s\u001b[0m 66ms/step - lambda: 1.1294 - loss: 0.1362 - learning_rate: 0.0010\n",
            "Epoch 13/80\n",
            "\u001b[1m958/958\u001b[0m \u001b[32m━━━━━━━━━━━━━━━━━━━━\u001b[0m\u001b[37m\u001b[0m \u001b[1m82s\u001b[0m 67ms/step - lambda: 1.1319 - loss: 0.1264 - learning_rate: 0.0010\n",
            "Epoch 14/80\n",
            "\u001b[1m958/958\u001b[0m \u001b[32m━━━━━━━━━━━━━━━━━━━━\u001b[0m\u001b[37m\u001b[0m \u001b[1m82s\u001b[0m 66ms/step - lambda: 1.1298 - loss: 0.1274 - learning_rate: 0.0010\n",
            "Epoch 15/80\n",
            "\u001b[1m958/958\u001b[0m \u001b[32m━━━━━━━━━━━━━━━━━━━━\u001b[0m\u001b[37m\u001b[0m \u001b[1m86s\u001b[0m 71ms/step - lambda: 1.1327 - loss: 0.1216 - learning_rate: 0.0010\n",
            "Epoch 16/80\n",
            "\u001b[1m958/958\u001b[0m \u001b[32m━━━━━━━━━━━━━━━━━━━━\u001b[0m\u001b[37m\u001b[0m \u001b[1m78s\u001b[0m 66ms/step - lambda: 1.1351 - loss: 0.1139 - learning_rate: 0.0010\n",
            "Epoch 17/80\n",
            "\u001b[1m958/958\u001b[0m \u001b[32m━━━━━━━━━━━━━━━━━━━━\u001b[0m\u001b[37m\u001b[0m \u001b[1m88s\u001b[0m 73ms/step - lambda: 1.1368 - loss: 0.1117 - learning_rate: 0.0010\n",
            "Epoch 18/80\n",
            "\u001b[1m958/958\u001b[0m \u001b[32m━━━━━━━━━━━━━━━━━━━━\u001b[0m\u001b[37m\u001b[0m \u001b[1m95s\u001b[0m 86ms/step - lambda: 1.1369 - loss: 0.1075 - learning_rate: 0.0010\n",
            "Epoch 19/80\n",
            "\u001b[1m958/958\u001b[0m \u001b[32m━━━━━━━━━━━━━━━━━━━━\u001b[0m\u001b[37m\u001b[0m \u001b[1m69s\u001b[0m 72ms/step - lambda: 1.1389 - loss: 0.1054 - learning_rate: 0.0010\n",
            "Epoch 20/80\n",
            "\u001b[1m958/958\u001b[0m \u001b[32m━━━━━━━━━━━━━━━━━━━━\u001b[0m\u001b[37m\u001b[0m \u001b[1m77s\u001b[0m 67ms/step - lambda: 1.1383 - loss: 0.1054 - learning_rate: 0.0010\n",
            "Epoch 21/80\n",
            "\u001b[1m958/958\u001b[0m \u001b[32m━━━━━━━━━━━━━━━━━━━━\u001b[0m\u001b[37m\u001b[0m \u001b[1m82s\u001b[0m 66ms/step - lambda: 1.1412 - loss: 0.0958 - learning_rate: 0.0010\n",
            "Epoch 22/80\n",
            "\u001b[1m958/958\u001b[0m \u001b[32m━━━━━━━━━━━━━━━━━━━━\u001b[0m\u001b[37m\u001b[0m \u001b[1m82s\u001b[0m 67ms/step - lambda: 1.1414 - loss: 0.0977 - learning_rate: 0.0010\n",
            "Epoch 23/80\n",
            "\u001b[1m958/958\u001b[0m \u001b[32m━━━━━━━━━━━━━━━━━━━━\u001b[0m\u001b[37m\u001b[0m \u001b[1m63s\u001b[0m 66ms/step - lambda: 1.1431 - loss: 0.0927 - learning_rate: 0.0010\n",
            "Epoch 24/80\n",
            "\u001b[1m958/958\u001b[0m \u001b[32m━━━━━━━━━━━━━━━━━━━━\u001b[0m\u001b[37m\u001b[0m \u001b[1m83s\u001b[0m 67ms/step - lambda: 1.1447 - loss: 0.0873 - learning_rate: 0.0010\n",
            "Epoch 25/80\n",
            "\u001b[1m958/958\u001b[0m \u001b[32m━━━━━━━━━━━━━━━━━━━━\u001b[0m\u001b[37m\u001b[0m \u001b[1m81s\u001b[0m 66ms/step - lambda: 1.1446 - loss: 0.0879 - learning_rate: 0.0010\n",
            "Epoch 26/80\n",
            "\u001b[1m958/958\u001b[0m \u001b[32m━━━━━━━━━━━━━━━━━━━━\u001b[0m\u001b[37m\u001b[0m \u001b[1m82s\u001b[0m 67ms/step - lambda: 1.1439 - loss: 0.0862 - learning_rate: 0.0010\n",
            "Epoch 27/80\n",
            "\u001b[1m958/958\u001b[0m \u001b[32m━━━━━━━━━━━━━━━━━━━━\u001b[0m\u001b[37m\u001b[0m \u001b[1m82s\u001b[0m 66ms/step - lambda: 1.1461 - loss: 0.0847 - learning_rate: 0.0010\n",
            "Epoch 28/80\n",
            "\u001b[1m958/958\u001b[0m \u001b[32m━━━━━━━━━━━━━━━━━━━━\u001b[0m\u001b[37m\u001b[0m \u001b[1m64s\u001b[0m 67ms/step - lambda: 1.1445 - loss: 0.0838 - learning_rate: 0.0010\n",
            "Epoch 29/80\n",
            "\u001b[1m958/958\u001b[0m \u001b[32m━━━━━━━━━━━━━━━━━━━━\u001b[0m\u001b[37m\u001b[0m \u001b[1m82s\u001b[0m 67ms/step - lambda: 1.1448 - loss: 0.0839 - learning_rate: 0.0010\n",
            "Epoch 30/80\n",
            "\u001b[1m958/958\u001b[0m \u001b[32m━━━━━━━━━━━━━━━━━━━━\u001b[0m\u001b[37m\u001b[0m \u001b[1m81s\u001b[0m 66ms/step - lambda: 1.1457 - loss: 0.0805 - learning_rate: 0.0010\n",
            "Epoch 31/80\n",
            "\u001b[1m958/958\u001b[0m \u001b[32m━━━━━━━━━━━━━━━━━━━━\u001b[0m\u001b[37m\u001b[0m \u001b[1m84s\u001b[0m 68ms/step - lambda: 1.1456 - loss: 0.0794 - learning_rate: 0.0010\n",
            "Epoch 32/80\n",
            "\u001b[1m958/958\u001b[0m \u001b[32m━━━━━━━━━━━━━━━━━━━━\u001b[0m\u001b[37m\u001b[0m \u001b[1m80s\u001b[0m 66ms/step - lambda: 1.1466 - loss: 0.0787 - learning_rate: 0.0010\n",
            "Epoch 33/80\n",
            "\u001b[1m958/958\u001b[0m \u001b[32m━━━━━━━━━━━━━━━━━━━━\u001b[0m\u001b[37m\u001b[0m \u001b[1m83s\u001b[0m 67ms/step - lambda: 1.1473 - loss: 0.0754 - learning_rate: 0.0010\n",
            "Epoch 34/80\n",
            "\u001b[1m958/958\u001b[0m \u001b[32m━━━━━━━━━━━━━━━━━━━━\u001b[0m\u001b[37m\u001b[0m \u001b[1m82s\u001b[0m 67ms/step - lambda: 1.1467 - loss: 0.0755 - learning_rate: 0.0010\n",
            "Epoch 35/80\n",
            "\u001b[1m958/958\u001b[0m \u001b[32m━━━━━━━━━━━━━━━━━━━━\u001b[0m\u001b[37m\u001b[0m \u001b[1m81s\u001b[0m 65ms/step - lambda: 1.1472 - loss: 0.0751 - learning_rate: 0.0010\n",
            "Epoch 36/80\n",
            "\u001b[1m958/958\u001b[0m \u001b[32m━━━━━━━━━━━━━━━━━━━━\u001b[0m\u001b[37m\u001b[0m \u001b[1m64s\u001b[0m 67ms/step - lambda: 1.1476 - loss: 0.0738 - learning_rate: 0.0010\n",
            "Epoch 37/80\n",
            "\u001b[1m958/958\u001b[0m \u001b[32m━━━━━━━━━━━━━━━━━━━━\u001b[0m\u001b[37m\u001b[0m \u001b[1m64s\u001b[0m 67ms/step - lambda: 1.1482 - loss: 0.0725 - learning_rate: 0.0010\n",
            "Epoch 38/80\n",
            "\u001b[1m958/958\u001b[0m \u001b[32m━━━━━━━━━━━━━━━━━━━━\u001b[0m\u001b[37m\u001b[0m \u001b[1m81s\u001b[0m 66ms/step - lambda: 1.1482 - loss: 0.0705 - learning_rate: 0.0010\n",
            "Epoch 39/80\n",
            "\u001b[1m958/958\u001b[0m \u001b[32m━━━━━━━━━━━━━━━━━━━━\u001b[0m\u001b[37m\u001b[0m \u001b[1m65s\u001b[0m 68ms/step - lambda: 1.1487 - loss: 0.0666 - learning_rate: 0.0010\n",
            "Epoch 40/80\n",
            "\u001b[1m958/958\u001b[0m \u001b[32m━━━━━━━━━━━━━━━━━━━━\u001b[0m\u001b[37m\u001b[0m \u001b[1m64s\u001b[0m 67ms/step - lambda: 1.1477 - loss: 0.0775 - learning_rate: 0.0010\n",
            "Epoch 41/80\n",
            "\u001b[1m958/958\u001b[0m \u001b[32m━━━━━━━━━━━━━━━━━━━━\u001b[0m\u001b[37m\u001b[0m \u001b[1m84s\u001b[0m 69ms/step - lambda: 1.1490 - loss: 0.0694 - learning_rate: 0.0010\n",
            "Epoch 42/80\n",
            "\u001b[1m958/958\u001b[0m \u001b[32m━━━━━━━━━━━━━━━━━━━━\u001b[0m\u001b[37m\u001b[0m \u001b[1m80s\u001b[0m 67ms/step - lambda: 1.1484 - loss: 0.0691 - learning_rate: 0.0010\n",
            "Epoch 43/80\n",
            "\u001b[1m958/958\u001b[0m \u001b[32m━━━━━━━━━━━━━━━━━━━━\u001b[0m\u001b[37m\u001b[0m \u001b[1m83s\u001b[0m 68ms/step - lambda: 1.1488 - loss: 0.0668 - learning_rate: 0.0010\n",
            "Epoch 44/80\n",
            "\u001b[1m958/958\u001b[0m \u001b[32m━━━━━━━━━━━━━━━━━━━━\u001b[0m\u001b[37m\u001b[0m \u001b[1m64s\u001b[0m 67ms/step - lambda: 1.1501 - loss: 0.0655 - learning_rate: 0.0010\n",
            "Epoch 45/80\n",
            "\u001b[1m958/958\u001b[0m \u001b[32m━━━━━━━━━━━━━━━━━━━━\u001b[0m\u001b[37m\u001b[0m \u001b[1m64s\u001b[0m 67ms/step - lambda: 1.1486 - loss: 0.0663 - learning_rate: 0.0010\n",
            "Epoch 46/80\n",
            "\u001b[1m958/958\u001b[0m \u001b[32m━━━━━━━━━━━━━━━━━━━━\u001b[0m\u001b[37m\u001b[0m \u001b[1m64s\u001b[0m 67ms/step - lambda: 1.1493 - loss: 0.0654 - learning_rate: 0.0010\n",
            "Epoch 47/80\n",
            "\u001b[1m958/958\u001b[0m \u001b[32m━━━━━━━━━━━━━━━━━━━━\u001b[0m\u001b[37m\u001b[0m \u001b[1m65s\u001b[0m 68ms/step - lambda: 1.1498 - loss: 0.0670 - learning_rate: 0.0010\n",
            "Epoch 48/80\n",
            "\u001b[1m958/958\u001b[0m \u001b[32m━━━━━━━━━━━━━━━━━━━━\u001b[0m\u001b[37m\u001b[0m \u001b[1m81s\u001b[0m 67ms/step - lambda: 1.1525 - loss: 0.0617 - learning_rate: 0.0010\n",
            "Epoch 49/80\n",
            "\u001b[1m958/958\u001b[0m \u001b[32m━━━━━━━━━━━━━━━━━━━━\u001b[0m\u001b[37m\u001b[0m \u001b[1m64s\u001b[0m 67ms/step - lambda: 1.1494 - loss: 0.0608 - learning_rate: 0.0010\n",
            "Epoch 50/80\n",
            "\u001b[1m958/958\u001b[0m \u001b[32m━━━━━━━━━━━━━━━━━━━━\u001b[0m\u001b[37m\u001b[0m \u001b[1m81s\u001b[0m 66ms/step - lambda: 1.1500 - loss: 0.0641 - learning_rate: 0.0010\n",
            "Epoch 51/80\n",
            "\u001b[1m958/958\u001b[0m \u001b[32m━━━━━━━━━━━━━━━━━━━━\u001b[0m\u001b[37m\u001b[0m \u001b[1m84s\u001b[0m 68ms/step - lambda: 1.1496 - loss: 0.0611 - learning_rate: 0.0010\n",
            "Epoch 52/80\n",
            "\u001b[1m958/958\u001b[0m \u001b[32m━━━━━━━━━━━━━━━━━━━━\u001b[0m\u001b[37m\u001b[0m \u001b[1m81s\u001b[0m 67ms/step - lambda: 1.1514 - loss: 0.0605 - learning_rate: 0.0010\n",
            "Epoch 53/80\n",
            "\u001b[1m958/958\u001b[0m \u001b[32m━━━━━━━━━━━━━━━━━━━━\u001b[0m\u001b[37m\u001b[0m \u001b[1m81s\u001b[0m 66ms/step - lambda: 1.1522 - loss: 0.0586 - learning_rate: 0.0010\n",
            "Epoch 54/80\n",
            "\u001b[1m958/958\u001b[0m \u001b[32m━━━━━━━━━━━━━━━━━━━━\u001b[0m\u001b[37m\u001b[0m \u001b[1m83s\u001b[0m 67ms/step - lambda: 1.1516 - loss: 0.0585 - learning_rate: 0.0010\n",
            "Epoch 55/80\n",
            "\u001b[1m958/958\u001b[0m \u001b[32m━━━━━━━━━━━━━━━━━━━━\u001b[0m\u001b[37m\u001b[0m \u001b[1m82s\u001b[0m 67ms/step - lambda: 1.1527 - loss: 0.0580 - learning_rate: 0.0010\n",
            "Epoch 56/80\n",
            "\u001b[1m958/958\u001b[0m \u001b[32m━━━━━━━━━━━━━━━━━━━━\u001b[0m\u001b[37m\u001b[0m \u001b[1m82s\u001b[0m 67ms/step - lambda: 1.1534 - loss: 0.0539 - learning_rate: 0.0010\n",
            "Epoch 57/80\n",
            "\u001b[1m958/958\u001b[0m \u001b[32m━━━━━━━━━━━━━━━━━━━━\u001b[0m\u001b[37m\u001b[0m \u001b[1m63s\u001b[0m 66ms/step - lambda: 1.1528 - loss: 0.0575 - learning_rate: 0.0010\n",
            "Epoch 58/80\n",
            "\u001b[1m958/958\u001b[0m \u001b[32m━━━━━━━━━━━━━━━━━━━━\u001b[0m\u001b[37m\u001b[0m \u001b[1m64s\u001b[0m 67ms/step - lambda: 1.1535 - loss: 0.0542 - learning_rate: 0.0010\n",
            "Epoch 59/80\n",
            "\u001b[1m958/958\u001b[0m \u001b[32m━━━━━━━━━━━━━━━━━━━━\u001b[0m\u001b[37m\u001b[0m \u001b[1m82s\u001b[0m 67ms/step - lambda: 1.1528 - loss: 0.0520 - learning_rate: 0.0010\n",
            "Epoch 60/80\n",
            "\u001b[1m958/958\u001b[0m \u001b[32m━━━━━━━━━━━━━━━━━━━━\u001b[0m\u001b[37m\u001b[0m \u001b[1m83s\u001b[0m 69ms/step - lambda: 1.1530 - loss: 0.0545 - learning_rate: 0.0010\n",
            "Epoch 61/80\n",
            "\u001b[1m958/958\u001b[0m \u001b[32m━━━━━━━━━━━━━━━━━━━━\u001b[0m\u001b[37m\u001b[0m \u001b[1m64s\u001b[0m 67ms/step - lambda: 1.1518 - loss: 0.0603 - learning_rate: 0.0010\n",
            "Epoch 62/80\n",
            "\u001b[1m958/958\u001b[0m \u001b[32m━━━━━━━━━━━━━━━━━━━━\u001b[0m\u001b[37m\u001b[0m \u001b[1m82s\u001b[0m 67ms/step - lambda: 1.1538 - loss: 0.0515 - learning_rate: 0.0010\n",
            "Epoch 63/80\n",
            "\u001b[1m958/958\u001b[0m \u001b[32m━━━━━━━━━━━━━━━━━━━━\u001b[0m\u001b[37m\u001b[0m \u001b[1m64s\u001b[0m 67ms/step - lambda: 1.1539 - loss: 0.0536 - learning_rate: 0.0010\n",
            "Epoch 64/80\n",
            "\u001b[1m958/958\u001b[0m \u001b[32m━━━━━━━━━━━━━━━━━━━━\u001b[0m\u001b[37m\u001b[0m \u001b[1m64s\u001b[0m 67ms/step - lambda: 1.1528 - loss: 0.0565 - learning_rate: 0.0010\n",
            "Epoch 65/80\n",
            "\u001b[1m958/958\u001b[0m \u001b[32m━━━━━━━━━━━━━━━━━━━━\u001b[0m\u001b[37m\u001b[0m \u001b[1m82s\u001b[0m 67ms/step - lambda: 1.1548 - loss: 0.0500 - learning_rate: 0.0010\n",
            "Epoch 66/80\n",
            "\u001b[1m958/958\u001b[0m \u001b[32m━━━━━━━━━━━━━━━━━━━━\u001b[0m\u001b[37m\u001b[0m \u001b[1m82s\u001b[0m 67ms/step - lambda: 1.1547 - loss: 0.0498 - learning_rate: 0.0010\n",
            "Epoch 67/80\n",
            "\u001b[1m958/958\u001b[0m \u001b[32m━━━━━━━━━━━━━━━━━━━━\u001b[0m\u001b[37m\u001b[0m \u001b[1m82s\u001b[0m 67ms/step - lambda: 1.1553 - loss: 0.0488 - learning_rate: 0.0010\n",
            "Epoch 68/80\n",
            "\u001b[1m958/958\u001b[0m \u001b[32m━━━━━━━━━━━━━━━━━━━━\u001b[0m\u001b[37m\u001b[0m \u001b[1m64s\u001b[0m 67ms/step - lambda: 1.1538 - loss: 0.0491 - learning_rate: 0.0010\n",
            "Epoch 69/80\n",
            "\u001b[1m958/958\u001b[0m \u001b[32m━━━━━━━━━━━━━━━━━━━━\u001b[0m\u001b[37m\u001b[0m \u001b[1m82s\u001b[0m 67ms/step - lambda: 1.1516 - loss: 0.0570 - learning_rate: 0.0010\n",
            "Epoch 70/80\n",
            "\u001b[1m958/958\u001b[0m \u001b[32m━━━━━━━━━━━━━━━━━━━━\u001b[0m\u001b[37m\u001b[0m \u001b[1m66s\u001b[0m 69ms/step - lambda: 1.1543 - loss: 0.0480 - learning_rate: 0.0010\n",
            "Epoch 71/80\n",
            "\u001b[1m958/958\u001b[0m \u001b[32m━━━━━━━━━━━━━━━━━━━━\u001b[0m\u001b[37m\u001b[0m \u001b[1m81s\u001b[0m 67ms/step - lambda: 1.1541 - loss: 0.0471 - learning_rate: 0.0010\n",
            "Epoch 72/80\n",
            "\u001b[1m958/958\u001b[0m \u001b[32m━━━━━━━━━━━━━━━━━━━━\u001b[0m\u001b[37m\u001b[0m \u001b[1m82s\u001b[0m 67ms/step - lambda: 1.1540 - loss: 0.0489 - learning_rate: 0.0010\n",
            "Epoch 73/80\n",
            "\u001b[1m958/958\u001b[0m \u001b[32m━━━━━━━━━━━━━━━━━━━━\u001b[0m\u001b[37m\u001b[0m \u001b[1m82s\u001b[0m 67ms/step - lambda: 1.1523 - loss: 0.0501 - learning_rate: 0.0010\n",
            "Epoch 74/80\n",
            "\u001b[1m958/958\u001b[0m \u001b[32m━━━━━━━━━━━━━━━━━━━━\u001b[0m\u001b[37m\u001b[0m \u001b[1m83s\u001b[0m 69ms/step - lambda: 1.1548 - loss: 0.0470 - learning_rate: 0.0010\n",
            "Epoch 75/80\n",
            "\u001b[1m958/958\u001b[0m \u001b[32m━━━━━━━━━━━━━━━━━━━━\u001b[0m\u001b[37m\u001b[0m \u001b[1m80s\u001b[0m 67ms/step - lambda: 1.1555 - loss: 0.0470 - learning_rate: 0.0010\n",
            "Epoch 76/80\n",
            "\u001b[1m958/958\u001b[0m \u001b[32m━━━━━━━━━━━━━━━━━━━━\u001b[0m\u001b[37m\u001b[0m \u001b[1m82s\u001b[0m 67ms/step - lambda: 1.1532 - loss: 0.0496 - learning_rate: 0.0010\n",
            "Epoch 77/80\n",
            "\u001b[1m958/958\u001b[0m \u001b[32m━━━━━━━━━━━━━━━━━━━━\u001b[0m\u001b[37m\u001b[0m \u001b[1m83s\u001b[0m 68ms/step - lambda: 1.1549 - loss: 0.0454 - learning_rate: 0.0010\n",
            "Epoch 78/80\n",
            "\u001b[1m958/958\u001b[0m \u001b[32m━━━━━━━━━━━━━━━━━━━━\u001b[0m\u001b[37m\u001b[0m \u001b[1m81s\u001b[0m 67ms/step - lambda: 1.1557 - loss: 0.0448 - learning_rate: 0.0010\n",
            "Epoch 79/80\n",
            "\u001b[1m958/958\u001b[0m \u001b[32m━━━━━━━━━━━━━━━━━━━━\u001b[0m\u001b[37m\u001b[0m \u001b[1m82s\u001b[0m 67ms/step - lambda: 1.1549 - loss: 0.0450 - learning_rate: 0.0010\n",
            "Epoch 80/80\n",
            "\u001b[1m958/958\u001b[0m \u001b[32m━━━━━━━━━━━━━━━━━━━━\u001b[0m\u001b[37m\u001b[0m \u001b[1m64s\u001b[0m 67ms/step - lambda: 1.1557 - loss: 0.0445 - learning_rate: 0.0010\n"
          ]
        }
      ]
    },
    {
      "cell_type": "code",
      "source": [
        "train_pred4 = model4.predict(X_train)\n",
        "train_rmse4 = np.sqrt(mean_squared_error(y_train, train_pred4))\n",
        "print(f\"Model 4 Training RMSE: {train_rmse4}\")\n",
        "\n",
        "plt.figure(figsize=(10, 6))\n",
        "plt.plot(history4.history['loss'], label='Training Loss')\n",
        "plt.title('Model 4: GRU with Batch Normalization - Training Loss')\n",
        "plt.xlabel('Epochs')\n",
        "plt.ylabel('Loss (MSE)')\n",
        "plt.legend()\n",
        "plt.show()"
      ],
      "metadata": {
        "colab": {
          "base_uri": "https://localhost:8080/",
          "height": 456
        },
        "id": "Ri6HrVcSYbFw",
        "outputId": "fd8a85f0-0ae0-4a9c-c596-6f665a889b58"
      },
      "execution_count": null,
      "outputs": [
        {
          "output_type": "stream",
          "name": "stdout",
          "text": [
            "\u001b[1m958/958\u001b[0m \u001b[32m━━━━━━━━━━━━━━━━━━━━\u001b[0m\u001b[37m\u001b[0m \u001b[1m16s\u001b[0m 16ms/step\n",
            "Model 4 Training RMSE: 0.19126034873600545\n"
          ]
        },
        {
          "output_type": "display_data",
          "data": {
            "text/plain": [
              "<Figure size 1000x600 with 1 Axes>"
            ],
            "image/png": "[encoded data removed]"
          },
          "metadata": {}
        }
      ]
    },
    {
      "cell_type": "code",
      "source": [
        "# Make predictions on test set\n",
        "test_predictions4 = model4.predict(X_test)\n",
        "print(f\"Raw test predictions shape: {test_predictions4.shape}\")\n",
        "\n",
        "# Inverse transform predictions back to original scale\n",
        "test_predictions4_original = target_scaler.inverse_transform(test_predictions4)\n",
        "\n",
        "# Ensure no negative values (PM2.5 can't be negative)\n",
        "test_predictions4_original = np.maximum(test_predictions4_original, 0)\n",
        "\n",
        "# Convert to integers and flatten\n",
        "test_predictions4_final = np.round(test_predictions4_original).astype(int).flatten()\n",
        "\n",
        "print(f\"Final test predictions shape: {test_predictions4_final.shape}\")\n",
        "print(f\"Test predictions range: {test_predictions4_final.min()} to {test_predictions4_final.max()}\")\n",
        "print(f\"Mean prediction: {test_predictions4_final.mean():.2f}\")"
      ],
      "metadata": {
        "colab": {
          "base_uri": "https://localhost:8080/"
        },
        "id": "galr_nO0gBT1",
        "outputId": "d7e65803-5a0c-4285-c960-09e181877fb6"
      },
      "execution_count": null,
      "outputs": [
        {
          "output_type": "stream",
          "name": "stdout",
          "text": [
            "\u001b[1m411/411\u001b[0m \u001b[32m━━━━━━━━━━━━━━━━━━━━\u001b[0m\u001b[37m\u001b[0m \u001b[1m6s\u001b[0m 14ms/step\n",
            "Raw test predictions shape: (13124, 1)\n",
            "Final test predictions shape: (13124,)\n",
            "Test predictions range: 18 to 402\n",
            "Mean prediction: 128.84\n"
          ]
        }
      ]
    },
    {
      "cell_type": "code",
      "source": [
        "# Debug the datetime index issue\n",
        "print(\"Debugging datetime index...\")\n",
        "print(f\"test_df_processed index type: {type(test_df_processed.index)}\")\n",
        "print(f\"test_df_processed index first 5 values:\")\n",
        "print(test_df_processed.index[:5])\n",
        "\n",
        "# Check if we need to use the 'datetime' column instead of index\n",
        "if 'datetime' in test_df_processed.columns:\n",
        "    print(\"Using 'datetime' column instead of index\")\n",
        "    all_test_dates = pd.to_datetime(test_df_processed['datetime'])\n",
        "else:\n",
        "    print(\"Using datetime index\")\n",
        "    all_test_dates = test_df_processed.index\n",
        "\n",
        "print(f\"All test dates first 5 values:\")\n",
        "print(all_test_dates[:5])\n",
        "print(f\"All test dates type: {type(all_test_dates)}\")\n",
        "\n",
        "print(f\"Original test data length: {len(all_test_dates)}\")\n",
        "print(f\"Predictions available: {len(test_predictions4_final)}\")\n",
        "print(f\"Missing predictions for first {sequence_length} rows\")\n",
        "\n",
        "# Padding missing predictions\n",
        "first_prediction = test_predictions4_final[0]\n",
        "padding_predictions = np.full(sequence_length, first_prediction)\n",
        "all_predictions = np.concatenate([padding_predictions, test_predictions4_final])\n",
        "\n",
        "print(f\"Total predictions after padding: {len(all_predictions)}\")\n",
        "\n",
        "# Create submission dataframe\n",
        "formatted_dates = all_test_dates.dt.strftime('%Y-%m-%d %-H:%M:%S')\n",
        "submission4 = pd.DataFrame({\n",
        "    'row ID': formatted_dates,\n",
        "    'pm2.5': all_predictions.astype(int)\n",
        "})\n",
        "\n",
        "print(f\"Submission dataframe created with shape: {submission4.shape}\")\n",
        "\n",
        "# Check for duplicates before sorting\n",
        "duplicate_count = submission4['row ID'].duplicated().sum()\n",
        "if duplicate_count > 0:\n",
        "    print(f\"Removing {duplicate_count} duplicates...\")\n",
        "    submission4 = submission4.drop_duplicates(subset=['row ID'], keep='last')\n",
        "\n",
        "# Sort by row ID\n",
        "submission4 = submission4.sort_values(by='row ID').reset_index(drop=True)\n",
        "\n",
        "# Save submission file\n",
        "submission4.to_csv('model4_submission.csv', index=False)\n",
        "print(\"\\nModel 4 submission saved as 'model4_submission.csv'\")\n",
        "\n",
        "# Validation checks\n",
        "print(\"\\nSUBMISSION VALIDATION\")\n",
        "print(\"=\"*30)\n",
        "print(f\"Missing values in submission: {submission4.isnull().sum().sum()}\")\n",
        "print(f\"Duplicate row IDs: {submission4['row ID'].duplicated().sum()}\")\n",
        "\n",
        "# Verify submission statistics\n",
        "print(f\"\\nMean PM2.5: {submission4['pm2.5'].mean():.2f}\")\n",
        "print(f\"Median PM2.5: {submission4['pm2.5'].median():.2f}\")\n",
        "print(f\"Std PM2.5: {submission4['pm2.5'].std():.2f}\")\n",
        "print(f\"Min PM2.5: {submission4['pm2.5'].min()}\")\n",
        "print(f\"Max PM2.5: {submission4['pm2.5'].max()}\")\n",
        "\n",
        "print(f\"\\nModel 4 submission ready for Kaggle upload!\")"
      ],
      "metadata": {
        "colab": {
          "base_uri": "https://localhost:8080/"
        },
        "id": "O80aaziEgCSi",
        "outputId": "e94a3d23-bc05-4d84-e229-35b48e8c7744"
      },
      "execution_count": null,
      "outputs": [
        {
          "output_type": "stream",
          "name": "stdout",
          "text": [
            "Debugging datetime index...\n",
            "test_df_processed index type: <class 'pandas.core.indexes.datetimes.DatetimeIndex'>\n",
            "test_df_processed index first 5 values:\n",
            "DatetimeIndex([          '1970-01-01 00:00:00',\n",
            "               '1970-01-01 00:00:00.000000001',\n",
            "               '1970-01-01 00:00:00.000000002',\n",
            "               '1970-01-01 00:00:00.000000003',\n",
            "               '1970-01-01 00:00:00.000000004'],\n",
            "              dtype='datetime64[ns]', freq=None)\n",
            "Using 'datetime' column instead of index\n",
            "All test dates first 5 values:\n",
            "1970-01-01 00:00:00.000000000   2013-07-02 04:00:00\n",
            "1970-01-01 00:00:00.000000001   2013-07-02 05:00:00\n",
            "1970-01-01 00:00:00.000000002   2013-07-02 06:00:00\n",
            "1970-01-01 00:00:00.000000003   2013-07-02 07:00:00\n",
            "1970-01-01 00:00:00.000000004   2013-07-02 08:00:00\n",
            "Name: datetime, dtype: datetime64[ns]\n",
            "All test dates type: <class 'pandas.core.series.Series'>\n",
            "Original test data length: 13148\n",
            "Predictions available: 13124\n",
            "Missing predictions for first 24 rows\n",
            "Total predictions after padding: 13148\n",
            "Submission dataframe created with shape: (13148, 2)\n",
            "\n",
            "Model 4 submission saved as 'model4_submission.csv'\n",
            "\n",
            "SUBMISSION VALIDATION\n",
            "==============================\n",
            "Missing values in submission: 0\n",
            "Duplicate row IDs: 0\n",
            "\n",
            "Mean PM2.5: 128.95\n",
            "Median PM2.5: 139.00\n",
            "Std PM2.5: 62.15\n",
            "Min PM2.5: 18\n",
            "Max PM2.5: 402\n",
            "\n",
            "Model 4 submission ready for Kaggle upload!\n"
          ]
        }
      ]
    },
    {
      "cell_type": "markdown",
      "source": [
        "**Model 4 (GRU with Batch Normalization) Score: 7514.9703 (Best)**\n",
        "- GRU is more efficient than LSTM for this problem\n",
        "- Batch Normalization stabilizes training\n",
        "- Deeper architecture with proper regularization\n",
        "- Best performing model, likely optimal balance of capacity and generalization"
      ],
      "metadata": {
        "id": "Mzv4PVN2hRYc"
      }
    },
    {
      "cell_type": "markdown",
      "source": [
        "### **Model 5 (Hybrid CNN-LSTM)**"
      ],
      "metadata": {
        "id": "SuXC2geiYhc7"
      }
    },
    {
      "cell_type": "code",
      "source": [
        "model5 = Sequential([\n",
        "    # CNN layers for feature extraction\n",
        "    Conv1D(filters=64, kernel_size=3, activation='relu', input_shape=(X_train.shape[1], X_train.shape[2])),\n",
        "    Conv1D(filters=64, kernel_size=3, activation='relu'),\n",
        "    Dropout(0.3),\n",
        "    MaxPooling1D(pool_size=2),\n",
        "\n",
        "    # LSTM layers for temporal modeling\n",
        "    Bidirectional(LSTM(128, activation='relu', return_sequences=True)),\n",
        "    BatchNormalization(),\n",
        "    Dropout(0.4),\n",
        "\n",
        "    Bidirectional(LSTM(64, activation='relu')),\n",
        "    BatchNormalization(),\n",
        "    Dropout(0.4),\n",
        "\n",
        "    # Dense layers\n",
        "    Dense(128, activation='relu'),\n",
        "    Dense(64, activation='relu'),\n",
        "    Dense(32, activation='relu'),\n",
        "    Dense(1)\n",
        "])\n",
        "\n",
        "model5.compile(\n",
        "    optimizer=Adam(learning_rate=0.0005),  # Lower learning rate for stability\n",
        "    loss='mse',\n",
        "    metrics=[lambda y, y_pred: tf.sqrt(tf.reduce_mean(tf.square(y - y_pred)))]\n",
        ")\n",
        "\n",
        "model5.summary()"
      ],
      "metadata": {
        "colab": {
          "base_uri": "https://localhost:8080/",
          "height": 620
        },
        "id": "YqAO4i75Ygj_",
        "outputId": "284f3e4b-e469-4736-f3ab-e4c1836a1e02"
      },
      "execution_count": null,
      "outputs": [
        {
          "output_type": "display_data",
          "data": {
            "text/plain": [
              "\u001b[1mModel: \"sequential_4\"\u001b[0m\n"
            ],
            "text/html": [
              "<pre style=\"white-space:pre;overflow-x:auto;line-height:normal;font-family:Menlo,'DejaVu Sans Mono',consolas,'Courier New',monospace\"><span style=\"font-weight: bold\">Model: \"sequential_4\"</span>\n",
              "</pre>\n"
            ]
          },
          "metadata": {}
        },
        {
          "output_type": "display_data",
          "data": {
            "text/plain": [
              "┏━━━━━━━━━━━━━━━━━━━━━━━━━━━━━━━━━┳━━━━━━━━━━━━━━━━━━━━━━━━┳━━━━━━━━━━━━━━━┓\n",
              "┃\u001b[1m \u001b[0m\u001b[1mLayer (type)                   \u001b[0m\u001b[1m \u001b[0m┃\u001b[1m \u001b[0m\u001b[1mOutput Shape          \u001b[0m\u001b[1m \u001b[0m┃\u001b[1m \u001b[0m\u001b[1m      Param #\u001b[0m\u001b[1m \u001b[0m┃\n",
              "┡━━━━━━━━━━━━━━━━━━━━━━━━━━━━━━━━━╇━━━━━━━━━━━━━━━━━━━━━━━━╇━━━━━━━━━━━━━━━┩\n",
              "│ conv1d (\u001b[38;5;33mConv1D\u001b[0m)                 │ (\u001b[38;5;45mNone\u001b[0m, \u001b[38;5;34m22\u001b[0m, \u001b[38;5;34m64\u001b[0m)         │         \u001b[38;5;34m4,096\u001b[0m │\n",
              "├─────────────────────────────────┼────────────────────────┼───────────────┤\n",
              "│ conv1d_1 (\u001b[38;5;33mConv1D\u001b[0m)               │ (\u001b[38;5;45mNone\u001b[0m, \u001b[38;5;34m20\u001b[0m, \u001b[38;5;34m64\u001b[0m)         │        \u001b[38;5;34m12,352\u001b[0m │\n",
              "├─────────────────────────────────┼────────────────────────┼───────────────┤\n",
              "│ dropout_7 (\u001b[38;5;33mDropout\u001b[0m)             │ (\u001b[38;5;45mNone\u001b[0m, \u001b[38;5;34m20\u001b[0m, \u001b[38;5;34m64\u001b[0m)         │             \u001b[38;5;34m0\u001b[0m │\n",
              "├─────────────────────────────────┼────────────────────────┼───────────────┤\n",
              "│ max_pooling1d (\u001b[38;5;33mMaxPooling1D\u001b[0m)    │ (\u001b[38;5;45mNone\u001b[0m, \u001b[38;5;34m10\u001b[0m, \u001b[38;5;34m64\u001b[0m)         │             \u001b[38;5;34m0\u001b[0m │\n",
              "├─────────────────────────────────┼────────────────────────┼───────────────┤\n",
              "│ bidirectional_2 (\u001b[38;5;33mBidirectional\u001b[0m) │ (\u001b[38;5;45mNone\u001b[0m, \u001b[38;5;34m10\u001b[0m, \u001b[38;5;34m256\u001b[0m)        │       \u001b[38;5;34m197,632\u001b[0m │\n",
              "├─────────────────────────────────┼────────────────────────┼───────────────┤\n",
              "│ batch_normalization_3           │ (\u001b[38;5;45mNone\u001b[0m, \u001b[38;5;34m10\u001b[0m, \u001b[38;5;34m256\u001b[0m)        │         \u001b[38;5;34m1,024\u001b[0m │\n",
              "│ (\u001b[38;5;33mBatchNormalization\u001b[0m)            │                        │               │\n",
              "├─────────────────────────────────┼────────────────────────┼───────────────┤\n",
              "│ dropout_8 (\u001b[38;5;33mDropout\u001b[0m)             │ (\u001b[38;5;45mNone\u001b[0m, \u001b[38;5;34m10\u001b[0m, \u001b[38;5;34m256\u001b[0m)        │             \u001b[38;5;34m0\u001b[0m │\n",
              "├─────────────────────────────────┼────────────────────────┼───────────────┤\n",
              "│ bidirectional_3 (\u001b[38;5;33mBidirectional\u001b[0m) │ (\u001b[38;5;45mNone\u001b[0m, \u001b[38;5;34m128\u001b[0m)            │       \u001b[38;5;34m164,352\u001b[0m │\n",
              "├─────────────────────────────────┼────────────────────────┼───────────────┤\n",
              "│ batch_normalization_4           │ (\u001b[38;5;45mNone\u001b[0m, \u001b[38;5;34m128\u001b[0m)            │           \u001b[38;5;34m512\u001b[0m │\n",
              "│ (\u001b[38;5;33mBatchNormalization\u001b[0m)            │                        │               │\n",
              "├─────────────────────────────────┼────────────────────────┼───────────────┤\n",
              "│ dropout_9 (\u001b[38;5;33mDropout\u001b[0m)             │ (\u001b[38;5;45mNone\u001b[0m, \u001b[38;5;34m128\u001b[0m)            │             \u001b[38;5;34m0\u001b[0m │\n",
              "├─────────────────────────────────┼────────────────────────┼───────────────┤\n",
              "│ dense_9 (\u001b[38;5;33mDense\u001b[0m)                 │ (\u001b[38;5;45mNone\u001b[0m, \u001b[38;5;34m128\u001b[0m)            │        \u001b[38;5;34m16,512\u001b[0m │\n",
              "├─────────────────────────────────┼────────────────────────┼───────────────┤\n",
              "│ dense_10 (\u001b[38;5;33mDense\u001b[0m)                │ (\u001b[38;5;45mNone\u001b[0m, \u001b[38;5;34m64\u001b[0m)             │         \u001b[38;5;34m8,256\u001b[0m │\n",
              "├─────────────────────────────────┼────────────────────────┼───────────────┤\n",
              "│ dense_11 (\u001b[38;5;33mDense\u001b[0m)                │ (\u001b[38;5;45mNone\u001b[0m, \u001b[38;5;34m32\u001b[0m)             │         \u001b[38;5;34m2,080\u001b[0m │\n",
              "├─────────────────────────────────┼────────────────────────┼───────────────┤\n",
              "│ dense_12 (\u001b[38;5;33mDense\u001b[0m)                │ (\u001b[38;5;45mNone\u001b[0m, \u001b[38;5;34m1\u001b[0m)              │            \u001b[38;5;34m33\u001b[0m │\n",
              "└─────────────────────────────────┴────────────────────────┴───────────────┘\n"
            ],
            "text/html": [
              "<pre style=\"white-space:pre;overflow-x:auto;line-height:normal;font-family:Menlo,'DejaVu Sans Mono',consolas,'Courier New',monospace\">┏━━━━━━━━━━━━━━━━━━━━━━━━━━━━━━━━━┳━━━━━━━━━━━━━━━━━━━━━━━━┳━━━━━━━━━━━━━━━┓\n",
              "┃<span style=\"font-weight: bold\"> Layer (type)                    </span>┃<span style=\"font-weight: bold\"> Output Shape           </span>┃<span style=\"font-weight: bold\">       Param # </span>┃\n",
              "┡━━━━━━━━━━━━━━━━━━━━━━━━━━━━━━━━━╇━━━━━━━━━━━━━━━━━━━━━━━━╇━━━━━━━━━━━━━━━┩\n",
              "│ conv1d (<span style=\"color: #0087ff; text-decoration-color: #0087ff\">Conv1D</span>)                 │ (<span style=\"color: #00d7ff; text-decoration-color: #00d7ff\">None</span>, <span style=\"color: #00af00; text-decoration-color: #00af00\">22</span>, <span style=\"color: #00af00; text-decoration-color: #00af00\">64</span>)         │         <span style=\"color: #00af00; text-decoration-color: #00af00\">4,096</span> │\n",
              "├─────────────────────────────────┼────────────────────────┼───────────────┤\n",
              "│ conv1d_1 (<span style=\"color: #0087ff; text-decoration-color: #0087ff\">Conv1D</span>)               │ (<span style=\"color: #00d7ff; text-decoration-color: #00d7ff\">None</span>, <span style=\"color: #00af00; text-decoration-color: #00af00\">20</span>, <span style=\"color: #00af00; text-decoration-color: #00af00\">64</span>)         │        <span style=\"color: #00af00; text-decoration-color: #00af00\">12,352</span> │\n",
              "├─────────────────────────────────┼────────────────────────┼───────────────┤\n",
              "│ dropout_7 (<span style=\"color: #0087ff; text-decoration-color: #0087ff\">Dropout</span>)             │ (<span style=\"color: #00d7ff; text-decoration-color: #00d7ff\">None</span>, <span style=\"color: #00af00; text-decoration-color: #00af00\">20</span>, <span style=\"color: #00af00; text-decoration-color: #00af00\">64</span>)         │             <span style=\"color: #00af00; text-decoration-color: #00af00\">0</span> │\n",
              "├─────────────────────────────────┼────────────────────────┼───────────────┤\n",
              "│ max_pooling1d (<span style=\"color: #0087ff; text-decoration-color: #0087ff\">MaxPooling1D</span>)    │ (<span style=\"color: #00d7ff; text-decoration-color: #00d7ff\">None</span>, <span style=\"color: #00af00; text-decoration-color: #00af00\">10</span>, <span style=\"color: #00af00; text-decoration-color: #00af00\">64</span>)         │             <span style=\"color: #00af00; text-decoration-color: #00af00\">0</span> │\n",
              "├─────────────────────────────────┼────────────────────────┼───────────────┤\n",
              "│ bidirectional_2 (<span style=\"color: #0087ff; text-decoration-color: #0087ff\">Bidirectional</span>) │ (<span style=\"color: #00d7ff; text-decoration-color: #00d7ff\">None</span>, <span style=\"color: #00af00; text-decoration-color: #00af00\">10</span>, <span style=\"color: #00af00; text-decoration-color: #00af00\">256</span>)        │       <span style=\"color: #00af00; text-decoration-color: #00af00\">197,632</span> │\n",
              "├─────────────────────────────────┼────────────────────────┼───────────────┤\n",
              "│ batch_normalization_3           │ (<span style=\"color: #00d7ff; text-decoration-color: #00d7ff\">None</span>, <span style=\"color: #00af00; text-decoration-color: #00af00\">10</span>, <span style=\"color: #00af00; text-decoration-color: #00af00\">256</span>)        │         <span style=\"color: #00af00; text-decoration-color: #00af00\">1,024</span> │\n",
              "│ (<span style=\"color: #0087ff; text-decoration-color: #0087ff\">BatchNormalization</span>)            │                        │               │\n",
              "├─────────────────────────────────┼────────────────────────┼───────────────┤\n",
              "│ dropout_8 (<span style=\"color: #0087ff; text-decoration-color: #0087ff\">Dropout</span>)             │ (<span style=\"color: #00d7ff; text-decoration-color: #00d7ff\">None</span>, <span style=\"color: #00af00; text-decoration-color: #00af00\">10</span>, <span style=\"color: #00af00; text-decoration-color: #00af00\">256</span>)        │             <span style=\"color: #00af00; text-decoration-color: #00af00\">0</span> │\n",
              "├─────────────────────────────────┼────────────────────────┼───────────────┤\n",
              "│ bidirectional_3 (<span style=\"color: #0087ff; text-decoration-color: #0087ff\">Bidirectional</span>) │ (<span style=\"color: #00d7ff; text-decoration-color: #00d7ff\">None</span>, <span style=\"color: #00af00; text-decoration-color: #00af00\">128</span>)            │       <span style=\"color: #00af00; text-decoration-color: #00af00\">164,352</span> │\n",
              "├─────────────────────────────────┼────────────────────────┼───────────────┤\n",
              "│ batch_normalization_4           │ (<span style=\"color: #00d7ff; text-decoration-color: #00d7ff\">None</span>, <span style=\"color: #00af00; text-decoration-color: #00af00\">128</span>)            │           <span style=\"color: #00af00; text-decoration-color: #00af00\">512</span> │\n",
              "│ (<span style=\"color: #0087ff; text-decoration-color: #0087ff\">BatchNormalization</span>)            │                        │               │\n",
              "├─────────────────────────────────┼────────────────────────┼───────────────┤\n",
              "│ dropout_9 (<span style=\"color: #0087ff; text-decoration-color: #0087ff\">Dropout</span>)             │ (<span style=\"color: #00d7ff; text-decoration-color: #00d7ff\">None</span>, <span style=\"color: #00af00; text-decoration-color: #00af00\">128</span>)            │             <span style=\"color: #00af00; text-decoration-color: #00af00\">0</span> │\n",
              "├─────────────────────────────────┼────────────────────────┼───────────────┤\n",
              "│ dense_9 (<span style=\"color: #0087ff; text-decoration-color: #0087ff\">Dense</span>)                 │ (<span style=\"color: #00d7ff; text-decoration-color: #00d7ff\">None</span>, <span style=\"color: #00af00; text-decoration-color: #00af00\">128</span>)            │        <span style=\"color: #00af00; text-decoration-color: #00af00\">16,512</span> │\n",
              "├─────────────────────────────────┼────────────────────────┼───────────────┤\n",
              "│ dense_10 (<span style=\"color: #0087ff; text-decoration-color: #0087ff\">Dense</span>)                │ (<span style=\"color: #00d7ff; text-decoration-color: #00d7ff\">None</span>, <span style=\"color: #00af00; text-decoration-color: #00af00\">64</span>)             │         <span style=\"color: #00af00; text-decoration-color: #00af00\">8,256</span> │\n",
              "├─────────────────────────────────┼────────────────────────┼───────────────┤\n",
              "│ dense_11 (<span style=\"color: #0087ff; text-decoration-color: #0087ff\">Dense</span>)                │ (<span style=\"color: #00d7ff; text-decoration-color: #00d7ff\">None</span>, <span style=\"color: #00af00; text-decoration-color: #00af00\">32</span>)             │         <span style=\"color: #00af00; text-decoration-color: #00af00\">2,080</span> │\n",
              "├─────────────────────────────────┼────────────────────────┼───────────────┤\n",
              "│ dense_12 (<span style=\"color: #0087ff; text-decoration-color: #0087ff\">Dense</span>)                │ (<span style=\"color: #00d7ff; text-decoration-color: #00d7ff\">None</span>, <span style=\"color: #00af00; text-decoration-color: #00af00\">1</span>)              │            <span style=\"color: #00af00; text-decoration-color: #00af00\">33</span> │\n",
              "└─────────────────────────────────┴────────────────────────┴───────────────┘\n",
              "</pre>\n"
            ]
          },
          "metadata": {}
        },
        {
          "output_type": "display_data",
          "data": {
            "text/plain": [
              "\u001b[1m Total params: \u001b[0m\u001b[38;5;34m406,849\u001b[0m (1.55 MB)\n"
            ],
            "text/html": [
              "<pre style=\"white-space:pre;overflow-x:auto;line-height:normal;font-family:Menlo,'DejaVu Sans Mono',consolas,'Courier New',monospace\"><span style=\"font-weight: bold\"> Total params: </span><span style=\"color: #00af00; text-decoration-color: #00af00\">406,849</span> (1.55 MB)\n",
              "</pre>\n"
            ]
          },
          "metadata": {}
        },
        {
          "output_type": "display_data",
          "data": {
            "text/plain": [
              "\u001b[1m Trainable params: \u001b[0m\u001b[38;5;34m406,081\u001b[0m (1.55 MB)\n"
            ],
            "text/html": [
              "<pre style=\"white-space:pre;overflow-x:auto;line-height:normal;font-family:Menlo,'DejaVu Sans Mono',consolas,'Courier New',monospace\"><span style=\"font-weight: bold\"> Trainable params: </span><span style=\"color: #00af00; text-decoration-color: #00af00\">406,081</span> (1.55 MB)\n",
              "</pre>\n"
            ]
          },
          "metadata": {}
        },
        {
          "output_type": "display_data",
          "data": {
            "text/plain": [
              "\u001b[1m Non-trainable params: \u001b[0m\u001b[38;5;34m768\u001b[0m (3.00 KB)\n"
            ],
            "text/html": [
              "<pre style=\"white-space:pre;overflow-x:auto;line-height:normal;font-family:Menlo,'DejaVu Sans Mono',consolas,'Courier New',monospace\"><span style=\"font-weight: bold\"> Non-trainable params: </span><span style=\"color: #00af00; text-decoration-color: #00af00\">768</span> (3.00 KB)\n",
              "</pre>\n"
            ]
          },
          "metadata": {}
        }
      ]
    },
    {
      "cell_type": "code",
      "source": [
        "early_stopping = EarlyStopping(monitor='loss', patience=12, restore_best_weights=True)\n",
        "lr_scheduler = ReduceLROnPlateau(monitor='loss', factor=0.2, patience=6, min_lr=1e-8)\n",
        "\n",
        "history5 = model5.fit(\n",
        "    X_train, y_train,\n",
        "    epochs=50,\n",
        "    batch_size=32,\n",
        "    callbacks=[early_stopping, lr_scheduler],\n",
        "    verbose=1\n",
        ")"
      ],
      "metadata": {
        "colab": {
          "base_uri": "https://localhost:8080/"
        },
        "id": "mZg56awxYup8",
        "outputId": "26cc576d-0116-43ce-f5e4-a63e70b37105"
      },
      "execution_count": null,
      "outputs": [
        {
          "output_type": "stream",
          "name": "stdout",
          "text": [
            "Epoch 1/50\n",
            "\u001b[1m958/958\u001b[0m \u001b[32m━━━━━━━━━━━━━━━━━━━━\u001b[0m\u001b[37m\u001b[0m \u001b[1m77s\u001b[0m 69ms/step - lambda: 1.0106 - loss: 0.5913 - learning_rate: 5.0000e-04\n",
            "Epoch 2/50\n",
            "\u001b[1m958/958\u001b[0m \u001b[32m━━━━━━━━━━━━━━━━━━━━\u001b[0m\u001b[37m\u001b[0m \u001b[1m64s\u001b[0m 67ms/step - lambda: 1.0405 - loss: 0.3797 - learning_rate: 5.0000e-04\n",
            "Epoch 3/50\n",
            "\u001b[1m958/958\u001b[0m \u001b[32m━━━━━━━━━━━━━━━━━━━━\u001b[0m\u001b[37m\u001b[0m \u001b[1m63s\u001b[0m 66ms/step - lambda: 1.0567 - loss: 0.3331 - learning_rate: 5.0000e-04\n",
            "Epoch 4/50\n",
            "\u001b[1m958/958\u001b[0m \u001b[32m━━━━━━━━━━━━━━━━━━━━\u001b[0m\u001b[37m\u001b[0m \u001b[1m83s\u001b[0m 67ms/step - lambda: 1.0707 - loss: 0.2964 - learning_rate: 5.0000e-04\n",
            "Epoch 5/50\n",
            "\u001b[1m958/958\u001b[0m \u001b[32m━━━━━━━━━━━━━━━━━━━━\u001b[0m\u001b[37m\u001b[0m \u001b[1m66s\u001b[0m 69ms/step - lambda: 1.0821 - loss: 0.2620 - learning_rate: 5.0000e-04\n",
            "Epoch 6/50\n",
            "\u001b[1m958/958\u001b[0m \u001b[32m━━━━━━━━━━━━━━━━━━━━\u001b[0m\u001b[37m\u001b[0m \u001b[1m81s\u001b[0m 68ms/step - lambda: 1.0911 - loss: 0.2353 - learning_rate: 5.0000e-04\n",
            "Epoch 7/50\n",
            "\u001b[1m958/958\u001b[0m \u001b[32m━━━━━━━━━━━━━━━━━━━━\u001b[0m\u001b[37m\u001b[0m \u001b[1m65s\u001b[0m 67ms/step - lambda: 1.0977 - loss: 0.2172 - learning_rate: 5.0000e-04\n",
            "Epoch 8/50\n",
            "\u001b[1m958/958\u001b[0m \u001b[32m━━━━━━━━━━━━━━━━━━━━\u001b[0m\u001b[37m\u001b[0m \u001b[1m65s\u001b[0m 68ms/step - lambda: 1.1042 - loss: 0.1995 - learning_rate: 5.0000e-04\n",
            "Epoch 9/50\n",
            "\u001b[1m958/958\u001b[0m \u001b[32m━━━━━━━━━━━━━━━━━━━━\u001b[0m\u001b[37m\u001b[0m \u001b[1m66s\u001b[0m 69ms/step - lambda: 1.1078 - loss: 0.1873 - learning_rate: 5.0000e-04\n",
            "Epoch 10/50\n",
            "\u001b[1m958/958\u001b[0m \u001b[32m━━━━━━━━━━━━━━━━━━━━\u001b[0m\u001b[37m\u001b[0m \u001b[1m80s\u001b[0m 68ms/step - lambda: 1.1106 - loss: 0.1751 - learning_rate: 5.0000e-04\n",
            "Epoch 11/50\n",
            "\u001b[1m958/958\u001b[0m \u001b[32m━━━━━━━━━━━━━━━━━━━━\u001b[0m\u001b[37m\u001b[0m \u001b[1m82s\u001b[0m 67ms/step - lambda: 1.1146 - loss: 0.1667 - learning_rate: 5.0000e-04\n",
            "Epoch 12/50\n",
            "\u001b[1m958/958\u001b[0m \u001b[32m━━━━━━━━━━━━━━━━━━━━\u001b[0m\u001b[37m\u001b[0m \u001b[1m83s\u001b[0m 69ms/step - lambda: 1.1200 - loss: 0.1566 - learning_rate: 5.0000e-04\n",
            "Epoch 13/50\n",
            "\u001b[1m958/958\u001b[0m \u001b[32m━━━━━━━━━━━━━━━━━━━━\u001b[0m\u001b[37m\u001b[0m \u001b[1m89s\u001b[0m 76ms/step - lambda: 1.1202 - loss: 0.1479 - learning_rate: 5.0000e-04\n",
            "Epoch 14/50\n",
            "\u001b[1m958/958\u001b[0m \u001b[32m━━━━━━━━━━━━━━━━━━━━\u001b[0m\u001b[37m\u001b[0m \u001b[1m75s\u001b[0m 69ms/step - lambda: 1.1229 - loss: 0.1418 - learning_rate: 5.0000e-04\n",
            "Epoch 15/50\n",
            "\u001b[1m958/958\u001b[0m \u001b[32m━━━━━━━━━━━━━━━━━━━━\u001b[0m\u001b[37m\u001b[0m \u001b[1m74s\u001b[0m 77ms/step - lambda: 1.1257 - loss: 0.1355 - learning_rate: 5.0000e-04\n",
            "Epoch 16/50\n",
            "\u001b[1m958/958\u001b[0m \u001b[32m━━━━━━━━━━━━━━━━━━━━\u001b[0m\u001b[37m\u001b[0m \u001b[1m70s\u001b[0m 73ms/step - lambda: 1.1280 - loss: 0.1272 - learning_rate: 5.0000e-04\n",
            "Epoch 17/50\n",
            "\u001b[1m958/958\u001b[0m \u001b[32m━━━━━━━━━━━━━━━━━━━━\u001b[0m\u001b[37m\u001b[0m \u001b[1m84s\u001b[0m 75ms/step - lambda: 1.1279 - loss: 0.1295 - learning_rate: 5.0000e-04\n",
            "Epoch 18/50\n",
            "\u001b[1m958/958\u001b[0m \u001b[32m━━━━━━━━━━━━━━━━━━━━\u001b[0m\u001b[37m\u001b[0m \u001b[1m85s\u001b[0m 78ms/step - lambda: 1.1312 - loss: 0.1162 - learning_rate: 5.0000e-04\n",
            "Epoch 19/50\n",
            "\u001b[1m958/958\u001b[0m \u001b[32m━━━━━━━━━━━━━━━━━━━━\u001b[0m\u001b[37m\u001b[0m \u001b[1m84s\u001b[0m 81ms/step - lambda: 1.1293 - loss: 0.1175 - learning_rate: 5.0000e-04\n",
            "Epoch 20/50\n",
            "\u001b[1m958/958\u001b[0m \u001b[32m━━━━━━━━━━━━━━━━━━━━\u001b[0m\u001b[37m\u001b[0m \u001b[1m79s\u001b[0m 78ms/step - lambda: 1.1330 - loss: 0.1100 - learning_rate: 5.0000e-04\n",
            "Epoch 21/50\n",
            "\u001b[1m958/958\u001b[0m \u001b[32m━━━━━━━━━━━━━━━━━━━━\u001b[0m\u001b[37m\u001b[0m \u001b[1m74s\u001b[0m 77ms/step - lambda: 1.1347 - loss: 0.1031 - learning_rate: 5.0000e-04\n",
            "Epoch 22/50\n",
            "\u001b[1m958/958\u001b[0m \u001b[32m━━━━━━━━━━━━━━━━━━━━\u001b[0m\u001b[37m\u001b[0m \u001b[1m75s\u001b[0m 70ms/step - lambda: 1.1328 - loss: 0.1133 - learning_rate: 5.0000e-04\n",
            "Epoch 23/50\n",
            "\u001b[1m958/958\u001b[0m \u001b[32m━━━━━━━━━━━━━━━━━━━━\u001b[0m\u001b[37m\u001b[0m \u001b[1m92s\u001b[0m 80ms/step - lambda: 1.1366 - loss: 0.0978 - learning_rate: 5.0000e-04\n",
            "Epoch 24/50\n",
            "\u001b[1m958/958\u001b[0m \u001b[32m━━━━━━━━━━━━━━━━━━━━\u001b[0m\u001b[37m\u001b[0m \u001b[1m98s\u001b[0m 97ms/step - lambda: 1.1372 - loss: 0.0980 - learning_rate: 5.0000e-04\n",
            "Epoch 25/50\n",
            "\u001b[1m958/958\u001b[0m \u001b[32m━━━━━━━━━━━━━━━━━━━━\u001b[0m\u001b[37m\u001b[0m \u001b[1m145s\u001b[0m 101ms/step - lambda: 1.1356 - loss: 0.0964 - learning_rate: 5.0000e-04\n",
            "Epoch 26/50\n",
            "\u001b[1m958/958\u001b[0m \u001b[32m━━━━━━━━━━━━━━━━━━━━\u001b[0m\u001b[37m\u001b[0m \u001b[1m111s\u001b[0m 69ms/step - lambda: 1.1377 - loss: 0.0979 - learning_rate: 5.0000e-04\n",
            "Epoch 27/50\n",
            "\u001b[1m958/958\u001b[0m \u001b[32m━━━━━━━━━━━━━━━━━━━━\u001b[0m\u001b[37m\u001b[0m \u001b[1m86s\u001b[0m 73ms/step - lambda: 1.1385 - loss: 0.0911 - learning_rate: 5.0000e-04\n",
            "Epoch 28/50\n",
            "\u001b[1m958/958\u001b[0m \u001b[32m━━━━━━━━━━━━━━━━━━━━\u001b[0m\u001b[37m\u001b[0m \u001b[1m64s\u001b[0m 66ms/step - lambda: 1.1370 - loss: 0.0955 - learning_rate: 5.0000e-04\n",
            "Epoch 29/50\n",
            "\u001b[1m958/958\u001b[0m \u001b[32m━━━━━━━━━━━━━━━━━━━━\u001b[0m\u001b[37m\u001b[0m \u001b[1m84s\u001b[0m 68ms/step - lambda: 1.1379 - loss: 0.0926 - learning_rate: 5.0000e-04\n",
            "Epoch 30/50\n",
            "\u001b[1m958/958\u001b[0m \u001b[32m━━━━━━━━━━━━━━━━━━━━\u001b[0m\u001b[37m\u001b[0m \u001b[1m65s\u001b[0m 68ms/step - lambda: 1.1404 - loss: 0.0891 - learning_rate: 5.0000e-04\n",
            "Epoch 31/50\n",
            "\u001b[1m958/958\u001b[0m \u001b[32m━━━━━━━━━━━━━━━━━━━━\u001b[0m\u001b[37m\u001b[0m \u001b[1m82s\u001b[0m 68ms/step - lambda: 1.1400 - loss: 0.0860 - learning_rate: 5.0000e-04\n",
            "Epoch 32/50\n",
            "\u001b[1m958/958\u001b[0m \u001b[32m━━━━━━━━━━━━━━━━━━━━\u001b[0m\u001b[37m\u001b[0m \u001b[1m65s\u001b[0m 68ms/step - lambda: 1.1411 - loss: 0.0820 - learning_rate: 5.0000e-04\n",
            "Epoch 33/50\n",
            "\u001b[1m958/958\u001b[0m \u001b[32m━━━━━━━━━━━━━━━━━━━━\u001b[0m\u001b[37m\u001b[0m \u001b[1m65s\u001b[0m 68ms/step - lambda: 1.1411 - loss: 0.0831 - learning_rate: 5.0000e-04\n",
            "Epoch 34/50\n",
            "\u001b[1m958/958\u001b[0m \u001b[32m━━━━━━━━━━━━━━━━━━━━\u001b[0m\u001b[37m\u001b[0m \u001b[1m84s\u001b[0m 70ms/step - lambda: 1.1426 - loss: 0.0807 - learning_rate: 5.0000e-04\n",
            "Epoch 35/50\n",
            "\u001b[1m958/958\u001b[0m \u001b[32m━━━━━━━━━━━━━━━━━━━━\u001b[0m\u001b[37m\u001b[0m \u001b[1m65s\u001b[0m 68ms/step - lambda: 1.1426 - loss: 0.0810 - learning_rate: 5.0000e-04\n",
            "Epoch 36/50\n",
            "\u001b[1m958/958\u001b[0m \u001b[32m━━━━━━━━━━━━━━━━━━━━\u001b[0m\u001b[37m\u001b[0m \u001b[1m81s\u001b[0m 68ms/step - lambda: 1.1411 - loss: 0.0818 - learning_rate: 5.0000e-04\n",
            "Epoch 37/50\n",
            "\u001b[1m958/958\u001b[0m \u001b[32m━━━━━━━━━━━━━━━━━━━━\u001b[0m\u001b[37m\u001b[0m \u001b[1m64s\u001b[0m 67ms/step - lambda: 1.1424 - loss: 0.0766 - learning_rate: 5.0000e-04\n",
            "Epoch 38/50\n",
            "\u001b[1m958/958\u001b[0m \u001b[32m━━━━━━━━━━━━━━━━━━━━\u001b[0m\u001b[37m\u001b[0m \u001b[1m82s\u001b[0m 68ms/step - lambda: 1.1425 - loss: 0.0758 - learning_rate: 5.0000e-04\n",
            "Epoch 39/50\n",
            "\u001b[1m958/958\u001b[0m \u001b[32m━━━━━━━━━━━━━━━━━━━━\u001b[0m\u001b[37m\u001b[0m \u001b[1m82s\u001b[0m 68ms/step - lambda: 1.1433 - loss: 0.0765 - learning_rate: 5.0000e-04\n",
            "Epoch 40/50\n",
            "\u001b[1m958/958\u001b[0m \u001b[32m━━━━━━━━━━━━━━━━━━━━\u001b[0m\u001b[37m\u001b[0m \u001b[1m65s\u001b[0m 68ms/step - lambda: 1.1427 - loss: 0.0800 - learning_rate: 5.0000e-04\n",
            "Epoch 41/50\n",
            "\u001b[1m958/958\u001b[0m \u001b[32m━━━━━━━━━━━━━━━━━━━━\u001b[0m\u001b[37m\u001b[0m \u001b[1m84s\u001b[0m 70ms/step - lambda: 1.1428 - loss: 0.0731 - learning_rate: 5.0000e-04\n",
            "Epoch 42/50\n",
            "\u001b[1m958/958\u001b[0m \u001b[32m━━━━━━━━━━━━━━━━━━━━\u001b[0m\u001b[37m\u001b[0m \u001b[1m80s\u001b[0m 68ms/step - lambda: 1.1435 - loss: 0.0773 - learning_rate: 5.0000e-04\n",
            "Epoch 43/50\n",
            "\u001b[1m958/958\u001b[0m \u001b[32m━━━━━━━━━━━━━━━━━━━━\u001b[0m\u001b[37m\u001b[0m \u001b[1m65s\u001b[0m 68ms/step - lambda: 1.1454 - loss: 0.0708 - learning_rate: 5.0000e-04\n",
            "Epoch 44/50\n",
            "\u001b[1m958/958\u001b[0m \u001b[32m━━━━━━━━━━━━━━━━━━━━\u001b[0m\u001b[37m\u001b[0m \u001b[1m82s\u001b[0m 68ms/step - lambda: 1.1447 - loss: 0.0694 - learning_rate: 5.0000e-04\n",
            "Epoch 45/50\n",
            "\u001b[1m958/958\u001b[0m \u001b[32m━━━━━━━━━━━━━━━━━━━━\u001b[0m\u001b[37m\u001b[0m \u001b[1m65s\u001b[0m 68ms/step - lambda: 1.1450 - loss: 0.0711 - learning_rate: 5.0000e-04\n",
            "Epoch 46/50\n",
            "\u001b[1m958/958\u001b[0m \u001b[32m━━━━━━━━━━━━━━━━━━━━\u001b[0m\u001b[37m\u001b[0m \u001b[1m65s\u001b[0m 68ms/step - lambda: 1.1452 - loss: 0.0689 - learning_rate: 5.0000e-04\n",
            "Epoch 47/50\n",
            "\u001b[1m958/958\u001b[0m \u001b[32m━━━━━━━━━━━━━━━━━━━━\u001b[0m\u001b[37m\u001b[0m \u001b[1m83s\u001b[0m 70ms/step - lambda: 1.1461 - loss: 0.0639 - learning_rate: 5.0000e-04\n",
            "Epoch 48/50\n",
            "\u001b[1m958/958\u001b[0m \u001b[32m━━━━━━━━━━━━━━━━━━━━\u001b[0m\u001b[37m\u001b[0m \u001b[1m80s\u001b[0m 68ms/step - lambda: 1.1459 - loss: 0.0673 - learning_rate: 5.0000e-04\n",
            "Epoch 49/50\n",
            "\u001b[1m958/958\u001b[0m \u001b[32m━━━━━━━━━━━━━━━━━━━━\u001b[0m\u001b[37m\u001b[0m \u001b[1m82s\u001b[0m 68ms/step - lambda: 1.1446 - loss: 0.0694 - learning_rate: 5.0000e-04\n",
            "Epoch 50/50\n",
            "\u001b[1m958/958\u001b[0m \u001b[32m━━━━━━━━━━━━━━━━━━━━\u001b[0m\u001b[37m\u001b[0m \u001b[1m83s\u001b[0m 70ms/step - lambda: 1.1452 - loss: 0.0653 - learning_rate: 5.0000e-04\n"
          ]
        }
      ]
    },
    {
      "cell_type": "code",
      "source": [
        "train_pred5 = model5.predict(X_train)\n",
        "train_rmse5 = np.sqrt(mean_squared_error(y_train, train_pred5))\n",
        "print(f\"Model 5 Training RMSE: {train_rmse5}\")\n",
        "\n",
        "plt.figure(figsize=(10, 6))\n",
        "plt.plot(history5.history['loss'], label='Training Loss')\n",
        "plt.title('Model 5: Hybrid CNN-LSTM - Training Loss')\n",
        "plt.xlabel('Epochs')\n",
        "plt.ylabel('Loss (MSE)')\n",
        "plt.legend()\n",
        "plt.show()"
      ],
      "metadata": {
        "colab": {
          "base_uri": "https://localhost:8080/",
          "height": 600
        },
        "id": "_un2CH_0Y2gu",
        "outputId": "04ec895d-72dd-4b1e-8934-37f283a9809c"
      },
      "execution_count": null,
      "outputs": [
        {
          "output_type": "stream",
          "name": "stdout",
          "text": [
            "\u001b[1m958/958\u001b[0m \u001b[32m━━━━━━━━━━━━━━━━━━━━\u001b[0m\u001b[37m\u001b[0m \u001b[1m21s\u001b[0m 21ms/step\n",
            "Model 5 Training RMSE: 0.23144632813851818\n"
          ]
        },
        {
          "output_type": "display_data",
          "data": {
            "text/plain": [
              "<Figure size 1000x600 with 1 Axes>"
            ],
            "image/png": "[encoded data removed]"
          },
          "metadata": {}
        }
      ]
    },
    {
      "cell_type": "code",
      "source": [
        "# Make predictions on test set\n",
        "test_predictions5 = model5.predict(X_test)\n",
        "print(f\"Raw test predictions shape: {test_predictions5.shape}\")\n",
        "\n",
        "# Inverse transform predictions back to original scale\n",
        "test_predictions5_original = target_scaler.inverse_transform(test_predictions5)\n",
        "\n",
        "# Ensure no negative values (PM2.5 can't be negative)\n",
        "test_predictions5_original = np.maximum(test_predictions5_original, 0)\n",
        "\n",
        "# Convert to integers and flatten\n",
        "test_predictions5_final = np.round(test_predictions5_original).astype(int).flatten()\n",
        "\n",
        "print(f\"Final test predictions shape: {test_predictions5_final.shape}\")\n",
        "print(f\"Test predictions range: {test_predictions5_final.min()} to {test_predictions5_final.max()}\")\n",
        "print(f\"Mean prediction: {test_predictions5_final.mean():.2f}\")"
      ],
      "metadata": {
        "colab": {
          "base_uri": "https://localhost:8080/"
        },
        "id": "NLzcWliNljSR",
        "outputId": "97664a4b-6efc-4d9c-a861-fe698089c61b"
      },
      "execution_count": null,
      "outputs": [
        {
          "output_type": "stream",
          "name": "stdout",
          "text": [
            "\u001b[1m411/411\u001b[0m \u001b[32m━━━━━━━━━━━━━━━━━━━━\u001b[0m\u001b[37m\u001b[0m \u001b[1m7s\u001b[0m 17ms/step\n",
            "Raw test predictions shape: (13124, 1)\n",
            "Final test predictions shape: (13124,)\n",
            "Test predictions range: 15 to 491\n",
            "Mean prediction: 195.18\n"
          ]
        }
      ]
    },
    {
      "cell_type": "code",
      "source": [
        "# Debug the datetime index issue\n",
        "print(\"Debugging datetime index...\")\n",
        "print(f\"test_df_processed index type: {type(test_df_processed.index)}\")\n",
        "print(f\"test_df_processed index first 5 values:\")\n",
        "print(test_df_processed.index[:5])\n",
        "\n",
        "# Check if we need to use the 'datetime' column instead of index\n",
        "if 'datetime' in test_df_processed.columns:\n",
        "    print(\"Using 'datetime' column instead of index\")\n",
        "    all_test_dates = pd.to_datetime(test_df_processed['datetime'])\n",
        "else:\n",
        "    print(\"Using datetime index\")\n",
        "    all_test_dates = test_df_processed.index\n",
        "\n",
        "print(f\"All test dates first 5 values:\")\n",
        "print(all_test_dates[:5])\n",
        "print(f\"All test dates type: {type(all_test_dates)}\")\n",
        "\n",
        "print(f\"Original test data length: {len(all_test_dates)}\")\n",
        "print(f\"Predictions available: {len(test_predictions5_final)}\")\n",
        "print(f\"Missing predictions for first {sequence_length} rows\")\n",
        "\n",
        "# Padding missing predictions\n",
        "first_prediction = test_predictions5_final[0]\n",
        "padding_predictions = np.full(sequence_length, first_prediction)\n",
        "all_predictions = np.concatenate([padding_predictions, test_predictions5_final])\n",
        "\n",
        "print(f\"Total predictions after padding: {len(all_predictions)}\")\n",
        "\n",
        "# Create submission dataframe\n",
        "formatted_dates = all_test_dates.dt.strftime('%Y-%m-%d %-H:%M:%S')\n",
        "submission5 = pd.DataFrame({\n",
        "    'row ID': formatted_dates,\n",
        "    'pm2.5': all_predictions.astype(int)\n",
        "})\n",
        "\n",
        "print(f\"Submission dataframe created with shape: {submission5.shape}\")\n",
        "\n",
        "# Check for duplicates before sorting\n",
        "duplicate_count = submission5['row ID'].duplicated().sum()\n",
        "if duplicate_count > 0:\n",
        "    print(f\"Removing {duplicate_count} duplicates...\")\n",
        "    submission5 = submission5.drop_duplicates(subset=['row ID'], keep='last')\n",
        "\n",
        "# Sort by row ID\n",
        "submission5 = submission5.sort_values(by='row ID').reset_index(drop=True)\n",
        "\n",
        "# Save submission file\n",
        "submission5.to_csv('model5_submission.csv', index=False)\n",
        "print(\"\\nModel 5 submission saved as 'model5_submission.csv'\")\n",
        "\n",
        "# Validation checks\n",
        "print(\"\\nSUBMISSION VALIDATION\")\n",
        "print(\"=\"*30)\n",
        "print(f\"Missing values in submission: {submission5.isnull().sum().sum()}\")\n",
        "print(f\"Duplicate row IDs: {submission5['row ID'].duplicated().sum()}\")\n",
        "\n",
        "# Verify submission statistics\n",
        "print(f\"\\nMean PM2.5: {submission5['pm2.5'].mean():.2f}\")\n",
        "print(f\"Median PM2.5: {submission5['pm2.5'].median():.2f}\")\n",
        "print(f\"Std PM2.5: {submission5['pm2.5'].std():.2f}\")\n",
        "print(f\"Min PM2.5: {submission5['pm2.5'].min()}\")\n",
        "print(f\"Max PM2.5: {submission5['pm2.5'].max()}\")\n",
        "\n",
        "print(f\"\\nModel 5 submission ready for Kaggle upload!\")\n"
      ],
      "metadata": {
        "colab": {
          "base_uri": "https://localhost:8080/"
        },
        "id": "JYVM5teflZYl",
        "outputId": "b7a3cd16-1279-4a14-f18e-b4c8a1526e0b"
      },
      "execution_count": null,
      "outputs": [
        {
          "output_type": "stream",
          "name": "stdout",
          "text": [
            "Debugging datetime index...\n",
            "test_df_processed index type: <class 'pandas.core.indexes.datetimes.DatetimeIndex'>\n",
            "test_df_processed index first 5 values:\n",
            "DatetimeIndex([          '1970-01-01 00:00:00',\n",
            "               '1970-01-01 00:00:00.000000001',\n",
            "               '1970-01-01 00:00:00.000000002',\n",
            "               '1970-01-01 00:00:00.000000003',\n",
            "               '1970-01-01 00:00:00.000000004'],\n",
            "              dtype='datetime64[ns]', freq=None)\n",
            "Using 'datetime' column instead of index\n",
            "All test dates first 5 values:\n",
            "1970-01-01 00:00:00.000000000   2013-07-02 04:00:00\n",
            "1970-01-01 00:00:00.000000001   2013-07-02 05:00:00\n",
            "1970-01-01 00:00:00.000000002   2013-07-02 06:00:00\n",
            "1970-01-01 00:00:00.000000003   2013-07-02 07:00:00\n",
            "1970-01-01 00:00:00.000000004   2013-07-02 08:00:00\n",
            "Name: datetime, dtype: datetime64[ns]\n",
            "All test dates type: <class 'pandas.core.series.Series'>\n",
            "Original test data length: 13148\n",
            "Predictions available: 13124\n",
            "Missing predictions for first 24 rows\n",
            "Total predictions after padding: 13148\n",
            "Submission dataframe created with shape: (13148, 2)\n",
            "\n",
            "Model 5 submission saved as 'model5_submission.csv'\n",
            "\n",
            "SUBMISSION VALIDATION\n",
            "==============================\n",
            "Missing values in submission: 0\n",
            "Duplicate row IDs: 0\n",
            "\n",
            "Mean PM2.5: 195.11\n",
            "Median PM2.5: 201.00\n",
            "Std PM2.5: 122.32\n",
            "Min PM2.5: 15\n",
            "Max PM2.5: 491\n",
            "\n",
            "Model 5 submission ready for Kaggle upload!\n"
          ]
        }
      ]
    },
    {
      "cell_type": "markdown",
      "source": [
        "**Model 5 (Hybrid CNN-LSTM) - Score: 14956.6734**\n",
        "- CNN layers might not be effectively extracting relevant features\n",
        "- Potential overcomplication of the model\n",
        "- Worse than simpler LSTM-based approaches\n",
        "- Suggests local temporal patterns might not be as important as global temporal dependencies"
      ],
      "metadata": {
        "id": "2gzN9GY4hls_"
      }
    },
    {
      "cell_type": "markdown",
      "source": [
        "### **Model 8 (Lightweight CNN-GRU)**"
      ],
      "metadata": {
        "id": "WUC34gUA_XRn"
      }
    },
    {
      "cell_type": "code",
      "source": [
        "model8 = Sequential([\n",
        "    # Minimal CNN for feature extraction\n",
        "    Conv1D(filters=32, kernel_size=3, activation='relu', input_shape=(X_train.shape[1], X_train.shape[2])),\n",
        "    Dropout(0.2),\n",
        "\n",
        "    # Fast GRU processing\n",
        "    GRU(64, activation='relu', return_sequences=True),\n",
        "    Dropout(0.3),\n",
        "    GRU(32, activation='relu'),\n",
        "    Dropout(0.2),\n",
        "\n",
        "    # Output layers\n",
        "    Dense(24, activation='relu'),\n",
        "    Dense(1)\n",
        "])\n",
        "\n",
        "model8.compile(\n",
        "    optimizer=Adam(learning_rate=0.003),  # Even higher LR\n",
        "    loss='mse',\n",
        "    metrics=[lambda y, y_pred: tf.sqrt(tf.reduce_mean(tf.square(y - y_pred)))]\n",
        ")\n",
        "\n",
        "model8.summary()"
      ],
      "metadata": {
        "colab": {
          "base_uri": "https://localhost:8080/",
          "height": 392
        },
        "id": "toFyNH6GAEgV",
        "outputId": "b1b380bc-dd83-4157-ba9a-1def42cd3ace"
      },
      "execution_count": null,
      "outputs": [
        {
          "output_type": "display_data",
          "data": {
            "text/plain": [
              "\u001b[1mModel: \"sequential_5\"\u001b[0m\n"
            ],
            "text/html": [
              "<pre style=\"white-space:pre;overflow-x:auto;line-height:normal;font-family:Menlo,'DejaVu Sans Mono',consolas,'Courier New',monospace\"><span style=\"font-weight: bold\">Model: \"sequential_5\"</span>\n",
              "</pre>\n"
            ]
          },
          "metadata": {}
        },
        {
          "output_type": "display_data",
          "data": {
            "text/plain": [
              "┏━━━━━━━━━━━━━━━━━━━━━━━━━━━━━━━━━┳━━━━━━━━━━━━━━━━━━━━━━━━┳━━━━━━━━━━━━━━━┓\n",
              "┃\u001b[1m \u001b[0m\u001b[1mLayer (type)                   \u001b[0m\u001b[1m \u001b[0m┃\u001b[1m \u001b[0m\u001b[1mOutput Shape          \u001b[0m\u001b[1m \u001b[0m┃\u001b[1m \u001b[0m\u001b[1m      Param #\u001b[0m\u001b[1m \u001b[0m┃\n",
              "┡━━━━━━━━━━━━━━━━━━━━━━━━━━━━━━━━━╇━━━━━━━━━━━━━━━━━━━━━━━━╇━━━━━━━━━━━━━━━┩\n",
              "│ conv1d_2 (\u001b[38;5;33mConv1D\u001b[0m)               │ (\u001b[38;5;45mNone\u001b[0m, \u001b[38;5;34m22\u001b[0m, \u001b[38;5;34m32\u001b[0m)         │         \u001b[38;5;34m2,048\u001b[0m │\n",
              "├─────────────────────────────────┼────────────────────────┼───────────────┤\n",
              "│ dropout_10 (\u001b[38;5;33mDropout\u001b[0m)            │ (\u001b[38;5;45mNone\u001b[0m, \u001b[38;5;34m22\u001b[0m, \u001b[38;5;34m32\u001b[0m)         │             \u001b[38;5;34m0\u001b[0m │\n",
              "├─────────────────────────────────┼────────────────────────┼───────────────┤\n",
              "│ gru_3 (\u001b[38;5;33mGRU\u001b[0m)                     │ (\u001b[38;5;45mNone\u001b[0m, \u001b[38;5;34m22\u001b[0m, \u001b[38;5;34m64\u001b[0m)         │        \u001b[38;5;34m18,816\u001b[0m │\n",
              "├─────────────────────────────────┼────────────────────────┼───────────────┤\n",
              "│ dropout_11 (\u001b[38;5;33mDropout\u001b[0m)            │ (\u001b[38;5;45mNone\u001b[0m, \u001b[38;5;34m22\u001b[0m, \u001b[38;5;34m64\u001b[0m)         │             \u001b[38;5;34m0\u001b[0m │\n",
              "├─────────────────────────────────┼────────────────────────┼───────────────┤\n",
              "│ gru_4 (\u001b[38;5;33mGRU\u001b[0m)                     │ (\u001b[38;5;45mNone\u001b[0m, \u001b[38;5;34m32\u001b[0m)             │         \u001b[38;5;34m9,408\u001b[0m │\n",
              "├─────────────────────────────────┼────────────────────────┼───────────────┤\n",
              "│ dropout_12 (\u001b[38;5;33mDropout\u001b[0m)            │ (\u001b[38;5;45mNone\u001b[0m, \u001b[38;5;34m32\u001b[0m)             │             \u001b[38;5;34m0\u001b[0m │\n",
              "├─────────────────────────────────┼────────────────────────┼───────────────┤\n",
              "│ dense_13 (\u001b[38;5;33mDense\u001b[0m)                │ (\u001b[38;5;45mNone\u001b[0m, \u001b[38;5;34m24\u001b[0m)             │           \u001b[38;5;34m792\u001b[0m │\n",
              "├─────────────────────────────────┼────────────────────────┼───────────────┤\n",
              "│ dense_14 (\u001b[38;5;33mDense\u001b[0m)                │ (\u001b[38;5;45mNone\u001b[0m, \u001b[38;5;34m1\u001b[0m)              │            \u001b[38;5;34m25\u001b[0m │\n",
              "└─────────────────────────────────┴────────────────────────┴───────────────┘\n"
            ],
            "text/html": [
              "<pre style=\"white-space:pre;overflow-x:auto;line-height:normal;font-family:Menlo,'DejaVu Sans Mono',consolas,'Courier New',monospace\">┏━━━━━━━━━━━━━━━━━━━━━━━━━━━━━━━━━┳━━━━━━━━━━━━━━━━━━━━━━━━┳━━━━━━━━━━━━━━━┓\n",
              "┃<span style=\"font-weight: bold\"> Layer (type)                    </span>┃<span style=\"font-weight: bold\"> Output Shape           </span>┃<span style=\"font-weight: bold\">       Param # </span>┃\n",
              "┡━━━━━━━━━━━━━━━━━━━━━━━━━━━━━━━━━╇━━━━━━━━━━━━━━━━━━━━━━━━╇━━━━━━━━━━━━━━━┩\n",
              "│ conv1d_2 (<span style=\"color: #0087ff; text-decoration-color: #0087ff\">Conv1D</span>)               │ (<span style=\"color: #00d7ff; text-decoration-color: #00d7ff\">None</span>, <span style=\"color: #00af00; text-decoration-color: #00af00\">22</span>, <span style=\"color: #00af00; text-decoration-color: #00af00\">32</span>)         │         <span style=\"color: #00af00; text-decoration-color: #00af00\">2,048</span> │\n",
              "├─────────────────────────────────┼────────────────────────┼───────────────┤\n",
              "│ dropout_10 (<span style=\"color: #0087ff; text-decoration-color: #0087ff\">Dropout</span>)            │ (<span style=\"color: #00d7ff; text-decoration-color: #00d7ff\">None</span>, <span style=\"color: #00af00; text-decoration-color: #00af00\">22</span>, <span style=\"color: #00af00; text-decoration-color: #00af00\">32</span>)         │             <span style=\"color: #00af00; text-decoration-color: #00af00\">0</span> │\n",
              "├─────────────────────────────────┼────────────────────────┼───────────────┤\n",
              "│ gru_3 (<span style=\"color: #0087ff; text-decoration-color: #0087ff\">GRU</span>)                     │ (<span style=\"color: #00d7ff; text-decoration-color: #00d7ff\">None</span>, <span style=\"color: #00af00; text-decoration-color: #00af00\">22</span>, <span style=\"color: #00af00; text-decoration-color: #00af00\">64</span>)         │        <span style=\"color: #00af00; text-decoration-color: #00af00\">18,816</span> │\n",
              "├─────────────────────────────────┼────────────────────────┼───────────────┤\n",
              "│ dropout_11 (<span style=\"color: #0087ff; text-decoration-color: #0087ff\">Dropout</span>)            │ (<span style=\"color: #00d7ff; text-decoration-color: #00d7ff\">None</span>, <span style=\"color: #00af00; text-decoration-color: #00af00\">22</span>, <span style=\"color: #00af00; text-decoration-color: #00af00\">64</span>)         │             <span style=\"color: #00af00; text-decoration-color: #00af00\">0</span> │\n",
              "├─────────────────────────────────┼────────────────────────┼───────────────┤\n",
              "│ gru_4 (<span style=\"color: #0087ff; text-decoration-color: #0087ff\">GRU</span>)                     │ (<span style=\"color: #00d7ff; text-decoration-color: #00d7ff\">None</span>, <span style=\"color: #00af00; text-decoration-color: #00af00\">32</span>)             │         <span style=\"color: #00af00; text-decoration-color: #00af00\">9,408</span> │\n",
              "├─────────────────────────────────┼────────────────────────┼───────────────┤\n",
              "│ dropout_12 (<span style=\"color: #0087ff; text-decoration-color: #0087ff\">Dropout</span>)            │ (<span style=\"color: #00d7ff; text-decoration-color: #00d7ff\">None</span>, <span style=\"color: #00af00; text-decoration-color: #00af00\">32</span>)             │             <span style=\"color: #00af00; text-decoration-color: #00af00\">0</span> │\n",
              "├─────────────────────────────────┼────────────────────────┼───────────────┤\n",
              "│ dense_13 (<span style=\"color: #0087ff; text-decoration-color: #0087ff\">Dense</span>)                │ (<span style=\"color: #00d7ff; text-decoration-color: #00d7ff\">None</span>, <span style=\"color: #00af00; text-decoration-color: #00af00\">24</span>)             │           <span style=\"color: #00af00; text-decoration-color: #00af00\">792</span> │\n",
              "├─────────────────────────────────┼────────────────────────┼───────────────┤\n",
              "│ dense_14 (<span style=\"color: #0087ff; text-decoration-color: #0087ff\">Dense</span>)                │ (<span style=\"color: #00d7ff; text-decoration-color: #00d7ff\">None</span>, <span style=\"color: #00af00; text-decoration-color: #00af00\">1</span>)              │            <span style=\"color: #00af00; text-decoration-color: #00af00\">25</span> │\n",
              "└─────────────────────────────────┴────────────────────────┴───────────────┘\n",
              "</pre>\n"
            ]
          },
          "metadata": {}
        },
        {
          "output_type": "display_data",
          "data": {
            "text/plain": [
              "\u001b[1m Total params: \u001b[0m\u001b[38;5;34m31,089\u001b[0m (121.44 KB)\n"
            ],
            "text/html": [
              "<pre style=\"white-space:pre;overflow-x:auto;line-height:normal;font-family:Menlo,'DejaVu Sans Mono',consolas,'Courier New',monospace\"><span style=\"font-weight: bold\"> Total params: </span><span style=\"color: #00af00; text-decoration-color: #00af00\">31,089</span> (121.44 KB)\n",
              "</pre>\n"
            ]
          },
          "metadata": {}
        },
        {
          "output_type": "display_data",
          "data": {
            "text/plain": [
              "\u001b[1m Trainable params: \u001b[0m\u001b[38;5;34m31,089\u001b[0m (121.44 KB)\n"
            ],
            "text/html": [
              "<pre style=\"white-space:pre;overflow-x:auto;line-height:normal;font-family:Menlo,'DejaVu Sans Mono',consolas,'Courier New',monospace\"><span style=\"font-weight: bold\"> Trainable params: </span><span style=\"color: #00af00; text-decoration-color: #00af00\">31,089</span> (121.44 KB)\n",
              "</pre>\n"
            ]
          },
          "metadata": {}
        },
        {
          "output_type": "display_data",
          "data": {
            "text/plain": [
              "\u001b[1m Non-trainable params: \u001b[0m\u001b[38;5;34m0\u001b[0m (0.00 B)\n"
            ],
            "text/html": [
              "<pre style=\"white-space:pre;overflow-x:auto;line-height:normal;font-family:Menlo,'DejaVu Sans Mono',consolas,'Courier New',monospace\"><span style=\"font-weight: bold\"> Non-trainable params: </span><span style=\"color: #00af00; text-decoration-color: #00af00\">0</span> (0.00 B)\n",
              "</pre>\n"
            ]
          },
          "metadata": {}
        }
      ]
    },
    {
      "cell_type": "code",
      "source": [
        "early_stopping = EarlyStopping(monitor='loss', patience=4, restore_best_weights=True)\n",
        "\n",
        "history8 = model8.fit(\n",
        "    X_train, y_train,\n",
        "    epochs=20,  # Very fast training\n",
        "    batch_size=256,  # Large batch for speed\n",
        "    callbacks=[early_stopping],\n",
        "    verbose=1\n",
        ")"
      ],
      "metadata": {
        "colab": {
          "base_uri": "https://localhost:8080/"
        },
        "id": "049pcTARAW11",
        "outputId": "4bacb13f-bd70-43e3-89e2-4ccee9fcba8c"
      },
      "execution_count": null,
      "outputs": [
        {
          "output_type": "stream",
          "name": "stdout",
          "text": [
            "Epoch 1/20\n",
            "\u001b[1m120/120\u001b[0m \u001b[32m━━━━━━━━━━━━━━━━━━━━\u001b[0m\u001b[37m\u001b[0m \u001b[1m19s\u001b[0m 107ms/step - lambda: 0.9642 - loss: 0.5541\n",
            "Epoch 2/20\n",
            "\u001b[1m120/120\u001b[0m \u001b[32m━━━━━━━━━━━━━━━━━━━━\u001b[0m\u001b[37m\u001b[0m \u001b[1m30s\u001b[0m 186ms/step - lambda: 1.0548 - loss: 0.3497\n",
            "Epoch 3/20\n",
            "\u001b[1m120/120\u001b[0m \u001b[32m━━━━━━━━━━━━━━━━━━━━\u001b[0m\u001b[37m\u001b[0m \u001b[1m32s\u001b[0m 108ms/step - lambda: 1.0668 - loss: 0.3178\n",
            "Epoch 4/20\n",
            "\u001b[1m120/120\u001b[0m \u001b[32m━━━━━━━━━━━━━━━━━━━━\u001b[0m\u001b[37m\u001b[0m \u001b[1m20s\u001b[0m 108ms/step - lambda: 1.0808 - loss: 0.2918\n",
            "Epoch 5/20\n",
            "\u001b[1m120/120\u001b[0m \u001b[32m━━━━━━━━━━━━━━━━━━━━\u001b[0m\u001b[37m\u001b[0m \u001b[1m14s\u001b[0m 115ms/step - lambda: 1.0931 - loss: 0.2672\n",
            "Epoch 6/20\n",
            "\u001b[1m120/120\u001b[0m \u001b[32m━━━━━━━━━━━━━━━━━━━━\u001b[0m\u001b[37m\u001b[0m \u001b[1m13s\u001b[0m 108ms/step - lambda: 1.0992 - loss: 0.2469\n",
            "Epoch 7/20\n",
            "\u001b[1m120/120\u001b[0m \u001b[32m━━━━━━━━━━━━━━━━━━━━\u001b[0m\u001b[37m\u001b[0m \u001b[1m13s\u001b[0m 108ms/step - lambda: 1.1063 - loss: 0.2302\n",
            "Epoch 8/20\n",
            "\u001b[1m120/120\u001b[0m \u001b[32m━━━━━━━━━━━━━━━━━━━━\u001b[0m\u001b[37m\u001b[0m \u001b[1m20s\u001b[0m 108ms/step - lambda: 1.1136 - loss: 0.2168\n",
            "Epoch 9/20\n",
            "\u001b[1m120/120\u001b[0m \u001b[32m━━━━━━━━━━━━━━━━━━━━\u001b[0m\u001b[37m\u001b[0m \u001b[1m22s\u001b[0m 120ms/step - lambda: 1.1199 - loss: 0.2040\n",
            "Epoch 10/20\n",
            "\u001b[1m120/120\u001b[0m \u001b[32m━━━━━━━━━━━━━━━━━━━━\u001b[0m\u001b[37m\u001b[0m \u001b[1m19s\u001b[0m 108ms/step - lambda: 1.1233 - loss: 0.1941\n",
            "Epoch 11/20\n",
            "\u001b[1m120/120\u001b[0m \u001b[32m━━━━━━━━━━━━━━━━━━━━\u001b[0m\u001b[37m\u001b[0m \u001b[1m21s\u001b[0m 115ms/step - lambda: 1.1305 - loss: 0.1841\n",
            "Epoch 12/20\n",
            "\u001b[1m120/120\u001b[0m \u001b[32m━━━━━━━━━━━━━━━━━━━━\u001b[0m\u001b[37m\u001b[0m \u001b[1m20s\u001b[0m 108ms/step - lambda: 1.1329 - loss: 0.1755\n",
            "Epoch 13/20\n",
            "\u001b[1m120/120\u001b[0m \u001b[32m━━━━━━━━━━━━━━━━━━━━\u001b[0m\u001b[37m\u001b[0m \u001b[1m13s\u001b[0m 108ms/step - lambda: 1.1388 - loss: 0.1682\n",
            "Epoch 14/20\n",
            "\u001b[1m120/120\u001b[0m \u001b[32m━━━━━━━━━━━━━━━━━━━━\u001b[0m\u001b[37m\u001b[0m \u001b[1m20s\u001b[0m 108ms/step - lambda: 1.1375 - loss: 0.1611\n",
            "Epoch 15/20\n",
            "\u001b[1m120/120\u001b[0m \u001b[32m━━━━━━━━━━━━━━━━━━━━\u001b[0m\u001b[37m\u001b[0m \u001b[1m20s\u001b[0m 108ms/step - lambda: 1.1434 - loss: 0.1576\n",
            "Epoch 16/20\n",
            "\u001b[1m120/120\u001b[0m \u001b[32m━━━━━━━━━━━━━━━━━━━━\u001b[0m\u001b[37m\u001b[0m \u001b[1m20s\u001b[0m 108ms/step - lambda: 1.1440 - loss: 0.1521\n",
            "Epoch 17/20\n",
            "\u001b[1m120/120\u001b[0m \u001b[32m━━━━━━━━━━━━━━━━━━━━\u001b[0m\u001b[37m\u001b[0m \u001b[1m14s\u001b[0m 114ms/step - lambda: 1.1442 - loss: 0.1511\n",
            "Epoch 18/20\n",
            "\u001b[1m120/120\u001b[0m \u001b[32m━━━━━━━━━━━━━━━━━━━━\u001b[0m\u001b[37m\u001b[0m \u001b[1m20s\u001b[0m 112ms/step - lambda: 1.1464 - loss: 0.1454\n",
            "Epoch 19/20\n",
            "\u001b[1m120/120\u001b[0m \u001b[32m━━━━━━━━━━━━━━━━━━━━\u001b[0m\u001b[37m\u001b[0m \u001b[1m20s\u001b[0m 108ms/step - lambda: 1.1517 - loss: 0.1416\n",
            "Epoch 20/20\n",
            "\u001b[1m120/120\u001b[0m \u001b[32m━━━━━━━━━━━━━━━━━━━━\u001b[0m\u001b[37m\u001b[0m \u001b[1m20s\u001b[0m 108ms/step - lambda: 1.1531 - loss: 0.1329\n"
          ]
        }
      ]
    },
    {
      "cell_type": "code",
      "source": [
        "# Evaluate\n",
        "train_pred8 = model8.predict(X_train)\n",
        "train_rmse8 = np.sqrt(mean_squared_error(y_train, train_pred8))\n",
        "print(f\"Model 8 Training RMSE: {train_rmse8}\")\n",
        "\n",
        "# Plot training progress\n",
        "plt.figure(figsize=(10, 6))\n",
        "plt.plot(history8.history['loss'], label='Training Loss')\n",
        "plt.title('Model 8: Lightweight CNN-GRU - Training Loss')\n",
        "plt.xlabel('Epochs')\n",
        "plt.ylabel('Loss (MSE)')\n",
        "plt.legend()\n",
        "plt.show()"
      ],
      "metadata": {
        "colab": {
          "base_uri": "https://localhost:8080/",
          "height": 600
        },
        "id": "XlG6OHmZDQD9",
        "outputId": "db678981-1528-4f82-83e7-185247588a2e"
      },
      "execution_count": null,
      "outputs": [
        {
          "output_type": "stream",
          "name": "stdout",
          "text": [
            "\u001b[1m958/958\u001b[0m \u001b[32m━━━━━━━━━━━━━━━━━━━━\u001b[0m\u001b[37m\u001b[0m \u001b[1m11s\u001b[0m 11ms/step\n",
            "Model 8 Training RMSE: 0.3382770331173367\n"
          ]
        },
        {
          "output_type": "display_data",
          "data": {
            "text/plain": [
              "<Figure size 1000x600 with 1 Axes>"
            ],
            "image/png": "[encoded data removed]"
          },
          "metadata": {}
        }
      ]
    },
    {
      "cell_type": "code",
      "source": [
        "# Make predictions on test set\n",
        "test_predictions8 = model8.predict(X_test)\n",
        "print(f\"Raw test predictions shape: {test_predictions8.shape}\")\n",
        "\n",
        "# Inverse transform predictions back to original scale\n",
        "test_predictions8_original = target_scaler.inverse_transform(test_predictions8)\n",
        "\n",
        "# Ensure no negative values (PM2.5 can't be negative)\n",
        "test_predictions8_original = np.maximum(test_predictions8_original, 0)\n",
        "\n",
        "# Convert to integers and flatten\n",
        "test_predictions8_final = np.round(test_predictions8_original).astype(int).flatten()\n",
        "\n",
        "print(f\"Final test predictions shape: {test_predictions8_final.shape}\")\n",
        "print(f\"Test predictions range: {test_predictions8_final.min()} to {test_predictions8_final.max()}\")\n",
        "print(f\"Mean prediction: {test_predictions8_final.mean():.2f}\")"
      ],
      "metadata": {
        "colab": {
          "base_uri": "https://localhost:8080/"
        },
        "id": "OM7y86gKBXTN",
        "outputId": "c5e0d752-08c9-4fa4-d156-176018e4a569"
      },
      "execution_count": null,
      "outputs": [
        {
          "output_type": "stream",
          "name": "stdout",
          "text": [
            "\u001b[1m411/411\u001b[0m \u001b[32m━━━━━━━━━━━━━━━━━━━━\u001b[0m\u001b[37m\u001b[0m \u001b[1m3s\u001b[0m 7ms/step\n",
            "Raw test predictions shape: (13124, 1)\n",
            "Final test predictions shape: (13124,)\n",
            "Test predictions range: 7 to 654\n",
            "Mean prediction: 220.01\n"
          ]
        }
      ]
    },
    {
      "cell_type": "code",
      "source": [
        "# Debug the datetime index issue\n",
        "print(\"Debugging datetime index...\")\n",
        "print(f\"test_df_processed index type: {type(test_df_processed.index)}\")\n",
        "print(f\"test_df_processed index first 5 values:\")\n",
        "print(test_df_processed.index[:5])\n",
        "\n",
        "# Check if we need to use the 'datetime' column instead of index\n",
        "if 'datetime' in test_df_processed.columns:\n",
        "    print(\"Using 'datetime' column instead of index\")\n",
        "    all_test_dates = pd.to_datetime(test_df_processed['datetime'])\n",
        "else:\n",
        "    print(\"Using datetime index\")\n",
        "    all_test_dates = test_df_processed.index\n",
        "\n",
        "print(f\"All test dates first 5 values:\")\n",
        "print(all_test_dates[:5])\n",
        "print(f\"All test dates type: {type(all_test_dates)}\")\n",
        "\n",
        "print(f\"Original test data length: {len(all_test_dates)}\")\n",
        "print(f\"Predictions available: {len(test_predictions8_final)}\")\n",
        "print(f\"Missing predictions for first {sequence_length} rows\")\n",
        "\n",
        "# Padding missing predictions\n",
        "first_prediction = test_predictions8_final[0]\n",
        "padding_predictions = np.full(sequence_length, first_prediction)\n",
        "all_predictions = np.concatenate([padding_predictions, test_predictions8_final])\n",
        "\n",
        "print(f\"Total predictions after padding: {len(all_predictions)}\")\n",
        "\n",
        "# Create submission dataframe\n",
        "formatted_dates = all_test_dates.dt.strftime('%Y-%m-%d %-H:%M:%S')\n",
        "submission8 = pd.DataFrame({\n",
        "    'row ID': formatted_dates,\n",
        "    'pm2.5': all_predictions.astype(int)\n",
        "})\n",
        "\n",
        "print(f\"Submission dataframe created with shape: {submission8.shape}\")\n",
        "\n",
        "# Check for duplicates before sorting\n",
        "duplicate_count = submission8['row ID'].duplicated().sum()\n",
        "if duplicate_count > 0:\n",
        "    print(f\"Removing {duplicate_count} duplicates...\")\n",
        "    submission8 = submission8.drop_duplicates(subset=['row ID'], keep='last')\n",
        "\n",
        "# Sort by row ID\n",
        "submission8 = submission8.sort_values(by='row ID').reset_index(drop=True)\n",
        "\n",
        "# Save submission file\n",
        "submission8.to_csv('model8_submission.csv', index=False)\n",
        "print(\"\\nModel 8 submission saved as 'model8_submission.csv'\")\n",
        "\n",
        "# Validation checks\n",
        "print(\"\\nSUBMISSION VALIDATION\")\n",
        "print(\"=\"*30)\n",
        "print(f\"Missing values in submission: {submission8.isnull().sum().sum()}\")\n",
        "print(f\"Duplicate row IDs: {submission8['row ID'].duplicated().sum()}\")\n",
        "\n",
        "# Verify submission statistics\n",
        "print(f\"\\nMean PM2.5: {submission8['pm2.5'].mean():.2f}\")\n",
        "print(f\"Median PM2.5: {submission8['pm2.5'].median():.2f}\")\n",
        "print(f\"Std PM2.5: {submission8['pm2.5'].std():.2f}\")\n",
        "print(f\"Min PM2.5: {submission8['pm2.5'].min()}\")\n",
        "print(f\"Max PM2.5: {submission8['pm2.5'].max()}\")\n",
        "\n",
        "print(f\"\\nModel 8 submission ready for Kaggle upload!\")\n"
      ],
      "metadata": {
        "colab": {
          "base_uri": "https://localhost:8080/"
        },
        "id": "mbAfkVrLBNf4",
        "outputId": "30992fac-35c7-4ff0-924e-c473fc84fd12"
      },
      "execution_count": null,
      "outputs": [
        {
          "output_type": "stream",
          "name": "stdout",
          "text": [
            "Debugging datetime index...\n",
            "test_df_processed index type: <class 'pandas.core.indexes.datetimes.DatetimeIndex'>\n",
            "test_df_processed index first 5 values:\n",
            "DatetimeIndex([          '1970-01-01 00:00:00',\n",
            "               '1970-01-01 00:00:00.000000001',\n",
            "               '1970-01-01 00:00:00.000000002',\n",
            "               '1970-01-01 00:00:00.000000003',\n",
            "               '1970-01-01 00:00:00.000000004'],\n",
            "              dtype='datetime64[ns]', freq=None)\n",
            "Using 'datetime' column instead of index\n",
            "All test dates first 5 values:\n",
            "1970-01-01 00:00:00.000000000   2013-07-02 04:00:00\n",
            "1970-01-01 00:00:00.000000001   2013-07-02 05:00:00\n",
            "1970-01-01 00:00:00.000000002   2013-07-02 06:00:00\n",
            "1970-01-01 00:00:00.000000003   2013-07-02 07:00:00\n",
            "1970-01-01 00:00:00.000000004   2013-07-02 08:00:00\n",
            "Name: datetime, dtype: datetime64[ns]\n",
            "All test dates type: <class 'pandas.core.series.Series'>\n",
            "Original test data length: 13148\n",
            "Predictions available: 13124\n",
            "Missing predictions for first 24 rows\n",
            "Total predictions after padding: 13148\n",
            "Submission dataframe created with shape: (13148, 2)\n",
            "\n",
            "Model 8 submission saved as 'model8_submission.csv'\n",
            "\n",
            "SUBMISSION VALIDATION\n",
            "==============================\n",
            "Missing values in submission: 0\n",
            "Duplicate row IDs: 0\n",
            "\n",
            "Mean PM2.5: 219.88\n",
            "Median PM2.5: 161.50\n",
            "Std PM2.5: 174.20\n",
            "Min PM2.5: 7\n",
            "Max PM2.5: 654\n",
            "\n",
            "Model 8 submission ready for Kaggle upload!\n"
          ]
        }
      ]
    },
    {
      "cell_type": "markdown",
      "source": [
        "### **Model 7 (MultiScale Ensemble)**"
      ],
      "metadata": {
        "id": "CcQnvVNxAsp9"
      }
    },
    {
      "cell_type": "code",
      "source": [
        "#Input layer\n",
        "input_layer = Input(shape=(X_train.shape[1], X_train.shape[2]))\n",
        "\n",
        "# Branch 1: Short-term patterns\n",
        "branch1 = GRU(32, activation='relu')(input_layer)\n",
        "branch1 = Dense(16, activation='relu')(branch1)\n",
        "\n",
        "# Branch 2: Medium-term patterns\n",
        "branch2 = GRU(64, activation='relu', return_sequences=True)(input_layer)\n",
        "branch2 = GRU(32, activation='relu')(branch2)\n",
        "branch2 = Dense(16, activation='relu')(branch2)\n",
        "\n",
        "# Combine branches\n",
        "combined = Concatenate()([branch1, branch2])\n",
        "combined = Dense(32, activation='relu')(combined)\n",
        "combined = Dropout(0.2)(combined)\n",
        "output = Dense(1)(combined)\n",
        "\n",
        "model7 = Model(inputs=input_layer, outputs=output)\n",
        "\n",
        "model7.compile(\n",
        "    optimizer=Adam(learning_rate=0.002),\n",
        "    loss='mse',\n",
        "    metrics=[lambda y, y_pred: tf.sqrt(tf.reduce_mean(tf.square(y - y_pred)))]\n",
        ")\n",
        "\n",
        "model7.summary()"
      ],
      "metadata": {
        "colab": {
          "base_uri": "https://localhost:8080/",
          "height": 506
        },
        "id": "arRyXOMJAp_Z",
        "outputId": "258b5ba1-116b-40e2-f6a2-93c937ddb200"
      },
      "execution_count": null,
      "outputs": [
        {
          "output_type": "display_data",
          "data": {
            "text/plain": [
              "\u001b[1mModel: \"functional_6\"\u001b[0m\n"
            ],
            "text/html": [
              "<pre style=\"white-space:pre;overflow-x:auto;line-height:normal;font-family:Menlo,'DejaVu Sans Mono',consolas,'Courier New',monospace\"><span style=\"font-weight: bold\">Model: \"functional_6\"</span>\n",
              "</pre>\n"
            ]
          },
          "metadata": {}
        },
        {
          "output_type": "display_data",
          "data": {
            "text/plain": [
              "┏━━━━━━━━━━━━━━━━━━━━━┳━━━━━━━━━━━━━━━━━━━┳━━━━━━━━━━━━┳━━━━━━━━━━━━━━━━━━━┓\n",
              "┃\u001b[1m \u001b[0m\u001b[1mLayer (type)       \u001b[0m\u001b[1m \u001b[0m┃\u001b[1m \u001b[0m\u001b[1mOutput Shape     \u001b[0m\u001b[1m \u001b[0m┃\u001b[1m \u001b[0m\u001b[1m   Param #\u001b[0m\u001b[1m \u001b[0m┃\u001b[1m \u001b[0m\u001b[1mConnected to     \u001b[0m\u001b[1m \u001b[0m┃\n",
              "┡━━━━━━━━━━━━━━━━━━━━━╇━━━━━━━━━━━━━━━━━━━╇━━━━━━━━━━━━╇━━━━━━━━━━━━━━━━━━━┩\n",
              "│ input_layer_6       │ (\u001b[38;5;45mNone\u001b[0m, \u001b[38;5;34m24\u001b[0m, \u001b[38;5;34m21\u001b[0m)    │          \u001b[38;5;34m0\u001b[0m │ -                 │\n",
              "│ (\u001b[38;5;33mInputLayer\u001b[0m)        │                   │            │                   │\n",
              "├─────────────────────┼───────────────────┼────────────┼───────────────────┤\n",
              "│ gru_6 (\u001b[38;5;33mGRU\u001b[0m)         │ (\u001b[38;5;45mNone\u001b[0m, \u001b[38;5;34m24\u001b[0m, \u001b[38;5;34m64\u001b[0m)    │     \u001b[38;5;34m16,704\u001b[0m │ input_layer_6[\u001b[38;5;34m0\u001b[0m]… │\n",
              "├─────────────────────┼───────────────────┼────────────┼───────────────────┤\n",
              "│ gru_5 (\u001b[38;5;33mGRU\u001b[0m)         │ (\u001b[38;5;45mNone\u001b[0m, \u001b[38;5;34m32\u001b[0m)        │      \u001b[38;5;34m5,280\u001b[0m │ input_layer_6[\u001b[38;5;34m0\u001b[0m]… │\n",
              "├─────────────────────┼───────────────────┼────────────┼───────────────────┤\n",
              "│ gru_7 (\u001b[38;5;33mGRU\u001b[0m)         │ (\u001b[38;5;45mNone\u001b[0m, \u001b[38;5;34m32\u001b[0m)        │      \u001b[38;5;34m9,408\u001b[0m │ gru_6[\u001b[38;5;34m0\u001b[0m][\u001b[38;5;34m0\u001b[0m]       │\n",
              "├─────────────────────┼───────────────────┼────────────┼───────────────────┤\n",
              "│ dense_15 (\u001b[38;5;33mDense\u001b[0m)    │ (\u001b[38;5;45mNone\u001b[0m, \u001b[38;5;34m16\u001b[0m)        │        \u001b[38;5;34m528\u001b[0m │ gru_5[\u001b[38;5;34m0\u001b[0m][\u001b[38;5;34m0\u001b[0m]       │\n",
              "├─────────────────────┼───────────────────┼────────────┼───────────────────┤\n",
              "│ dense_16 (\u001b[38;5;33mDense\u001b[0m)    │ (\u001b[38;5;45mNone\u001b[0m, \u001b[38;5;34m16\u001b[0m)        │        \u001b[38;5;34m528\u001b[0m │ gru_7[\u001b[38;5;34m0\u001b[0m][\u001b[38;5;34m0\u001b[0m]       │\n",
              "├─────────────────────┼───────────────────┼────────────┼───────────────────┤\n",
              "│ concatenate         │ (\u001b[38;5;45mNone\u001b[0m, \u001b[38;5;34m32\u001b[0m)        │          \u001b[38;5;34m0\u001b[0m │ dense_15[\u001b[38;5;34m0\u001b[0m][\u001b[38;5;34m0\u001b[0m],   │\n",
              "│ (\u001b[38;5;33mConcatenate\u001b[0m)       │                   │            │ dense_16[\u001b[38;5;34m0\u001b[0m][\u001b[38;5;34m0\u001b[0m]    │\n",
              "├─────────────────────┼───────────────────┼────────────┼───────────────────┤\n",
              "│ dense_17 (\u001b[38;5;33mDense\u001b[0m)    │ (\u001b[38;5;45mNone\u001b[0m, \u001b[38;5;34m32\u001b[0m)        │      \u001b[38;5;34m1,056\u001b[0m │ concatenate[\u001b[38;5;34m0\u001b[0m][\u001b[38;5;34m0\u001b[0m] │\n",
              "├─────────────────────┼───────────────────┼────────────┼───────────────────┤\n",
              "│ dropout_13          │ (\u001b[38;5;45mNone\u001b[0m, \u001b[38;5;34m32\u001b[0m)        │          \u001b[38;5;34m0\u001b[0m │ dense_17[\u001b[38;5;34m0\u001b[0m][\u001b[38;5;34m0\u001b[0m]    │\n",
              "│ (\u001b[38;5;33mDropout\u001b[0m)           │                   │            │                   │\n",
              "├─────────────────────┼───────────────────┼────────────┼───────────────────┤\n",
              "│ dense_18 (\u001b[38;5;33mDense\u001b[0m)    │ (\u001b[38;5;45mNone\u001b[0m, \u001b[38;5;34m1\u001b[0m)         │         \u001b[38;5;34m33\u001b[0m │ dropout_13[\u001b[38;5;34m0\u001b[0m][\u001b[38;5;34m0\u001b[0m]  │\n",
              "└─────────────────────┴───────────────────┴────────────┴───────────────────┘\n"
            ],
            "text/html": [
              "<pre style=\"white-space:pre;overflow-x:auto;line-height:normal;font-family:Menlo,'DejaVu Sans Mono',consolas,'Courier New',monospace\">┏━━━━━━━━━━━━━━━━━━━━━┳━━━━━━━━━━━━━━━━━━━┳━━━━━━━━━━━━┳━━━━━━━━━━━━━━━━━━━┓\n",
              "┃<span style=\"font-weight: bold\"> Layer (type)        </span>┃<span style=\"font-weight: bold\"> Output Shape      </span>┃<span style=\"font-weight: bold\">    Param # </span>┃<span style=\"font-weight: bold\"> Connected to      </span>┃\n",
              "┡━━━━━━━━━━━━━━━━━━━━━╇━━━━━━━━━━━━━━━━━━━╇━━━━━━━━━━━━╇━━━━━━━━━━━━━━━━━━━┩\n",
              "│ input_layer_6       │ (<span style=\"color: #00d7ff; text-decoration-color: #00d7ff\">None</span>, <span style=\"color: #00af00; text-decoration-color: #00af00\">24</span>, <span style=\"color: #00af00; text-decoration-color: #00af00\">21</span>)    │          <span style=\"color: #00af00; text-decoration-color: #00af00\">0</span> │ -                 │\n",
              "│ (<span style=\"color: #0087ff; text-decoration-color: #0087ff\">InputLayer</span>)        │                   │            │                   │\n",
              "├─────────────────────┼───────────────────┼────────────┼───────────────────┤\n",
              "│ gru_6 (<span style=\"color: #0087ff; text-decoration-color: #0087ff\">GRU</span>)         │ (<span style=\"color: #00d7ff; text-decoration-color: #00d7ff\">None</span>, <span style=\"color: #00af00; text-decoration-color: #00af00\">24</span>, <span style=\"color: #00af00; text-decoration-color: #00af00\">64</span>)    │     <span style=\"color: #00af00; text-decoration-color: #00af00\">16,704</span> │ input_layer_6[<span style=\"color: #00af00; text-decoration-color: #00af00\">0</span>]… │\n",
              "├─────────────────────┼───────────────────┼────────────┼───────────────────┤\n",
              "│ gru_5 (<span style=\"color: #0087ff; text-decoration-color: #0087ff\">GRU</span>)         │ (<span style=\"color: #00d7ff; text-decoration-color: #00d7ff\">None</span>, <span style=\"color: #00af00; text-decoration-color: #00af00\">32</span>)        │      <span style=\"color: #00af00; text-decoration-color: #00af00\">5,280</span> │ input_layer_6[<span style=\"color: #00af00; text-decoration-color: #00af00\">0</span>]… │\n",
              "├─────────────────────┼───────────────────┼────────────┼───────────────────┤\n",
              "│ gru_7 (<span style=\"color: #0087ff; text-decoration-color: #0087ff\">GRU</span>)         │ (<span style=\"color: #00d7ff; text-decoration-color: #00d7ff\">None</span>, <span style=\"color: #00af00; text-decoration-color: #00af00\">32</span>)        │      <span style=\"color: #00af00; text-decoration-color: #00af00\">9,408</span> │ gru_6[<span style=\"color: #00af00; text-decoration-color: #00af00\">0</span>][<span style=\"color: #00af00; text-decoration-color: #00af00\">0</span>]       │\n",
              "├─────────────────────┼───────────────────┼────────────┼───────────────────┤\n",
              "│ dense_15 (<span style=\"color: #0087ff; text-decoration-color: #0087ff\">Dense</span>)    │ (<span style=\"color: #00d7ff; text-decoration-color: #00d7ff\">None</span>, <span style=\"color: #00af00; text-decoration-color: #00af00\">16</span>)        │        <span style=\"color: #00af00; text-decoration-color: #00af00\">528</span> │ gru_5[<span style=\"color: #00af00; text-decoration-color: #00af00\">0</span>][<span style=\"color: #00af00; text-decoration-color: #00af00\">0</span>]       │\n",
              "├─────────────────────┼───────────────────┼────────────┼───────────────────┤\n",
              "│ dense_16 (<span style=\"color: #0087ff; text-decoration-color: #0087ff\">Dense</span>)    │ (<span style=\"color: #00d7ff; text-decoration-color: #00d7ff\">None</span>, <span style=\"color: #00af00; text-decoration-color: #00af00\">16</span>)        │        <span style=\"color: #00af00; text-decoration-color: #00af00\">528</span> │ gru_7[<span style=\"color: #00af00; text-decoration-color: #00af00\">0</span>][<span style=\"color: #00af00; text-decoration-color: #00af00\">0</span>]       │\n",
              "├─────────────────────┼───────────────────┼────────────┼───────────────────┤\n",
              "│ concatenate         │ (<span style=\"color: #00d7ff; text-decoration-color: #00d7ff\">None</span>, <span style=\"color: #00af00; text-decoration-color: #00af00\">32</span>)        │          <span style=\"color: #00af00; text-decoration-color: #00af00\">0</span> │ dense_15[<span style=\"color: #00af00; text-decoration-color: #00af00\">0</span>][<span style=\"color: #00af00; text-decoration-color: #00af00\">0</span>],   │\n",
              "│ (<span style=\"color: #0087ff; text-decoration-color: #0087ff\">Concatenate</span>)       │                   │            │ dense_16[<span style=\"color: #00af00; text-decoration-color: #00af00\">0</span>][<span style=\"color: #00af00; text-decoration-color: #00af00\">0</span>]    │\n",
              "├─────────────────────┼───────────────────┼────────────┼───────────────────┤\n",
              "│ dense_17 (<span style=\"color: #0087ff; text-decoration-color: #0087ff\">Dense</span>)    │ (<span style=\"color: #00d7ff; text-decoration-color: #00d7ff\">None</span>, <span style=\"color: #00af00; text-decoration-color: #00af00\">32</span>)        │      <span style=\"color: #00af00; text-decoration-color: #00af00\">1,056</span> │ concatenate[<span style=\"color: #00af00; text-decoration-color: #00af00\">0</span>][<span style=\"color: #00af00; text-decoration-color: #00af00\">0</span>] │\n",
              "├─────────────────────┼───────────────────┼────────────┼───────────────────┤\n",
              "│ dropout_13          │ (<span style=\"color: #00d7ff; text-decoration-color: #00d7ff\">None</span>, <span style=\"color: #00af00; text-decoration-color: #00af00\">32</span>)        │          <span style=\"color: #00af00; text-decoration-color: #00af00\">0</span> │ dense_17[<span style=\"color: #00af00; text-decoration-color: #00af00\">0</span>][<span style=\"color: #00af00; text-decoration-color: #00af00\">0</span>]    │\n",
              "│ (<span style=\"color: #0087ff; text-decoration-color: #0087ff\">Dropout</span>)           │                   │            │                   │\n",
              "├─────────────────────┼───────────────────┼────────────┼───────────────────┤\n",
              "│ dense_18 (<span style=\"color: #0087ff; text-decoration-color: #0087ff\">Dense</span>)    │ (<span style=\"color: #00d7ff; text-decoration-color: #00d7ff\">None</span>, <span style=\"color: #00af00; text-decoration-color: #00af00\">1</span>)         │         <span style=\"color: #00af00; text-decoration-color: #00af00\">33</span> │ dropout_13[<span style=\"color: #00af00; text-decoration-color: #00af00\">0</span>][<span style=\"color: #00af00; text-decoration-color: #00af00\">0</span>]  │\n",
              "└─────────────────────┴───────────────────┴────────────┴───────────────────┘\n",
              "</pre>\n"
            ]
          },
          "metadata": {}
        },
        {
          "output_type": "display_data",
          "data": {
            "text/plain": [
              "\u001b[1m Total params: \u001b[0m\u001b[38;5;34m33,537\u001b[0m (131.00 KB)\n"
            ],
            "text/html": [
              "<pre style=\"white-space:pre;overflow-x:auto;line-height:normal;font-family:Menlo,'DejaVu Sans Mono',consolas,'Courier New',monospace\"><span style=\"font-weight: bold\"> Total params: </span><span style=\"color: #00af00; text-decoration-color: #00af00\">33,537</span> (131.00 KB)\n",
              "</pre>\n"
            ]
          },
          "metadata": {}
        },
        {
          "output_type": "display_data",
          "data": {
            "text/plain": [
              "\u001b[1m Trainable params: \u001b[0m\u001b[38;5;34m33,537\u001b[0m (131.00 KB)\n"
            ],
            "text/html": [
              "<pre style=\"white-space:pre;overflow-x:auto;line-height:normal;font-family:Menlo,'DejaVu Sans Mono',consolas,'Courier New',monospace\"><span style=\"font-weight: bold\"> Trainable params: </span><span style=\"color: #00af00; text-decoration-color: #00af00\">33,537</span> (131.00 KB)\n",
              "</pre>\n"
            ]
          },
          "metadata": {}
        },
        {
          "output_type": "display_data",
          "data": {
            "text/plain": [
              "\u001b[1m Non-trainable params: \u001b[0m\u001b[38;5;34m0\u001b[0m (0.00 B)\n"
            ],
            "text/html": [
              "<pre style=\"white-space:pre;overflow-x:auto;line-height:normal;font-family:Menlo,'DejaVu Sans Mono',consolas,'Courier New',monospace\"><span style=\"font-weight: bold\"> Non-trainable params: </span><span style=\"color: #00af00; text-decoration-color: #00af00\">0</span> (0.00 B)\n",
              "</pre>\n"
            ]
          },
          "metadata": {}
        }
      ]
    },
    {
      "cell_type": "code",
      "source": [
        "early_stopping = EarlyStopping(monitor='loss', patience=6, restore_best_weights=True)\n",
        "\n",
        "history7 = model7.fit(\n",
        "    X_train, y_train,\n",
        "    epochs=25,\n",
        "    batch_size=128,\n",
        "    callbacks=[early_stopping],\n",
        "    verbose=1\n",
        ")"
      ],
      "metadata": {
        "colab": {
          "base_uri": "https://localhost:8080/"
        },
        "id": "9WwUBgGfA23q",
        "outputId": "11c118b1-aa66-49a4-8282-d75a610f1dc4"
      },
      "execution_count": null,
      "outputs": [
        {
          "output_type": "stream",
          "name": "stdout",
          "text": [
            "Epoch 1/25\n",
            "\u001b[1m240/240\u001b[0m \u001b[32m━━━━━━━━━━━━━━━━━━━━\u001b[0m\u001b[37m\u001b[0m \u001b[1m27s\u001b[0m 81ms/step - lambda: 0.9884 - loss: 0.4839\n",
            "Epoch 2/25\n",
            "\u001b[1m240/240\u001b[0m \u001b[32m━━━━━━━━━━━━━━━━━━━━\u001b[0m\u001b[37m\u001b[0m \u001b[1m19s\u001b[0m 75ms/step - lambda: 1.0683 - loss: 0.3097\n",
            "Epoch 3/25\n",
            "\u001b[1m240/240\u001b[0m \u001b[32m━━━━━━━━━━━━━━━━━━━━\u001b[0m\u001b[37m\u001b[0m \u001b[1m19s\u001b[0m 81ms/step - lambda: 1.0865 - loss: 0.2694\n",
            "Epoch 4/25\n",
            "\u001b[1m240/240\u001b[0m \u001b[32m━━━━━━━━━━━━━━━━━━━━\u001b[0m\u001b[37m\u001b[0m \u001b[1m19s\u001b[0m 74ms/step - lambda: 1.0986 - loss: 0.2414\n",
            "Epoch 5/25\n",
            "\u001b[1m240/240\u001b[0m \u001b[32m━━━━━━━━━━━━━━━━━━━━\u001b[0m\u001b[37m\u001b[0m \u001b[1m18s\u001b[0m 74ms/step - lambda: 1.1129 - loss: 0.2096\n",
            "Epoch 6/25\n",
            "\u001b[1m240/240\u001b[0m \u001b[32m━━━━━━━━━━━━━━━━━━━━\u001b[0m\u001b[37m\u001b[0m \u001b[1m21s\u001b[0m 74ms/step - lambda: 1.1227 - loss: 0.1864\n",
            "Epoch 7/25\n",
            "\u001b[1m240/240\u001b[0m \u001b[32m━━━━━━━━━━━━━━━━━━━━\u001b[0m\u001b[37m\u001b[0m \u001b[1m22s\u001b[0m 81ms/step - lambda: 1.1333 - loss: 0.1684\n",
            "Epoch 8/25\n",
            "\u001b[1m240/240\u001b[0m \u001b[32m━━━━━━━━━━━━━━━━━━━━\u001b[0m\u001b[37m\u001b[0m \u001b[1m19s\u001b[0m 75ms/step - lambda: 1.1372 - loss: 0.1532\n",
            "Epoch 9/25\n",
            "\u001b[1m240/240\u001b[0m \u001b[32m━━━━━━━━━━━━━━━━━━━━\u001b[0m\u001b[37m\u001b[0m \u001b[1m22s\u001b[0m 81ms/step - lambda: 1.1420 - loss: 0.1450\n",
            "Epoch 10/25\n",
            "\u001b[1m240/240\u001b[0m \u001b[32m━━━━━━━━━━━━━━━━━━━━\u001b[0m\u001b[37m\u001b[0m \u001b[1m19s\u001b[0m 74ms/step - lambda: 1.1471 - loss: 0.1325\n",
            "Epoch 11/25\n",
            "\u001b[1m240/240\u001b[0m \u001b[32m━━━━━━━━━━━━━━━━━━━━\u001b[0m\u001b[37m\u001b[0m \u001b[1m22s\u001b[0m 80ms/step - lambda: 1.1487 - loss: 0.1278\n",
            "Epoch 12/25\n",
            "\u001b[1m240/240\u001b[0m \u001b[32m━━━━━━━━━━━━━━━━━━━━\u001b[0m\u001b[37m\u001b[0m \u001b[1m19s\u001b[0m 75ms/step - lambda: 1.1528 - loss: 0.1169\n",
            "Epoch 13/25\n",
            "\u001b[1m240/240\u001b[0m \u001b[32m━━━━━━━━━━━━━━━━━━━━\u001b[0m\u001b[37m\u001b[0m \u001b[1m20s\u001b[0m 75ms/step - lambda: 1.1572 - loss: 0.1108\n",
            "Epoch 14/25\n",
            "\u001b[1m240/240\u001b[0m \u001b[32m━━━━━━━━━━━━━━━━━━━━\u001b[0m\u001b[37m\u001b[0m \u001b[1m22s\u001b[0m 82ms/step - lambda: 1.1580 - loss: 0.1092\n",
            "Epoch 15/25\n",
            "\u001b[1m240/240\u001b[0m \u001b[32m━━━━━━━━━━━━━━━━━━━━\u001b[0m\u001b[37m\u001b[0m \u001b[1m19s\u001b[0m 75ms/step - lambda: 1.1619 - loss: 0.1013\n",
            "Epoch 16/25\n",
            "\u001b[1m240/240\u001b[0m \u001b[32m━━━━━━━━━━━━━━━━━━━━\u001b[0m\u001b[37m\u001b[0m \u001b[1m22s\u001b[0m 82ms/step - lambda: 1.1639 - loss: 0.0940\n",
            "Epoch 17/25\n",
            "\u001b[1m240/240\u001b[0m \u001b[32m━━━━━━━━━━━━━━━━━━━━\u001b[0m\u001b[37m\u001b[0m \u001b[1m18s\u001b[0m 75ms/step - lambda: 1.1621 - loss: 0.0945\n",
            "Epoch 18/25\n",
            "\u001b[1m240/240\u001b[0m \u001b[32m━━━━━━━━━━━━━━━━━━━━\u001b[0m\u001b[37m\u001b[0m \u001b[1m22s\u001b[0m 81ms/step - lambda: 1.1648 - loss: 0.0910\n",
            "Epoch 19/25\n",
            "\u001b[1m240/240\u001b[0m \u001b[32m━━━━━━━━━━━━━━━━━━━━\u001b[0m\u001b[37m\u001b[0m \u001b[1m19s\u001b[0m 75ms/step - lambda: 1.1656 - loss: 0.0891\n",
            "Epoch 20/25\n",
            "\u001b[1m240/240\u001b[0m \u001b[32m━━━━━━━━━━━━━━━━━━━━\u001b[0m\u001b[37m\u001b[0m \u001b[1m20s\u001b[0m 82ms/step - lambda: 1.1701 - loss: 0.0815\n",
            "Epoch 21/25\n",
            "\u001b[1m240/240\u001b[0m \u001b[32m━━━━━━━━━━━━━━━━━━━━\u001b[0m\u001b[37m\u001b[0m \u001b[1m19s\u001b[0m 75ms/step - lambda: 1.1664 - loss: 0.0855\n",
            "Epoch 22/25\n",
            "\u001b[1m240/240\u001b[0m \u001b[32m━━━━━━━━━━━━━━━━━━━━\u001b[0m\u001b[37m\u001b[0m \u001b[1m22s\u001b[0m 81ms/step - lambda: 1.1694 - loss: 0.0832\n",
            "Epoch 23/25\n",
            "\u001b[1m240/240\u001b[0m \u001b[32m━━━━━━━━━━━━━━━━━━━━\u001b[0m\u001b[37m\u001b[0m \u001b[1m21s\u001b[0m 82ms/step - lambda: 1.1696 - loss: 0.0802\n",
            "Epoch 24/25\n",
            "\u001b[1m240/240\u001b[0m \u001b[32m━━━━━━━━━━━━━━━━━━━━\u001b[0m\u001b[37m\u001b[0m \u001b[1m20s\u001b[0m 82ms/step - lambda: 1.1713 - loss: 0.0753\n",
            "Epoch 25/25\n",
            "\u001b[1m240/240\u001b[0m \u001b[32m━━━━━━━━━━━━━━━━━━━━\u001b[0m\u001b[37m\u001b[0m \u001b[1m19s\u001b[0m 75ms/step - lambda: 1.1715 - loss: 0.0766\n"
          ]
        }
      ]
    },
    {
      "cell_type": "code",
      "source": [
        "# Evaluate\n",
        "train_pred7 = model7.predict(X_train)\n",
        "train_rmse7 = np.sqrt(mean_squared_error(y_train, train_pred7))\n",
        "print(f\"Model 7 Training RMSE: {train_rmse7}\")\n",
        "\n",
        "# Plot training progress\n",
        "plt.figure(figsize=(10, 6))\n",
        "plt.plot(history7.history['loss'], label='Training Loss')\n",
        "plt.title('Model 7: MultiScale Ensemble - Training Loss')\n",
        "plt.xlabel('Epochs')\n",
        "plt.ylabel('Loss (MSE)')\n",
        "plt.legend()\n",
        "plt.show()"
      ],
      "metadata": {
        "colab": {
          "base_uri": "https://localhost:8080/",
          "height": 600
        },
        "id": "H903XI5hCjpK",
        "outputId": "0102af71-36aa-4372-d773-2839b4d04574"
      },
      "execution_count": null,
      "outputs": [
        {
          "output_type": "stream",
          "name": "stdout",
          "text": [
            "\u001b[1m958/958\u001b[0m \u001b[32m━━━━━━━━━━━━━━━━━━━━\u001b[0m\u001b[37m\u001b[0m \u001b[1m11s\u001b[0m 10ms/step\n",
            "Model 7 Training RMSE: 0.2429176383072838\n"
          ]
        },
        {
          "output_type": "display_data",
          "data": {
            "text/plain": [
              "<Figure size 1000x600 with 1 Axes>"
            ],
            "image/png": "[encoded data removed]"
          },
          "metadata": {}
        }
      ]
    },
    {
      "cell_type": "code",
      "source": [
        "# Make predictions on test set\n",
        "test_predictions7 = model7.predict(X_test)\n",
        "print(f\"Raw test predictions shape: {test_predictions7.shape}\")\n",
        "\n",
        "# Inverse transform predictions back to original scale\n",
        "test_predictions7_original = target_scaler.inverse_transform(test_predictions7)\n",
        "\n",
        "# Ensure no negative values (PM2.5 can't be negative)\n",
        "test_predictions7_original = np.maximum(test_predictions7_original, 0)\n",
        "\n",
        "# Convert to integers and flatten\n",
        "test_predictions7_final = np.round(test_predictions7_original).astype(int).flatten()\n",
        "\n",
        "print(f\"Final test predictions shape: {test_predictions7_final.shape}\")\n",
        "print(f\"Test predictions range: {test_predictions7_final.min()} to {test_predictions7_final.max()}\")\n",
        "print(f\"Mean prediction: {test_predictions7_final.mean():.2f}\")"
      ],
      "metadata": {
        "colab": {
          "base_uri": "https://localhost:8080/"
        },
        "id": "sddbsutaB6EZ",
        "outputId": "22939ecb-b6be-4cf5-e44d-e96b38991592"
      },
      "execution_count": null,
      "outputs": [
        {
          "output_type": "stream",
          "name": "stdout",
          "text": [
            "\u001b[1m411/411\u001b[0m \u001b[32m━━━━━━━━━━━━━━━━━━━━\u001b[0m\u001b[37m\u001b[0m \u001b[1m4s\u001b[0m 9ms/step\n",
            "Raw test predictions shape: (13124, 1)\n",
            "Final test predictions shape: (13124,)\n",
            "Test predictions range: 0 to 814\n",
            "Mean prediction: 179.91\n"
          ]
        }
      ]
    },
    {
      "cell_type": "code",
      "source": [
        "# Debug the datetime index issue\n",
        "print(\"Debugging datetime index...\")\n",
        "print(f\"test_df_processed index type: {type(test_df_processed.index)}\")\n",
        "print(f\"test_df_processed index first 5 values:\")\n",
        "print(test_df_processed.index[:5])\n",
        "\n",
        "# Check if we need to use the 'datetime' column instead of index\n",
        "if 'datetime' in test_df_processed.columns:\n",
        "    print(\"Using 'datetime' column instead of index\")\n",
        "    all_test_dates = pd.to_datetime(test_df_processed['datetime'])\n",
        "else:\n",
        "    print(\"Using datetime index\")\n",
        "    all_test_dates = test_df_processed.index\n",
        "\n",
        "print(f\"All test dates first 5 values:\")\n",
        "print(all_test_dates[:5])\n",
        "print(f\"All test dates type: {type(all_test_dates)}\")\n",
        "\n",
        "print(f\"Original test data length: {len(all_test_dates)}\")\n",
        "print(f\"Predictions available: {len(test_predictions7_final)}\")\n",
        "print(f\"Missing predictions for first {sequence_length} rows\")\n",
        "\n",
        "# Padding missing predictions\n",
        "first_prediction = test_predictions7_final[0]\n",
        "padding_predictions = np.full(sequence_length, first_prediction)\n",
        "all_predictions = np.concatenate([padding_predictions, test_predictions7_final])\n",
        "\n",
        "print(f\"Total predictions after padding: {len(all_predictions)}\")\n",
        "\n",
        "# Create submission dataframe\n",
        "formatted_dates = all_test_dates.dt.strftime('%Y-%m-%d %-H:%M:%S')\n",
        "submission7 = pd.DataFrame({\n",
        "    'row ID': formatted_dates,\n",
        "    'pm2.5': all_predictions.astype(int)\n",
        "})\n",
        "\n",
        "print(f\"Submission dataframe created with shape: {submission7.shape}\")\n",
        "\n",
        "# Check for duplicates before sorting\n",
        "duplicate_count = submission7['row ID'].duplicated().sum()\n",
        "if duplicate_count > 0:\n",
        "    print(f\"Removing {duplicate_count} duplicates...\")\n",
        "    submission7 = submission7.drop_duplicates(subset=['row ID'], keep='last')\n",
        "\n",
        "# Sort by row ID\n",
        "submission7 = submission7.sort_values(by='row ID').reset_index(drop=True)\n",
        "\n",
        "# Save submission file\n",
        "submission7.to_csv('model7_submission.csv', index=False)\n",
        "print(\"\\nModel 7 submission saved as 'model7_submission.csv'\")\n",
        "\n",
        "# Validation checks\n",
        "print(\"\\nSUBMISSION VALIDATION\")\n",
        "print(\"=\"*30)\n",
        "print(f\"Missing values in submission: {submission7.isnull().sum().sum()}\")\n",
        "print(f\"Duplicate row IDs: {submission7['row ID'].duplicated().sum()}\")\n",
        "\n",
        "# Verify submission statistics\n",
        "print(f\"\\nMean PM2.5: {submission7['pm2.5'].mean():.2f}\")\n",
        "print(f\"Median PM2.5: {submission7['pm2.5'].median():.2f}\")\n",
        "print(f\"Std PM2.5: {submission7['pm2.5'].std():.2f}\")\n",
        "print(f\"Min PM2.5: {submission7['pm2.5'].min()}\")\n",
        "print(f\"Max PM2.5: {submission7['pm2.5'].max()}\")\n",
        "\n",
        "print(f\"\\nModel 7 submission ready for Kaggle upload!\")\n"
      ],
      "metadata": {
        "colab": {
          "base_uri": "https://localhost:8080/"
        },
        "id": "fsLz0tGcB5Rv",
        "outputId": "318d6352-8c6e-4c36-8fef-a16a68741f46"
      },
      "execution_count": null,
      "outputs": [
        {
          "output_type": "stream",
          "name": "stdout",
          "text": [
            "Debugging datetime index...\n",
            "test_df_processed index type: <class 'pandas.core.indexes.datetimes.DatetimeIndex'>\n",
            "test_df_processed index first 5 values:\n",
            "DatetimeIndex([          '1970-01-01 00:00:00',\n",
            "               '1970-01-01 00:00:00.000000001',\n",
            "               '1970-01-01 00:00:00.000000002',\n",
            "               '1970-01-01 00:00:00.000000003',\n",
            "               '1970-01-01 00:00:00.000000004'],\n",
            "              dtype='datetime64[ns]', freq=None)\n",
            "Using 'datetime' column instead of index\n",
            "All test dates first 5 values:\n",
            "1970-01-01 00:00:00.000000000   2013-07-02 04:00:00\n",
            "1970-01-01 00:00:00.000000001   2013-07-02 05:00:00\n",
            "1970-01-01 00:00:00.000000002   2013-07-02 06:00:00\n",
            "1970-01-01 00:00:00.000000003   2013-07-02 07:00:00\n",
            "1970-01-01 00:00:00.000000004   2013-07-02 08:00:00\n",
            "Name: datetime, dtype: datetime64[ns]\n",
            "All test dates type: <class 'pandas.core.series.Series'>\n",
            "Original test data length: 13148\n",
            "Predictions available: 13124\n",
            "Missing predictions for first 24 rows\n",
            "Total predictions after padding: 13148\n",
            "Submission dataframe created with shape: (13148, 2)\n",
            "\n",
            "Model 7 submission saved as 'model7_submission.csv'\n",
            "\n",
            "SUBMISSION VALIDATION\n",
            "==============================\n",
            "Missing values in submission: 0\n",
            "Duplicate row IDs: 0\n",
            "\n",
            "Mean PM2.5: 179.91\n",
            "Median PM2.5: 146.00\n",
            "Std PM2.5: 143.45\n",
            "Min PM2.5: 0\n",
            "Max PM2.5: 814\n",
            "\n",
            "Model 7 submission ready for Kaggle upload!\n"
          ]
        }
      ]
    },
    {
      "cell_type": "markdown",
      "source": [
        "**Model 7 (MultiScale Ensemble) - Score: 17338.9223**\n",
        "- Ensemble approach didn't work as expected\n",
        "- Possible issues with how branches are combined\n",
        "- GRU-based parallel processing might have created conflicting gradients\n",
        "- Worse than individual component models"
      ],
      "metadata": {
        "id": "4sdm15D2ifr-"
      }
    },
    {
      "cell_type": "markdown",
      "source": [
        "### **Model 6 (Stacked LSTM + Dropout)**"
      ],
      "metadata": {
        "id": "rwPIZV7FS8aQ"
      }
    },
    {
      "cell_type": "code",
      "source": [
        "model = Sequential([\n",
        "    LSTM(64, return_sequences=True, activation='relu', input_shape=(X_train.shape[1], X_train.shape[2])),\n",
        "    Dropout(0.2),\n",
        "    LSTM(32, activation='relu'),\n",
        "    Dense(1)\n",
        "])\n",
        "model.compile(optimizer='adam', loss='mse', metrics=[tf.keras.metrics.RootMeanSquaredError()])\n",
        "model.fit(X_train, y_train, epochs=10, batch_size=32)\n"
      ],
      "metadata": {
        "colab": {
          "base_uri": "https://localhost:8080/"
        },
        "id": "6KBPEFmJS6sy",
        "outputId": "4157242e-a6a9-4d3b-c702-8da3fa5ce808"
      },
      "execution_count": null,
      "outputs": [
        {
          "output_type": "stream",
          "name": "stdout",
          "text": [
            "Epoch 1/10\n",
            "\u001b[1m958/958\u001b[0m \u001b[32m━━━━━━━━━━━━━━━━━━━━\u001b[0m\u001b[37m\u001b[0m \u001b[1m28s\u001b[0m 26ms/step - loss: 0.4549 - root_mean_squared_error: 0.6723\n",
            "Epoch 2/10\n",
            "\u001b[1m958/958\u001b[0m \u001b[32m━━━━━━━━━━━━━━━━━━━━\u001b[0m\u001b[37m\u001b[0m \u001b[1m56s\u001b[0m 41ms/step - loss: 0.3139 - root_mean_squared_error: 0.5601\n",
            "Epoch 3/10\n",
            "\u001b[1m958/958\u001b[0m \u001b[32m━━━━━━━━━━━━━━━━━━━━\u001b[0m\u001b[37m\u001b[0m \u001b[1m34s\u001b[0m 34ms/step - loss: 0.2623 - root_mean_squared_error: 0.5121\n",
            "Epoch 4/10\n",
            "\u001b[1m958/958\u001b[0m \u001b[32m━━━━━━━━━━━━━━━━━━━━\u001b[0m\u001b[37m\u001b[0m \u001b[1m41s\u001b[0m 34ms/step - loss: 0.2264 - root_mean_squared_error: 0.4757\n",
            "Epoch 5/10\n",
            "\u001b[1m958/958\u001b[0m \u001b[32m━━━━━━━━━━━━━━━━━━━━\u001b[0m\u001b[37m\u001b[0m \u001b[1m38s\u001b[0m 31ms/step - loss: 0.2071 - root_mean_squared_error: 0.4551\n",
            "Epoch 6/10\n",
            "\u001b[1m958/958\u001b[0m \u001b[32m━━━━━━━━━━━━━━━━━━━━\u001b[0m\u001b[37m\u001b[0m \u001b[1m56s\u001b[0m 46ms/step - loss: 0.1805 - root_mean_squared_error: 0.4248\n",
            "Epoch 7/10\n",
            "\u001b[1m958/958\u001b[0m \u001b[32m━━━━━━━━━━━━━━━━━━━━\u001b[0m\u001b[37m\u001b[0m \u001b[1m64s\u001b[0m 27ms/step - loss: 0.1602 - root_mean_squared_error: 0.4002\n",
            "Epoch 8/10\n",
            "\u001b[1m958/958\u001b[0m \u001b[32m━━━━━━━━━━━━━━━━━━━━\u001b[0m\u001b[37m\u001b[0m \u001b[1m67s\u001b[0m 54ms/step - loss: 0.1462 - root_mean_squared_error: 0.3824\n",
            "Epoch 9/10\n",
            "\u001b[1m958/958\u001b[0m \u001b[32m━━━━━━━━━━━━━━━━━━━━\u001b[0m\u001b[37m\u001b[0m \u001b[1m78s\u001b[0m 51ms/step - loss: 0.1383 - root_mean_squared_error: 0.3718\n",
            "Epoch 10/10\n",
            "\u001b[1m958/958\u001b[0m \u001b[32m━━━━━━━━━━━━━━━━━━━━\u001b[0m\u001b[37m\u001b[0m \u001b[1m57s\u001b[0m 25ms/step - loss: 0.1276 - root_mean_squared_error: 0.3572\n"
          ]
        },
        {
          "output_type": "execute_result",
          "data": {
            "text/plain": [
              "<keras.src.callbacks.history.History at 0x7c007af7a110>"
            ]
          },
          "metadata": {},
          "execution_count": 55
        }
      ]
    },
    {
      "cell_type": "code",
      "source": [
        "train_pred = model.predict(X_train)\n",
        "train_rmse = np.sqrt(mean_squared_error(y_train, train_pred))\n",
        "print(f\"Model 6 Training RMSE: {train_rmse}\")\n",
        "\n",
        "# Plot training progress\n",
        "plt.figure(figsize=(10, 6))\n",
        "plt.plot(history.history['loss'], label='Training Loss')\n",
        "plt.title('Model 6: Stacked LSTM + Dropout - Training Loss')\n",
        "plt.xlabel('Epochs')\n",
        "plt.ylabel('Loss (MSE)')\n",
        "plt.legend()\n",
        "plt.show()\n"
      ],
      "metadata": {
        "colab": {
          "base_uri": "https://localhost:8080/",
          "height": 600
        },
        "id": "35NLPBHDTZwU",
        "outputId": "46cac3e0-0be4-4613-be89-dfd5cfd329a4"
      },
      "execution_count": null,
      "outputs": [
        {
          "output_type": "stream",
          "name": "stdout",
          "text": [
            "\u001b[1m958/958\u001b[0m \u001b[32m━━━━━━━━━━━━━━━━━━━━\u001b[0m\u001b[37m\u001b[0m \u001b[1m9s\u001b[0m 9ms/step\n",
            "Model 6 Training RMSE: 0.3613971310374516\n"
          ]
        },
        {
          "output_type": "display_data",
          "data": {
            "text/plain": [
              "<Figure size 1000x600 with 1 Axes>"
            ],
            "image/png": "[encoded data removed]"
          },
          "metadata": {}
        }
      ]
    },
    {
      "cell_type": "code",
      "source": [
        "# Make predictions on test set\n",
        "test_predictions = model.predict(X_test)\n",
        "print(f\"Raw test predictions shape: {test_predictions.shape}\")\n",
        "\n",
        "# Inverse transform predictions back to original scale\n",
        "test_predictions_original = target_scaler.inverse_transform(test_predictions)\n",
        "\n",
        "# Ensure no negative values (PM2.5 can't be negative)\n",
        "test_predictions_original = np.maximum(test_predictions_original, 0)\n",
        "\n",
        "# Convert to integers and flatten\n",
        "test_predictions_final = np.round(test_predictions_original).astype(int).flatten()\n",
        "\n",
        "print(f\"Final test predictions shape: {test_predictions_final.shape}\")\n",
        "print(f\"Test predictions range: {test_predictions_final.min()} to {test_predictions_final.max()}\")\n",
        "print(f\"Mean prediction: {test_predictions_final.mean():.2f}\")"
      ],
      "metadata": {
        "colab": {
          "base_uri": "https://localhost:8080/"
        },
        "id": "cP0yNrz1UB5y",
        "outputId": "85413684-d500-4872-fd8d-7296073ac1f5"
      },
      "execution_count": null,
      "outputs": [
        {
          "output_type": "stream",
          "name": "stdout",
          "text": [
            "\u001b[1m411/411\u001b[0m \u001b[32m━━━━━━━━━━━━━━━━━━━━\u001b[0m\u001b[37m\u001b[0m \u001b[1m3s\u001b[0m 8ms/step\n",
            "Raw test predictions shape: (13124, 1)\n",
            "Final test predictions shape: (13124,)\n",
            "Test predictions range: 0 to 714\n",
            "Mean prediction: 164.71\n"
          ]
        }
      ]
    },
    {
      "cell_type": "code",
      "source": [
        "# Debug the datetime index issue\n",
        "print(\"Debugging datetime index...\")\n",
        "print(f\"test_df_processed index type: {type(test_df_processed.index)}\")\n",
        "print(f\"test_df_processed index first 5 values:\")\n",
        "print(test_df_processed.index[:5])\n",
        "\n",
        "# Check if we need to use the 'datetime' column instead of index\n",
        "if 'datetime' in test_df_processed.columns:\n",
        "    print(\"Using 'datetime' column instead of index\")\n",
        "    all_test_dates = pd.to_datetime(test_df_processed['datetime'])\n",
        "else:\n",
        "    print(\"Using datetime index\")\n",
        "    all_test_dates = test_df_processed.index\n",
        "\n",
        "print(f\"All test dates first 5 values:\")\n",
        "print(all_test_dates[:5])\n",
        "print(f\"All test dates type: {type(all_test_dates)}\")\n",
        "\n",
        "print(f\"Original test data length: {len(all_test_dates)}\")\n",
        "print(f\"Predictions available: {len(test_predictions_final)}\")\n",
        "print(f\"Missing predictions for first {sequence_length} rows\")\n",
        "\n",
        "# Padding missing predictions\n",
        "first_prediction = test_predictions_final[0]\n",
        "padding_predictions = np.full(sequence_length, first_prediction)\n",
        "all_predictions = np.concatenate([padding_predictions, test_predictions_final])\n",
        "\n",
        "print(f\"Total predictions after padding: {len(all_predictions)}\")\n",
        "\n",
        "# Create submission dataframe\n",
        "formatted_dates = all_test_dates.dt.strftime('%Y-%m-%d %-H:%M:%S')\n",
        "submission = pd.DataFrame({\n",
        "    'row ID': formatted_dates,\n",
        "    'pm2.5': all_predictions.astype(int)\n",
        "})\n",
        "\n",
        "print(f\"Submission dataframe created with shape: {submission.shape}\")\n",
        "\n",
        "# Check for duplicates before sorting\n",
        "duplicate_count = submission['row ID'].duplicated().sum()\n",
        "if duplicate_count > 0:\n",
        "    print(f\"Removing {duplicate_count} duplicates...\")\n",
        "    submission = submission.drop_duplicates(subset=['row ID'], keep='last')\n",
        "\n",
        "# Sort by row ID\n",
        "submission = submission.sort_values(by='row ID').reset_index(drop=True)\n",
        "\n",
        "# Save submission file\n",
        "submission.to_csv('model6_submission.csv', index=False)\n",
        "print(\"\\nModel 6 submission saved as 'model6_submission.csv'\")\n",
        "\n",
        "# Validation checks\n",
        "print(\"\\nSUBMISSION VALIDATION\")\n",
        "print(\"=\"*30)\n",
        "print(f\"Missing values in submission: {submission.isnull().sum().sum()}\")\n",
        "print(f\"Duplicate row IDs: {submission['row ID'].duplicated().sum()}\")\n",
        "\n",
        "# Verify submission statistics\n",
        "print(f\"\\nMean PM2.5: {submission['pm2.5'].mean():.2f}\")\n",
        "print(f\"Median PM2.5: {submission['pm2.5'].median():.2f}\")\n",
        "print(f\"Std PM2.5: {submission['pm2.5'].std():.2f}\")\n",
        "print(f\"Min PM2.5: {submission['pm2.5'].min()}\")\n",
        "print(f\"Max PM2.5: {submission['pm2.5'].max()}\")\n",
        "\n",
        "print(f\"\\nModel 6 submission ready for Kaggle upload!\")\n"
      ],
      "metadata": {
        "colab": {
          "base_uri": "https://localhost:8080/"
        },
        "id": "dDCixXvqT4nP",
        "outputId": "8f909f65-3b33-4833-c9db-b64f62e1fc41"
      },
      "execution_count": null,
      "outputs": [
        {
          "output_type": "stream",
          "name": "stdout",
          "text": [
            "Debugging datetime index...\n",
            "test_df_processed index type: <class 'pandas.core.indexes.datetimes.DatetimeIndex'>\n",
            "test_df_processed index first 5 values:\n",
            "DatetimeIndex([          '1970-01-01 00:00:00',\n",
            "               '1970-01-01 00:00:00.000000001',\n",
            "               '1970-01-01 00:00:00.000000002',\n",
            "               '1970-01-01 00:00:00.000000003',\n",
            "               '1970-01-01 00:00:00.000000004'],\n",
            "              dtype='datetime64[ns]', freq=None)\n",
            "Using 'datetime' column instead of index\n",
            "All test dates first 5 values:\n",
            "1970-01-01 00:00:00.000000000   2013-07-02 04:00:00\n",
            "1970-01-01 00:00:00.000000001   2013-07-02 05:00:00\n",
            "1970-01-01 00:00:00.000000002   2013-07-02 06:00:00\n",
            "1970-01-01 00:00:00.000000003   2013-07-02 07:00:00\n",
            "1970-01-01 00:00:00.000000004   2013-07-02 08:00:00\n",
            "Name: datetime, dtype: datetime64[ns]\n",
            "All test dates type: <class 'pandas.core.series.Series'>\n",
            "Original test data length: 13148\n",
            "Predictions available: 13124\n",
            "Missing predictions for first 24 rows\n",
            "Total predictions after padding: 13148\n",
            "Submission dataframe created with shape: (13148, 2)\n",
            "\n",
            "Model 6 submission saved as 'model6_submission.csv'\n",
            "\n",
            "SUBMISSION VALIDATION\n",
            "==============================\n",
            "Missing values in submission: 0\n",
            "Duplicate row IDs: 0\n",
            "\n",
            "Mean PM2.5: 164.68\n",
            "Median PM2.5: 117.00\n",
            "Std PM2.5: 137.06\n",
            "Min PM2.5: 0\n",
            "Max PM2.5: 714\n",
            "\n",
            "Model 6 submission ready for Kaggle upload!\n"
          ]
        }
      ]
    },
    {
      "cell_type": "markdown",
      "source": [
        "**Model 6 (Stacked LSTM + Dropout) - Score: 10110.4099**\n",
        "- Stacking LSTM layers increases capacity\n",
        "- Dropout helps with regularization\n",
        "- Better than basic LSTM but not as good as GRU-based approaches\n",
        "- Shows value of model depth but limited by LSTM architecture"
      ],
      "metadata": {
        "id": "1xB9_C7yizOy"
      }
    },
    {
      "cell_type": "markdown",
      "source": [
        "### **TCN Model**"
      ],
      "metadata": {
        "id": "VvShsGhmXgne"
      }
    },
    {
      "cell_type": "code",
      "source": [
        "from tensorflow.keras.layers import Input, Conv1D, BatchNormalization, Activation, add, GlobalAveragePooling1D, Dense\n",
        "from tensorflow.keras.models import Model\n",
        "from tensorflow.keras.callbacks import EarlyStopping, ReduceLROnPlateau\n",
        "\n",
        "def residual_block(x, filters, kernel_size, dilation_rate):\n",
        "    shortcut = x\n",
        "    # first conv\n",
        "    x = Conv1D(filters, kernel_size, padding='causal', dilation_rate=dilation_rate)(x)\n",
        "    x = BatchNormalization()(x)\n",
        "    x = Activation('relu')(x)\n",
        "    # second conv\n",
        "    x = Conv1D(filters, kernel_size, padding='causal', dilation_rate=dilation_rate)(x)\n",
        "    x = BatchNormalization()(x)\n",
        "    # adjust shortcut if needed\n",
        "    if shortcut.shape[-1] != filters:\n",
        "        shortcut = Conv1D(filters, 1, padding='same')(shortcut)\n",
        "    # merge\n",
        "    x = add([shortcut, x])\n",
        "    x = Activation('relu')(x)\n",
        "    return x\n",
        "\n",
        "# Build TCN model\n",
        "inp = Input(shape=(X_train.shape[1], X_train.shape[2]))\n",
        "x = inp\n",
        "for d in [1, 2, 4, 8]:\n",
        "    x = residual_block(x, filters=64, kernel_size=3, dilation_rate=d)\n",
        "x = GlobalAveragePooling1D()(x)\n",
        "out = Dense(1)(x)\n",
        "\n",
        "model_tcn = Model(inp, out)\n",
        "model_tcn.compile(optimizer='adam', loss='mse', metrics=[tf.keras.metrics.RootMeanSquaredError()])\n",
        "\n",
        "callbacks = [\n",
        "    EarlyStopping(monitor='val_root_mean_squared_error', patience=2, restore_best_weights=True),\n",
        "    ReduceLROnPlateau(monitor='val_root_mean_squared_error', factor=0.5, patience=1)\n",
        "]\n",
        "\n",
        "history = model_tcn.fit(\n",
        "    X_train, y_train,\n",
        "    epochs=8,\n",
        "    batch_size=64,\n",
        "    validation_split=0.1,\n",
        "    callbacks=callbacks,\n",
        "    verbose=2\n",
        ")\n"
      ],
      "metadata": {
        "colab": {
          "base_uri": "https://localhost:8080/"
        },
        "id": "ZF8Rz6_TXStS",
        "outputId": "82929dfc-9b38-4a05-aa11-86803e98825e"
      },
      "execution_count": null,
      "outputs": [
        {
          "output_type": "stream",
          "name": "stdout",
          "text": [
            "Epoch 1/8\n",
            "432/432 - 31s - 72ms/step - loss: 0.5168 - root_mean_squared_error: 0.7189 - val_loss: 0.4046 - val_root_mean_squared_error: 0.6361 - learning_rate: 1.0000e-03\n",
            "Epoch 2/8\n",
            "432/432 - 22s - 51ms/step - loss: 0.2997 - root_mean_squared_error: 0.5474 - val_loss: 0.3886 - val_root_mean_squared_error: 0.6234 - learning_rate: 1.0000e-03\n",
            "Epoch 3/8\n",
            "432/432 - 41s - 95ms/step - loss: 0.2351 - root_mean_squared_error: 0.4849 - val_loss: 0.4309 - val_root_mean_squared_error: 0.6564 - learning_rate: 1.0000e-03\n",
            "Epoch 4/8\n",
            "432/432 - 55s - 127ms/step - loss: 0.1620 - root_mean_squared_error: 0.4024 - val_loss: 0.3858 - val_root_mean_squared_error: 0.6211 - learning_rate: 5.0000e-04\n",
            "Epoch 5/8\n",
            "432/432 - 26s - 60ms/step - loss: 0.1334 - root_mean_squared_error: 0.3652 - val_loss: 0.3903 - val_root_mean_squared_error: 0.6248 - learning_rate: 5.0000e-04\n",
            "Epoch 6/8\n",
            "432/432 - 43s - 100ms/step - loss: 0.1021 - root_mean_squared_error: 0.3195 - val_loss: 0.3843 - val_root_mean_squared_error: 0.6199 - learning_rate: 2.5000e-04\n",
            "Epoch 7/8\n",
            "432/432 - 22s - 50ms/step - loss: 0.0889 - root_mean_squared_error: 0.2982 - val_loss: 0.3801 - val_root_mean_squared_error: 0.6165 - learning_rate: 2.5000e-04\n",
            "Epoch 8/8\n",
            "432/432 - 42s - 96ms/step - loss: 0.0791 - root_mean_squared_error: 0.2813 - val_loss: 0.3933 - val_root_mean_squared_error: 0.6271 - learning_rate: 2.5000e-04\n"
          ]
        }
      ]
    },
    {
      "cell_type": "code",
      "source": [
        "# 1. Compute training RMSE on X_train\n",
        "train_preds = model_tcn.predict(X_train)\n",
        "train_rmse = np.sqrt(mean_squared_error(y_train, train_preds))\n",
        "print(f\"TCN Training RMSE: {train_rmse:.2f}\")\n",
        "\n",
        "# 2. Plot training & validation loss (MSE)\n",
        "plt.figure(figsize=(10, 6))\n",
        "plt.plot(history.history['loss'], label='Training Loss (MSE)')\n",
        "if 'val_loss' in history.history:\n",
        "    plt.plot(history.history['val_loss'], label='Validation Loss (MSE)')\n",
        "plt.title('TCN: Loss During Training')\n",
        "plt.xlabel('Epoch')\n",
        "plt.ylabel('Loss (MSE)')\n",
        "plt.legend()\n",
        "plt.show()\n",
        "\n",
        "# 3. Plot training & validation RMSE\n",
        "# Note: history may have 'root_mean_squared_error' and 'val_root_mean_squared_error'\n",
        "plt.figure(figsize=(10, 6))\n",
        "if 'root_mean_squared_error' in history.history:\n",
        "    plt.plot(history.history['root_mean_squared_error'], label='Train RMSE')\n",
        "if 'val_root_mean_squared_error' in history.history:\n",
        "    plt.plot(history.history['val_root_mean_squared_error'], label='Val RMSE')\n",
        "plt.title('TCN: RMSE During Training')\n",
        "plt.xlabel('Epoch')\n",
        "plt.ylabel('RMSE')\n",
        "plt.legend()\n",
        "plt.show()\n"
      ],
      "metadata": {
        "colab": {
          "base_uri": "https://localhost:8080/",
          "height": 1000
        },
        "id": "BVww5fvtYRzQ",
        "outputId": "3fa73f47-b38c-41b0-900b-251ddfffcbb9"
      },
      "execution_count": null,
      "outputs": [
        {
          "output_type": "stream",
          "name": "stdout",
          "text": [
            "\u001b[1m958/958\u001b[0m \u001b[32m━━━━━━━━━━━━━━━━━━━━\u001b[0m\u001b[37m\u001b[0m \u001b[1m11s\u001b[0m 12ms/step\n",
            "TCN Training RMSE: 0.35\n"
          ]
        },
        {
          "output_type": "display_data",
          "data": {
            "text/plain": [
              "<Figure size 1000x600 with 1 Axes>"
            ],
            "image/png": "[encoded data removed]"
          },
          "metadata": {}
        },
        {
          "output_type": "display_data",
          "data": {
            "text/plain": [
              "<Figure size 1000x600 with 1 Axes>"
            ],
            "image/png": "[encoded data removed]"
          },
          "metadata": {}
        }
      ]
    },
    {
      "cell_type": "code",
      "source": [
        "# 1. Make predictions on the test set\n",
        "tcn_preds = model_tcn.predict(X_test)\n",
        "print(f\"Raw TCN predictions shape: {tcn_preds.shape}\")\n",
        "\n",
        "# 2. Inverse-transform back to original PM2.5 scale\n",
        "tcn_preds_orig = target_scaler.inverse_transform(tcn_preds)\n",
        "\n",
        "# 3. Clip negatives to zero, round, and flatten\n",
        "tcn_preds_clipped = np.maximum(tcn_preds_orig, 0)\n",
        "tcn_preds_final = np.round(tcn_preds_clipped).astype(int).flatten()\n",
        "print(f\"Final TCN predictions shape: {tcn_preds_final.shape}\")\n",
        "print(f\"Range: {tcn_preds_final.min()} – {tcn_preds_final.max()}, Mean: {tcn_preds_final.mean():.2f}\")\n",
        "\n",
        "# 4. Reconstruct full date index (padding first sequence_length hours)\n",
        "if 'datetime' in test_df_processed.columns:\n",
        "    all_dates = pd.to_datetime(test_df_processed['datetime'])\n",
        "else:\n",
        "    all_dates = test_df_processed.index\n",
        "\n",
        "# Pad the first `sequence_length` entries with the first prediction\n",
        "pad = np.full(sequence_length, tcn_preds_final[0], dtype=int)\n",
        "all_preds = np.concatenate([pad, tcn_preds_final])\n",
        "print(f\"Padded predictions length: {len(all_preds)}, Dates length: {len(all_dates)}\")\n",
        "\n",
        "# 5. Build submission DataFrame\n",
        "submission_tcn = pd.DataFrame({\n",
        "    'row ID': all_dates.dt.strftime('%Y-%m-%d %-H:%M:%S'),\n",
        "    'pm2.5': all_preds\n",
        "})\n",
        "\n",
        "# 6. Dedupe, sort, and save\n",
        "submission_tcn = submission_tcn.drop_duplicates('row ID').sort_values('row ID').reset_index(drop=True)\n",
        "submission_tcn.to_csv('submission_tcn.csv', index=False)\n",
        "print(\"Saved TCN submission to 'submission_tcn.csv'\")\n",
        "\n",
        "# 7. Quick validation\n",
        "print(\"\\nSubmission stats:\")\n",
        "print(f\"Missing values: {submission_tcn.isnull().sum().sum()}\")\n",
        "print(f\"Duplicate row IDs: {submission_tcn['row ID'].duplicated().sum()}\")\n",
        "print(submission_tcn['pm2.5'].describe())\n"
      ],
      "metadata": {
        "colab": {
          "base_uri": "https://localhost:8080/"
        },
        "id": "44atTduvaD3G",
        "outputId": "32fefaa1-23fb-4875-87e4-1991fc611eed"
      },
      "execution_count": null,
      "outputs": [
        {
          "output_type": "stream",
          "name": "stdout",
          "text": [
            "\u001b[1m411/411\u001b[0m \u001b[32m━━━━━━━━━━━━━━━━━━━━\u001b[0m\u001b[37m\u001b[0m \u001b[1m5s\u001b[0m 12ms/step\n",
            "Raw TCN predictions shape: (13124, 1)\n",
            "Final TCN predictions shape: (13124,)\n",
            "Range: 0 – 543, Mean: 190.48\n",
            "Padded predictions length: 13148, Dates length: 13148\n",
            "Saved TCN submission to 'submission_tcn.csv'\n",
            "\n",
            "Submission stats:\n",
            "Missing values: 0\n",
            "Duplicate row IDs: 0\n",
            "count    13148.000000\n",
            "mean       190.319516\n",
            "std        111.080571\n",
            "min          0.000000\n",
            "25%        102.000000\n",
            "50%        186.000000\n",
            "75%        273.000000\n",
            "max        543.000000\n",
            "Name: pm2.5, dtype: float64\n"
          ]
        }
      ]
    },
    {
      "cell_type": "markdown",
      "source": [
        "**TCN Model - Score: 9693.6812**\n",
        "- Temporal Convolutional Network approach\n",
        "- Residual blocks help with training deep networks\n",
        "- Better than standard CNN approaches but not as good as best GRU model\n",
        "- Shows promise but requires careful tuning of dilation rates"
      ],
      "metadata": {
        "id": "WC2wts0ojIJ1"
      }
    },
    {
      "cell_type": "markdown",
      "source": [
        "### **GRU Based Model**"
      ],
      "metadata": {
        "id": "ZO-zYfhtbp1b"
      }
    },
    {
      "cell_type": "code",
      "source": [
        "model_gru = Sequential([\n",
        "    Bidirectional(GRU(64, return_sequences=True, activation='tanh'), input_shape=(X_train.shape[1], X_train.shape[2])),\n",
        "    Dropout(0.3),\n",
        "    Bidirectional(GRU(32, activation='tanh')),\n",
        "    Dense(1)\n",
        "])\n",
        "\n",
        "model_gru.compile(optimizer='adam', loss='mse', metrics=[tf.keras.metrics.RootMeanSquaredError()])\n",
        "\n",
        "callbacks = [\n",
        "    EarlyStopping(monitor='val_root_mean_squared_error', patience=2, restore_best_weights=True),\n",
        "    ReduceLROnPlateau(monitor='val_root_mean_squared_error', factor=0.5, patience=1)\n",
        "]\n",
        "\n",
        "history = model_gru.fit(\n",
        "    X_train, y_train,\n",
        "    epochs=8,\n",
        "    batch_size=64,\n",
        "    validation_split=0.1,\n",
        "    callbacks=callbacks,\n",
        "    verbose=2\n",
        ")\n"
      ],
      "metadata": {
        "colab": {
          "base_uri": "https://localhost:8080/"
        },
        "id": "HD0w15XWbpNG",
        "outputId": "b2184f4e-2282-4211-df9d-feaad2a35d58"
      },
      "execution_count": null,
      "outputs": [
        {
          "output_type": "stream",
          "name": "stdout",
          "text": [
            "Epoch 1/8\n",
            "432/432 - 42s - 98ms/step - loss: 0.4014 - root_mean_squared_error: 0.6336 - val_loss: 0.3474 - val_root_mean_squared_error: 0.5894 - learning_rate: 1.0000e-03\n",
            "Epoch 2/8\n",
            "432/432 - 40s - 93ms/step - loss: 0.3261 - root_mean_squared_error: 0.5711 - val_loss: 0.3227 - val_root_mean_squared_error: 0.5681 - learning_rate: 1.0000e-03\n",
            "Epoch 3/8\n",
            "432/432 - 31s - 72ms/step - loss: 0.2980 - root_mean_squared_error: 0.5459 - val_loss: 0.3061 - val_root_mean_squared_error: 0.5533 - learning_rate: 1.0000e-03\n",
            "Epoch 4/8\n",
            "432/432 - 41s - 96ms/step - loss: 0.2733 - root_mean_squared_error: 0.5228 - val_loss: 0.3003 - val_root_mean_squared_error: 0.5480 - learning_rate: 1.0000e-03\n",
            "Epoch 5/8\n",
            "432/432 - 30s - 70ms/step - loss: 0.2444 - root_mean_squared_error: 0.4944 - val_loss: 0.3048 - val_root_mean_squared_error: 0.5521 - learning_rate: 1.0000e-03\n",
            "Epoch 6/8\n",
            "432/432 - 36s - 84ms/step - loss: 0.2063 - root_mean_squared_error: 0.4542 - val_loss: 0.3087 - val_root_mean_squared_error: 0.5556 - learning_rate: 5.0000e-04\n"
          ]
        }
      ]
    },
    {
      "cell_type": "code",
      "source": [
        "model_gru.summary()"
      ],
      "metadata": {
        "colab": {
          "base_uri": "https://localhost:8080/",
          "height": 278
        },
        "id": "80psnuoqdXJI",
        "outputId": "a52bdce2-3202-4379-de34-00e48b457d64"
      },
      "execution_count": null,
      "outputs": [
        {
          "output_type": "display_data",
          "data": {
            "text/plain": [
              "\u001b[1mModel: \"sequential_7\"\u001b[0m\n"
            ],
            "text/html": [
              "<pre style=\"white-space:pre;overflow-x:auto;line-height:normal;font-family:Menlo,'DejaVu Sans Mono',consolas,'Courier New',monospace\"><span style=\"font-weight: bold\">Model: \"sequential_7\"</span>\n",
              "</pre>\n"
            ]
          },
          "metadata": {}
        },
        {
          "output_type": "display_data",
          "data": {
            "text/plain": [
              "┏━━━━━━━━━━━━━━━━━━━━━━━━━━━━━━━━━┳━━━━━━━━━━━━━━━━━━━━━━━━┳━━━━━━━━━━━━━━━┓\n",
              "┃\u001b[1m \u001b[0m\u001b[1mLayer (type)                   \u001b[0m\u001b[1m \u001b[0m┃\u001b[1m \u001b[0m\u001b[1mOutput Shape          \u001b[0m\u001b[1m \u001b[0m┃\u001b[1m \u001b[0m\u001b[1m      Param #\u001b[0m\u001b[1m \u001b[0m┃\n",
              "┡━━━━━━━━━━━━━━━━━━━━━━━━━━━━━━━━━╇━━━━━━━━━━━━━━━━━━━━━━━━╇━━━━━━━━━━━━━━━┩\n",
              "│ bidirectional_4 (\u001b[38;5;33mBidirectional\u001b[0m) │ (\u001b[38;5;45mNone\u001b[0m, \u001b[38;5;34m24\u001b[0m, \u001b[38;5;34m128\u001b[0m)        │        \u001b[38;5;34m33,408\u001b[0m │\n",
              "├─────────────────────────────────┼────────────────────────┼───────────────┤\n",
              "│ dropout_15 (\u001b[38;5;33mDropout\u001b[0m)            │ (\u001b[38;5;45mNone\u001b[0m, \u001b[38;5;34m24\u001b[0m, \u001b[38;5;34m128\u001b[0m)        │             \u001b[38;5;34m0\u001b[0m │\n",
              "├─────────────────────────────────┼────────────────────────┼───────────────┤\n",
              "│ bidirectional_5 (\u001b[38;5;33mBidirectional\u001b[0m) │ (\u001b[38;5;45mNone\u001b[0m, \u001b[38;5;34m64\u001b[0m)             │        \u001b[38;5;34m31,104\u001b[0m │\n",
              "├─────────────────────────────────┼────────────────────────┼───────────────┤\n",
              "│ dense_21 (\u001b[38;5;33mDense\u001b[0m)                │ (\u001b[38;5;45mNone\u001b[0m, \u001b[38;5;34m1\u001b[0m)              │            \u001b[38;5;34m65\u001b[0m │\n",
              "└─────────────────────────────────┴────────────────────────┴───────────────┘\n"
            ],
            "text/html": [
              "<pre style=\"white-space:pre;overflow-x:auto;line-height:normal;font-family:Menlo,'DejaVu Sans Mono',consolas,'Courier New',monospace\">┏━━━━━━━━━━━━━━━━━━━━━━━━━━━━━━━━━┳━━━━━━━━━━━━━━━━━━━━━━━━┳━━━━━━━━━━━━━━━┓\n",
              "┃<span style=\"font-weight: bold\"> Layer (type)                    </span>┃<span style=\"font-weight: bold\"> Output Shape           </span>┃<span style=\"font-weight: bold\">       Param # </span>┃\n",
              "┡━━━━━━━━━━━━━━━━━━━━━━━━━━━━━━━━━╇━━━━━━━━━━━━━━━━━━━━━━━━╇━━━━━━━━━━━━━━━┩\n",
              "│ bidirectional_4 (<span style=\"color: #0087ff; text-decoration-color: #0087ff\">Bidirectional</span>) │ (<span style=\"color: #00d7ff; text-decoration-color: #00d7ff\">None</span>, <span style=\"color: #00af00; text-decoration-color: #00af00\">24</span>, <span style=\"color: #00af00; text-decoration-color: #00af00\">128</span>)        │        <span style=\"color: #00af00; text-decoration-color: #00af00\">33,408</span> │\n",
              "├─────────────────────────────────┼────────────────────────┼───────────────┤\n",
              "│ dropout_15 (<span style=\"color: #0087ff; text-decoration-color: #0087ff\">Dropout</span>)            │ (<span style=\"color: #00d7ff; text-decoration-color: #00d7ff\">None</span>, <span style=\"color: #00af00; text-decoration-color: #00af00\">24</span>, <span style=\"color: #00af00; text-decoration-color: #00af00\">128</span>)        │             <span style=\"color: #00af00; text-decoration-color: #00af00\">0</span> │\n",
              "├─────────────────────────────────┼────────────────────────┼───────────────┤\n",
              "│ bidirectional_5 (<span style=\"color: #0087ff; text-decoration-color: #0087ff\">Bidirectional</span>) │ (<span style=\"color: #00d7ff; text-decoration-color: #00d7ff\">None</span>, <span style=\"color: #00af00; text-decoration-color: #00af00\">64</span>)             │        <span style=\"color: #00af00; text-decoration-color: #00af00\">31,104</span> │\n",
              "├─────────────────────────────────┼────────────────────────┼───────────────┤\n",
              "│ dense_21 (<span style=\"color: #0087ff; text-decoration-color: #0087ff\">Dense</span>)                │ (<span style=\"color: #00d7ff; text-decoration-color: #00d7ff\">None</span>, <span style=\"color: #00af00; text-decoration-color: #00af00\">1</span>)              │            <span style=\"color: #00af00; text-decoration-color: #00af00\">65</span> │\n",
              "└─────────────────────────────────┴────────────────────────┴───────────────┘\n",
              "</pre>\n"
            ]
          },
          "metadata": {}
        },
        {
          "output_type": "display_data",
          "data": {
            "text/plain": [
              "\u001b[1m Total params: \u001b[0m\u001b[38;5;34m193,733\u001b[0m (756.77 KB)\n"
            ],
            "text/html": [
              "<pre style=\"white-space:pre;overflow-x:auto;line-height:normal;font-family:Menlo,'DejaVu Sans Mono',consolas,'Courier New',monospace\"><span style=\"font-weight: bold\"> Total params: </span><span style=\"color: #00af00; text-decoration-color: #00af00\">193,733</span> (756.77 KB)\n",
              "</pre>\n"
            ]
          },
          "metadata": {}
        },
        {
          "output_type": "display_data",
          "data": {
            "text/plain": [
              "\u001b[1m Trainable params: \u001b[0m\u001b[38;5;34m64,577\u001b[0m (252.25 KB)\n"
            ],
            "text/html": [
              "<pre style=\"white-space:pre;overflow-x:auto;line-height:normal;font-family:Menlo,'DejaVu Sans Mono',consolas,'Courier New',monospace\"><span style=\"font-weight: bold\"> Trainable params: </span><span style=\"color: #00af00; text-decoration-color: #00af00\">64,577</span> (252.25 KB)\n",
              "</pre>\n"
            ]
          },
          "metadata": {}
        },
        {
          "output_type": "display_data",
          "data": {
            "text/plain": [
              "\u001b[1m Non-trainable params: \u001b[0m\u001b[38;5;34m0\u001b[0m (0.00 B)\n"
            ],
            "text/html": [
              "<pre style=\"white-space:pre;overflow-x:auto;line-height:normal;font-family:Menlo,'DejaVu Sans Mono',consolas,'Courier New',monospace\"><span style=\"font-weight: bold\"> Non-trainable params: </span><span style=\"color: #00af00; text-decoration-color: #00af00\">0</span> (0.00 B)\n",
              "</pre>\n"
            ]
          },
          "metadata": {}
        },
        {
          "output_type": "display_data",
          "data": {
            "text/plain": [
              "\u001b[1m Optimizer params: \u001b[0m\u001b[38;5;34m129,156\u001b[0m (504.52 KB)\n"
            ],
            "text/html": [
              "<pre style=\"white-space:pre;overflow-x:auto;line-height:normal;font-family:Menlo,'DejaVu Sans Mono',consolas,'Courier New',monospace\"><span style=\"font-weight: bold\"> Optimizer params: </span><span style=\"color: #00af00; text-decoration-color: #00af00\">129,156</span> (504.52 KB)\n",
              "</pre>\n"
            ]
          },
          "metadata": {}
        }
      ]
    },
    {
      "cell_type": "code",
      "source": [
        "# 1. Compute training RMSE on X_train\n",
        "train_preds_gru = model_gru.predict(X_train)\n",
        "train_rmse_gru = np.sqrt(mean_squared_error(y_train, train_preds_gru))\n",
        "print(f\"GRU Stack Training RMSE: {train_rmse_gru:.2f}\")\n",
        "history_gru = history\n",
        "# 2. Plot training & validation loss (MSE)\n",
        "plt.figure(figsize=(10, 6))\n",
        "plt.plot(history_gru.history['loss'], label='Training Loss (MSE)')\n",
        "if 'val_loss' in history_gru.history:\n",
        "    plt.plot(history_gru.history['val_loss'], label='Validation Loss (MSE)')\n",
        "plt.title('GRU Stack: Loss During Training')\n",
        "plt.xlabel('Epoch')\n",
        "plt.ylabel('Loss (MSE)')\n",
        "plt.legend()\n",
        "plt.show()\n",
        "\n",
        "# 3. Plot training & validation RMSE\n",
        "plt.figure(figsize=(10, 6))\n",
        "if 'root_mean_squared_error' in history_gru.history:\n",
        "    plt.plot(history_gru.history['root_mean_squared_error'], label='Train RMSE')\n",
        "if 'val_root_mean_squared_error' in history_gru.history:\n",
        "    plt.plot(history_gru.history['val_root_mean_squared_error'], label='Val RMSE')\n",
        "plt.title('GRU Stack: RMSE During Training')\n",
        "plt.xlabel('Epoch')\n",
        "plt.ylabel('RMSE')\n",
        "plt.legend()\n",
        "plt.show()"
      ],
      "metadata": {
        "colab": {
          "base_uri": "https://localhost:8080/",
          "height": 1000
        },
        "id": "T6jlSNS4c2QL",
        "outputId": "f45ea3e9-84c8-4a26-9278-88d3d3022818"
      },
      "execution_count": null,
      "outputs": [
        {
          "output_type": "stream",
          "name": "stdout",
          "text": [
            "\u001b[1m958/958\u001b[0m \u001b[32m━━━━━━━━━━━━━━━━━━━━\u001b[0m\u001b[37m\u001b[0m \u001b[1m13s\u001b[0m 13ms/step\n",
            "GRU Stack Training RMSE: 0.50\n"
          ]
        },
        {
          "output_type": "display_data",
          "data": {
            "text/plain": [
              "<Figure size 1000x600 with 1 Axes>"
            ],
            "image/png": "[encoded data removed]"
          },
          "metadata": {}
        },
        {
          "output_type": "display_data",
          "data": {
            "text/plain": [
              "<Figure size 1000x600 with 1 Axes>"
            ],
            "image/png": "[encoded data removed]"
          },
          "metadata": {}
        }
      ]
    },
    {
      "cell_type": "code",
      "source": [
        "# 1. Predict on test set\n",
        "gru_preds = model_gru.predict(X_test)\n",
        "print(f\"Raw GRU predictions shape: {gru_preds.shape}\")\n",
        "\n",
        "# 2. Inverse-transform back to original PM2.5 scale\n",
        "gru_preds_orig = target_scaler.inverse_transform(gru_preds)\n",
        "\n",
        "# 3. Clip negatives, round, flatten\n",
        "gru_preds_clipped = np.maximum(gru_preds_orig, 0)\n",
        "gru_preds_final = np.round(gru_preds_clipped).astype(int).flatten()\n",
        "print(f\"Final GRU predictions shape: {gru_preds_final.shape}\")\n",
        "print(f\"Range: {gru_preds_final.min()} – {gru_preds_final.max()}, Mean: {gru_preds_final.mean():.2f}\")\n",
        "\n",
        "# 4. Reconstruct dates (pad first sequence_length entries)\n",
        "if 'datetime' in test_df_processed.columns:\n",
        "    all_dates = pd.to_datetime(test_df_processed['datetime'])\n",
        "else:\n",
        "    all_dates = test_df_processed.index\n",
        "\n",
        "pad = np.full(sequence_length, gru_preds_final[0], dtype=int)\n",
        "all_preds = np.concatenate([pad, gru_preds_final])\n",
        "print(f\"Padded length: {len(all_preds)}, Dates length: {len(all_dates)}\")\n",
        "\n",
        "# 5. Build submission DataFrame\n",
        "submission_gru = pd.DataFrame({\n",
        "    'row ID': all_dates.dt.strftime('%Y-%m-%d %-H:%M:%S'),\n",
        "    'pm2.5': all_preds\n",
        "})\n",
        "\n",
        "# 6. Deduplicate, sort, save\n",
        "submission_gru = (\n",
        "    submission_gru\n",
        "    .drop_duplicates('row ID')\n",
        "    .sort_values('row ID')\n",
        "    .reset_index(drop=True)\n",
        ")\n",
        "submission_gru.to_csv('submission_gru.csv', index=False)\n",
        "print(\"Saved GRU submission to 'submission_gru.csv'\")\n",
        "\n",
        "# 7. Quick validation\n",
        "print(\"\\nSubmission stats:\")\n",
        "print(f\"Missing values: {submission_gru.isnull().sum().sum()}\")\n",
        "print(f\"Duplicate row IDs: {submission_gru['row ID'].duplicated().sum()}\")\n",
        "print(submission_gru['pm2.5'].describe())"
      ],
      "metadata": {
        "colab": {
          "base_uri": "https://localhost:8080/"
        },
        "id": "-aKCt7mvdEfq",
        "outputId": "dd23f8e0-a7e1-49a5-f4f9-561b642060bb"
      },
      "execution_count": null,
      "outputs": [
        {
          "output_type": "stream",
          "name": "stdout",
          "text": [
            "\u001b[1m411/411\u001b[0m \u001b[32m━━━━━━━━━━━━━━━━━━━━\u001b[0m\u001b[37m\u001b[0m \u001b[1m5s\u001b[0m 12ms/step\n",
            "Raw GRU predictions shape: (13124, 1)\n",
            "Final GRU predictions shape: (13124,)\n",
            "Range: 0 – 389, Mean: 163.91\n",
            "Padded length: 13148, Dates length: 13148\n",
            "Saved GRU submission to 'submission_gru.csv'\n",
            "\n",
            "Submission stats:\n",
            "Missing values: 0\n",
            "Duplicate row IDs: 0\n",
            "count    13148.000000\n",
            "mean       163.915957\n",
            "std         97.733292\n",
            "min          0.000000\n",
            "25%         69.000000\n",
            "50%        177.000000\n",
            "75%        245.000000\n",
            "max        389.000000\n",
            "Name: pm2.5, dtype: float64\n"
          ]
        }
      ]
    },
    {
      "cell_type": "markdown",
      "source": [
        "**GRU Based Model - Score: 10026.5775**\n",
        "- Pure GRU architecture\n",
        "- Good performance but slightly worse than Model 4\n",
        "- Suggests that additional architectural elements in Model 4 (BatchNorm, etc.) provide benefits"
      ],
      "metadata": {
        "id": "ntca2KpGjdMO"
      }
    },
    {
      "cell_type": "markdown",
      "source": [
        "## **Lessons and Recommendations**"
      ],
      "metadata": {
        "id": "Wq51yeBUj-YW"
      }
    },
    {
      "cell_type": "markdown",
      "source": [
        "#### **What Didn't Work**\n",
        "1. **Overcomplicated architectures (Models 5,7,8)** led to worse performance likely due to:\n",
        "- Difficulty in training very deep networks\n",
        "- Potential overfitting despite regularization\n",
        "- Mismatch between model architecture and data characteristics\n",
        "2. The **CNN components (Models 5)** didn't provide the expected benefits, suggesting that local feature extraction might not be as valuable as global temporal dependency modeling for this specific problem"
      ],
      "metadata": {
        "id": "M_HXcWS6kOg3"
      }
    },
    {
      "cell_type": "markdown",
      "source": [
        "#### **Recommendations**\n",
        "1. Focus on GRU-based architectures as they showed best performance\n",
        "2. Experiment with different regularization techniques for the best models\n",
        "3. Consider adding more relevant weather features if available\n",
        "4. Try different sequence lengths to see if 24 hours is optimal\n"
      ],
      "metadata": {
        "id": "ZS2qhMSflGRV"
      }
    }
  ]
}